{
 "cells": [
  {
   "cell_type": "code",
   "execution_count": 74,
   "metadata": {},
   "outputs": [],
   "source": [
    "import pandas as pd\n",
    "import numpy as np\n",
    "import re"
   ]
  },
  {
   "cell_type": "code",
   "execution_count": 2,
   "metadata": {},
   "outputs": [],
   "source": [
    "df = pd.read_csv('data_final.csv')"
   ]
  },
  {
   "cell_type": "code",
   "execution_count": 3,
   "metadata": {},
   "outputs": [
    {
     "data": {
      "text/plain": [
       "(37790, 6)"
      ]
     },
     "execution_count": 3,
     "metadata": {},
     "output_type": "execute_result"
    }
   ],
   "source": [
    "df.shape"
   ]
  },
  {
   "cell_type": "code",
   "execution_count": 4,
   "metadata": {},
   "outputs": [
    {
     "data": {
      "text/html": [
       "<div>\n",
       "<style scoped>\n",
       "    .dataframe tbody tr th:only-of-type {\n",
       "        vertical-align: middle;\n",
       "    }\n",
       "\n",
       "    .dataframe tbody tr th {\n",
       "        vertical-align: top;\n",
       "    }\n",
       "\n",
       "    .dataframe thead th {\n",
       "        text-align: right;\n",
       "    }\n",
       "</style>\n",
       "<table border=\"1\" class=\"dataframe\">\n",
       "  <thead>\n",
       "    <tr style=\"text-align: right;\">\n",
       "      <th></th>\n",
       "      <th>ID commande</th>\n",
       "      <th>Nom du fabricant</th>\n",
       "      <th>Product Category Default</th>\n",
       "      <th>Article</th>\n",
       "      <th>Code postal (Facture)</th>\n",
       "      <th>Ville (Facture)</th>\n",
       "    </tr>\n",
       "  </thead>\n",
       "  <tbody>\n",
       "    <tr>\n",
       "      <th>0</th>\n",
       "      <td>1743</td>\n",
       "      <td>FERME BIXARTEA</td>\n",
       "      <td>CRÈMERIE</td>\n",
       "      <td>breuil (375g).</td>\n",
       "      <td>64250.0</td>\n",
       "      <td>SAINT PALAIS</td>\n",
       "    </tr>\n",
       "    <tr>\n",
       "      <th>1</th>\n",
       "      <td>1743</td>\n",
       "      <td>FERME BIXARTEA</td>\n",
       "      <td>FROMAGES</td>\n",
       "      <td>fromage de brebis fermier (650g environ) +6 mo...</td>\n",
       "      <td>64250.0</td>\n",
       "      <td>SAINT PALAIS</td>\n",
       "    </tr>\n",
       "    <tr>\n",
       "      <th>2</th>\n",
       "      <td>1743</td>\n",
       "      <td>FERME AROZTEGIA</td>\n",
       "      <td>FRUITS &amp; LÉGUMES</td>\n",
       "      <td>radis noir (la botte)</td>\n",
       "      <td>64250.0</td>\n",
       "      <td>SAINT PALAIS</td>\n",
       "    </tr>\n",
       "    <tr>\n",
       "      <th>3</th>\n",
       "      <td>1743</td>\n",
       "      <td>FERME ESNEKIAK</td>\n",
       "      <td>CRÈMERIE</td>\n",
       "      <td>Yaourt nature bio au lait entier (4 x125 gr).</td>\n",
       "      <td>64250.0</td>\n",
       "      <td>SAINT PALAIS</td>\n",
       "    </tr>\n",
       "    <tr>\n",
       "      <th>4</th>\n",
       "      <td>1743</td>\n",
       "      <td>FERME BELAZKABIETA</td>\n",
       "      <td>ÉPICERIE</td>\n",
       "      <td>BIZIGAI Piment d'Espelette AOP (50 gr)</td>\n",
       "      <td>64250.0</td>\n",
       "      <td>SAINT PALAIS</td>\n",
       "    </tr>\n",
       "  </tbody>\n",
       "</table>\n",
       "</div>"
      ],
      "text/plain": [
       "   ID commande    Nom du fabricant Product Category Default  \\\n",
       "0         1743      FERME BIXARTEA                 CRÈMERIE   \n",
       "1         1743      FERME BIXARTEA                 FROMAGES   \n",
       "2         1743     FERME AROZTEGIA         FRUITS & LÉGUMES   \n",
       "3         1743      FERME ESNEKIAK                 CRÈMERIE   \n",
       "4         1743  FERME BELAZKABIETA                 ÉPICERIE   \n",
       "\n",
       "                                             Article  Code postal (Facture)  \\\n",
       "0                                     breuil (375g).                64250.0   \n",
       "1  fromage de brebis fermier (650g environ) +6 mo...                64250.0   \n",
       "2                              radis noir (la botte)                64250.0   \n",
       "3      Yaourt nature bio au lait entier (4 x125 gr).                64250.0   \n",
       "4             BIZIGAI Piment d'Espelette AOP (50 gr)                64250.0   \n",
       "\n",
       "  Ville (Facture)  \n",
       "0    SAINT PALAIS  \n",
       "1    SAINT PALAIS  \n",
       "2    SAINT PALAIS  \n",
       "3    SAINT PALAIS  \n",
       "4    SAINT PALAIS  "
      ]
     },
     "execution_count": 4,
     "metadata": {},
     "output_type": "execute_result"
    }
   ],
   "source": [
    "df.head()"
   ]
  },
  {
   "cell_type": "markdown",
   "metadata": {},
   "source": [
    "## 1 Modification du nom des colonnes"
   ]
  },
  {
   "cell_type": "code",
   "execution_count": 5,
   "metadata": {},
   "outputs": [
    {
     "data": {
      "text/plain": [
       "Index(['ID commande', 'Nom du fabricant', 'Product Category Default',\n",
       "       'Article', 'Code postal (Facture)', 'Ville (Facture)'],\n",
       "      dtype='object')"
      ]
     },
     "execution_count": 5,
     "metadata": {},
     "output_type": "execute_result"
    }
   ],
   "source": [
    "df.columns"
   ]
  },
  {
   "cell_type": "code",
   "execution_count": 6,
   "metadata": {},
   "outputs": [],
   "source": [
    "df.columns = ['commande','producteur','categorie','nom_produit','code_postal','commune']"
   ]
  },
  {
   "cell_type": "markdown",
   "metadata": {},
   "source": [
    "## 2 Modification contenu code_postal"
   ]
  },
  {
   "cell_type": "code",
   "execution_count": 7,
   "metadata": {},
   "outputs": [
    {
     "data": {
      "text/plain": [
       "dtype('float64')"
      ]
     },
     "execution_count": 7,
     "metadata": {},
     "output_type": "execute_result"
    }
   ],
   "source": [
    "df.code_postal.dtypes"
   ]
  },
  {
   "cell_type": "code",
   "execution_count": 8,
   "metadata": {},
   "outputs": [],
   "source": [
    "df.code_postal = df.code_postal.astype(int)"
   ]
  },
  {
   "cell_type": "code",
   "execution_count": 9,
   "metadata": {},
   "outputs": [
    {
     "data": {
      "text/plain": [
       "commande        int64\n",
       "producteur     object\n",
       "categorie      object\n",
       "nom_produit    object\n",
       "code_postal     int64\n",
       "commune        object\n",
       "dtype: object"
      ]
     },
     "execution_count": 9,
     "metadata": {},
     "output_type": "execute_result"
    }
   ],
   "source": [
    "df.dtypes"
   ]
  },
  {
   "cell_type": "code",
   "execution_count": 10,
   "metadata": {
    "scrolled": true
   },
   "outputs": [
    {
     "data": {
      "text/html": [
       "<div>\n",
       "<style scoped>\n",
       "    .dataframe tbody tr th:only-of-type {\n",
       "        vertical-align: middle;\n",
       "    }\n",
       "\n",
       "    .dataframe tbody tr th {\n",
       "        vertical-align: top;\n",
       "    }\n",
       "\n",
       "    .dataframe thead th {\n",
       "        text-align: right;\n",
       "    }\n",
       "</style>\n",
       "<table border=\"1\" class=\"dataframe\">\n",
       "  <thead>\n",
       "    <tr style=\"text-align: right;\">\n",
       "      <th></th>\n",
       "      <th>commande</th>\n",
       "      <th>producteur</th>\n",
       "      <th>categorie</th>\n",
       "      <th>nom_produit</th>\n",
       "      <th>code_postal</th>\n",
       "      <th>commune</th>\n",
       "    </tr>\n",
       "  </thead>\n",
       "  <tbody>\n",
       "    <tr>\n",
       "      <th>0</th>\n",
       "      <td>1743</td>\n",
       "      <td>FERME BIXARTEA</td>\n",
       "      <td>CRÈMERIE</td>\n",
       "      <td>breuil (375g).</td>\n",
       "      <td>64250</td>\n",
       "      <td>SAINT PALAIS</td>\n",
       "    </tr>\n",
       "    <tr>\n",
       "      <th>1</th>\n",
       "      <td>1743</td>\n",
       "      <td>FERME BIXARTEA</td>\n",
       "      <td>FROMAGES</td>\n",
       "      <td>fromage de brebis fermier (650g environ) +6 mo...</td>\n",
       "      <td>64250</td>\n",
       "      <td>SAINT PALAIS</td>\n",
       "    </tr>\n",
       "    <tr>\n",
       "      <th>2</th>\n",
       "      <td>1743</td>\n",
       "      <td>FERME AROZTEGIA</td>\n",
       "      <td>FRUITS &amp; LÉGUMES</td>\n",
       "      <td>radis noir (la botte)</td>\n",
       "      <td>64250</td>\n",
       "      <td>SAINT PALAIS</td>\n",
       "    </tr>\n",
       "    <tr>\n",
       "      <th>3</th>\n",
       "      <td>1743</td>\n",
       "      <td>FERME ESNEKIAK</td>\n",
       "      <td>CRÈMERIE</td>\n",
       "      <td>Yaourt nature bio au lait entier (4 x125 gr).</td>\n",
       "      <td>64250</td>\n",
       "      <td>SAINT PALAIS</td>\n",
       "    </tr>\n",
       "    <tr>\n",
       "      <th>4</th>\n",
       "      <td>1743</td>\n",
       "      <td>FERME BELAZKABIETA</td>\n",
       "      <td>ÉPICERIE</td>\n",
       "      <td>BIZIGAI Piment d'Espelette AOP (50 gr)</td>\n",
       "      <td>64250</td>\n",
       "      <td>SAINT PALAIS</td>\n",
       "    </tr>\n",
       "  </tbody>\n",
       "</table>\n",
       "</div>"
      ],
      "text/plain": [
       "   commande          producteur         categorie  \\\n",
       "0      1743      FERME BIXARTEA          CRÈMERIE   \n",
       "1      1743      FERME BIXARTEA          FROMAGES   \n",
       "2      1743     FERME AROZTEGIA  FRUITS & LÉGUMES   \n",
       "3      1743      FERME ESNEKIAK          CRÈMERIE   \n",
       "4      1743  FERME BELAZKABIETA          ÉPICERIE   \n",
       "\n",
       "                                         nom_produit  code_postal  \\\n",
       "0                                     breuil (375g).        64250   \n",
       "1  fromage de brebis fermier (650g environ) +6 mo...        64250   \n",
       "2                              radis noir (la botte)        64250   \n",
       "3      Yaourt nature bio au lait entier (4 x125 gr).        64250   \n",
       "4             BIZIGAI Piment d'Espelette AOP (50 gr)        64250   \n",
       "\n",
       "        commune  \n",
       "0  SAINT PALAIS  \n",
       "1  SAINT PALAIS  \n",
       "2  SAINT PALAIS  \n",
       "3  SAINT PALAIS  \n",
       "4  SAINT PALAIS  "
      ]
     },
     "execution_count": 10,
     "metadata": {},
     "output_type": "execute_result"
    }
   ],
   "source": [
    "df.head()"
   ]
  },
  {
   "cell_type": "code",
   "execution_count": 11,
   "metadata": {},
   "outputs": [
    {
     "data": {
      "text/plain": [
       "array([64250, 64240, 64780, 64480, 64640, 64100, 64990, 64600, 64310,\n",
       "       64210, 64200, 64120, 40220, 64122, 40440, 77700, 64340, 35580,\n",
       "       40530, 31300, 24270, 64500, 38000, 64330, 64190, 64140, 64220,\n",
       "       79400, 40300, 64300, 78000, 64259, 40390])"
      ]
     },
     "execution_count": 11,
     "metadata": {},
     "output_type": "execute_result"
    }
   ],
   "source": [
    "df.code_postal.unique()"
   ]
  },
  {
   "cell_type": "code",
   "execution_count": 12,
   "metadata": {},
   "outputs": [
    {
     "data": {
      "text/plain": [
       "5270"
      ]
     },
     "execution_count": 12,
     "metadata": {},
     "output_type": "execute_result"
    }
   ],
   "source": [
    "len(df.commande.unique())"
   ]
  },
  {
   "cell_type": "code",
   "execution_count": 13,
   "metadata": {},
   "outputs": [
    {
     "data": {
      "text/plain": [
       "(37790, 6)"
      ]
     },
     "execution_count": 13,
     "metadata": {},
     "output_type": "execute_result"
    }
   ],
   "source": [
    "df.shape"
   ]
  },
  {
   "cell_type": "code",
   "execution_count": 14,
   "metadata": {},
   "outputs": [
    {
     "data": {
      "text/plain": [
       "311"
      ]
     },
     "execution_count": 14,
     "metadata": {},
     "output_type": "execute_result"
    }
   ],
   "source": [
    "\n",
    "len(df.nom_produit.unique())"
   ]
  },
  {
   "cell_type": "code",
   "execution_count": 15,
   "metadata": {},
   "outputs": [
    {
     "data": {
      "text/plain": [
       "array([\"fromage de brebis fermier (650g environ) +6 mois d'affinage.\",\n",
       "       'Fromage Pérail de brebis.',\n",
       "       \"fromage de brebis fermier (1.5kg environ) +6 mois d'affinage.\",\n",
       "       'Sarrin frais.', 'Espil.', 'Garralda.', 'Ixuri.', 'Xedarri.',\n",
       "       'Patin.',\n",
       "       \"fromage de brebis fermier (1.5 kg environ) -6 mois d'affinage.\",\n",
       "       \"fromage de brebis fermier (650g environ) -6 mois d'affinage.\",\n",
       "       \"fromage de brebis fermier (500g environ) 10/12 mois d'affinage.\",\n",
       "       \"fromage de brebis fermier (1kg environ) 10/12 mois d'affinage.\",\n",
       "       \"fromage de brebis fermier (3KG) - 6 mois d'affinage.\",\n",
       "       'Etxebazter.', 'Manex.'], dtype=object)"
      ]
     },
     "execution_count": 15,
     "metadata": {},
     "output_type": "execute_result"
    }
   ],
   "source": [
    "df[df.categorie == 'FROMAGES']['nom_produit'].unique()"
   ]
  },
  {
   "cell_type": "code",
   "execution_count": 16,
   "metadata": {},
   "outputs": [
    {
     "data": {
      "text/plain": [
       "16"
      ]
     },
     "execution_count": 16,
     "metadata": {},
     "output_type": "execute_result"
    }
   ],
   "source": [
    "len(df[df.categorie == 'FROMAGES']['nom_produit'].unique())"
   ]
  },
  {
   "cell_type": "code",
   "execution_count": 17,
   "metadata": {},
   "outputs": [
    {
     "name": "stdout",
     "output_type": "stream",
     "text": [
      "CRÈMERIE breuil (375g).\n",
      "CRÈMERIE Yaourt nature bio au lait entier (4 x125 gr).\n",
      "CRÈMERIE Fromage blanc de vache nature,lisse bio (500g).\n",
      "CRÈMERIE Yaourt a la fraise bio au lait entier  (4 x 125 gr).\n",
      "CRÈMERIE Beurre doux bio au lait cru ( 250 gr).\n",
      "CRÈMERIE Creme fraiche bio  au lait cru (250ml).\n",
      "CRÈMERIE Lait de vache demi-ecreme pasteurise bio (1L).\n",
      "CRÈMERIE Yaourt a la framboise bio  au lait entier (4 x125 gr).\n",
      "CRÈMERIE Fromage blanc de vache nature campagne bio (500g).\n",
      "CRÈMERIE Yaourt a la myrtille bio  au lait entier (4 x 125g).\n",
      "CRÈMERIE Breuil (1kg).\n",
      "CRÈMERIE Lait de vache entier pasteurise bio (1L).\n",
      "CRÈMERIE Mamia (x4).\n",
      "CRÈMERIE Breuil (500g).\n",
      "CRÈMERIE Yaourt au citron, bio,  au lait entier (4 x 125g).\n",
      "CRÈMERIE Beurre salé bio au lait cru (250g).\n",
      "CRÈMERIE Yaourt a la vanille  bio  au lait entier ( 4 x 125 gr).\n",
      "CRÈMERIE Yaourt brebis nature (lot de 4).\n",
      "CRÈMERIE Yaourt brebis fruits rouges coulis (lot de 4).\n",
      "CRÈMERIE Yaourt aux fruits, bio, au lait entier (4 x 125g).\n",
      "CRÈMERIE Yaourt brebis citron (lot de 4).\n",
      "CRÈMERIE Lait de chevre AB (1L).\n",
      "CRÈMERIE Fromage blanc de chevre (500g).\n",
      "CRÈMERIE Fromage blanc de chevre (420g).\n",
      "FROMAGES fromage de brebis fermier (650g environ) +6 mois d'affinage.\n",
      "FROMAGES Fromage Pérail de brebis.\n",
      "FROMAGES fromage de brebis fermier (1.5kg environ) +6 mois d'affinage.\n",
      "FROMAGES Sarrin frais.\n",
      "FROMAGES Espil.\n",
      "FROMAGES Garralda.\n",
      "FROMAGES Ixuri.\n",
      "FROMAGES Xedarri.\n",
      "FROMAGES Patin.\n",
      "FROMAGES fromage de brebis fermier (1.5 kg environ) -6 mois d'affinage.\n",
      "FROMAGES fromage de brebis fermier (650g environ) -6 mois d'affinage.\n",
      "FROMAGES fromage de brebis fermier (500g environ) 10/12 mois d'affinage.\n",
      "FROMAGES fromage de brebis fermier (1kg environ) 10/12 mois d'affinage.\n",
      "FROMAGES fromage de brebis fermier (3KG) - 6 mois d'affinage.\n",
      "FROMAGES Etxebazter.\n",
      "FROMAGES Manex.\n",
      "FRUITS & LÉGUMES radis noir (la botte)\n",
      "FRUITS & LÉGUMES betterave rouge (la botte)\n",
      "FRUITS & LÉGUMES courge potimarron ou butternut (1kg)\n",
      "FRUITS & LÉGUMES courge longue de naples (1kg)\n",
      "FRUITS & LÉGUMES Pomme de terre de l'année(2.5kg)\n",
      "FRUITS & LÉGUMES Persil (la botte)\n",
      "FRUITS & LÉGUMES batavia ou feuille de chene\n",
      "FRUITS & LÉGUMES assortiment chou fleur / romanesco (0,8-1kg)\n",
      "FRUITS & LÉGUMES Mache AB (200gr)\n",
      "FRUITS & LÉGUMES chou frise ou cabus (600gr a 800gr)\n",
      "FRUITS & LÉGUMES Epinard (300g)\n",
      "FRUITS & LÉGUMES chicoree scarole\n",
      "FRUITS & LÉGUMES choux de Bruxelles (500g)\n",
      "FRUITS & LÉGUMES pomme de terre vapeur (2kg)\n",
      "FRUITS & LÉGUMES navet (750g)\n",
      "FRUITS & LÉGUMES Pomme de terre de l'année (1kg)\n",
      "FRUITS & LÉGUMES chou de chine\n",
      "FRUITS & LÉGUMES Cagette \"surprise\"\n",
      "FRUITS & LÉGUMES Poireaux d'HIVER (lot de 3 ou 4)\n",
      "FRUITS & LÉGUMES Fenouil (500gr)\n",
      "FRUITS & LÉGUMES Céleri branche (le bouquet de 5 ou 6 branches)\n",
      "FRUITS & LÉGUMES Oignon  rouge ( la botte)\n",
      "FRUITS & LÉGUMES Ail sec (300gr)\n",
      "FRUITS & LÉGUMES Blette (la botte)\n",
      "FRUITS & LÉGUMES feves (1-1,2kg)\n",
      "FRUITS & LÉGUMES petit pois Mangetout\n",
      "FRUITS & LÉGUMES pomme de terre primeur 1kg\n",
      "FRUITS & LÉGUMES Cerises Bigarreau (600 gr)\n",
      "FRUITS & LÉGUMES Cerises Bigarreau (300 gr)\n",
      "FRUITS & LÉGUMES radis de printemps (la botte)\n",
      "FRUITS & LÉGUMES Courgette primeur (1kg)\n",
      "FRUITS & LÉGUMES batavia ou feuille de chene ( la paire )\n",
      "FRUITS & LÉGUMES petit pois (500g)\n",
      "FRUITS & LÉGUMES Piment doux du pays basque (250g)\n",
      "FRUITS & LÉGUMES Chou Kale (la botte)\n",
      "FRUITS & LÉGUMES Concombre (l'unité)\n",
      "FRUITS & LÉGUMES Chou rave (700gr)\n",
      "FRUITS & LÉGUMES courgette (2kg)\n",
      "FRUITS & LÉGUMES Tomate (750gr)\n",
      "FRUITS & LÉGUMES aubergine variée (750gr)\n",
      "FRUITS & LÉGUMES oignon jaune (750g)\n",
      "FRUITS & LÉGUMES Pommes Andere dona maria (1kg)\n",
      "FRUITS & LÉGUMES celeri rave (lot de 3ou4)\n",
      "FRUITS & LÉGUMES Echalote (400g)\n",
      "FRUITS & LÉGUMES Eri Sagarra Petit calibre (1kg)\n",
      "FRUITS & LÉGUMES carotte (la botte 700 a 750gr)\n",
      "FRUITS & LÉGUMES Pommes Urtats (1kg)\n",
      "FRUITS & LÉGUMES Mélange de pommes (1kg)\n",
      "FRUITS & LÉGUMES Mélange de pommes (3kg)\n",
      "FRUITS & LÉGUMES Poivron varié (750gr)\n",
      "FRUITS & LÉGUMES Pastèque en quartier de 1Kg\n",
      "FRUITS & LÉGUMES Potimarron\n",
      "FRUITS & LÉGUMES Pommes Anisa (1 kg)\n",
      "FRUITS & LÉGUMES haricots verts (750g)\n",
      "FRUITS & LÉGUMES Pêches de vigne blanches (500 gr)\n",
      "FRUITS & LÉGUMES pommes Eri sagarra (1kg)\n",
      "FRUITS & LÉGUMES Batavia ou feuille de chene\n",
      "FRUITS & LÉGUMES Chou frise ou cabus (600gr a 800gr)\n",
      "FRUITS & LÉGUMES Carotte (la botte)\n",
      "FRUITS & LÉGUMES Navet (la botte)\n",
      "FRUITS & LÉGUMES Mache (200gr)\n",
      "FRUITS & LÉGUMES Chou de chine\n",
      "FRUITS & LÉGUMES Chou Pak Choï\n",
      "FRUITS & LÉGUMES Ciboulette (la botte)\n",
      "FRUITS & LÉGUMES Radis (la botte)\n",
      "FRUITS & LÉGUMES Musquée de Provence (1kg)\n",
      "FRUITS & LÉGUMES Potimarron (1kg)\n",
      "FRUITS & LÉGUMES Pomme de terre de l'année (3kg)\n",
      "FRUITS & LÉGUMES Longue de Nice (1kg)\n",
      "FRUITS & LÉGUMES Butternut (1kg)\n",
      "FRUITS & LÉGUMES Courge spaghetti (1kg)\n",
      "FRUITS & LÉGUMES Patidou (1kg)\n",
      "FRUITS & LÉGUMES Batavia ou feuille de chene (la paire)\n",
      "FRUITS & LÉGUMES Céleri rave (lot de 3 ou 4)\n",
      "FRUITS & LÉGUMES Betterave rouge (600 gr)\n",
      "FRUITS & LÉGUMES Pommes Gordin Gorri (1kg)\n",
      "FRUITS & LÉGUMES Pommes Gordin Xuri (1kg)\n",
      "FRUITS & LÉGUMES Pommes Jinko sagarra (1kg)\n",
      "FRUITS & LÉGUMES Mesclun (220 gr)\n",
      "FRUITS & LÉGUMES Oignon  blanc frais (la botte)\n",
      "FRUITS & LÉGUMES Chou vert (l'unité)\n",
      "FRUITS & LÉGUMES Aillet frais (la botte de 6-8)\n",
      "FRUITS & LÉGUMES Roquette AB (200g)\n",
      "ÉPICERIE BIZIGAI Piment d'Espelette AOP (50 gr)\n",
      "ÉPICERIE Confiture de pêches (360g)\n",
      "ÉPICERIE compote de pommes 750g\n",
      "ÉPICERIE Coulis de Mûres (320g)\n",
      "ÉPICERIE Jus de pommes (1L)\n",
      "ÉPICERIE Confiture de Figue (360g)\n",
      "ÉPICERIE Coulis de Cassis (320g)\n",
      "ÉPICERIE Soupe de poisson (1L)\n",
      "ÉPICERIE Miel de bruyère cendrée de la forêt landaise (pot de 500g)\n",
      "ÉPICERIE Sirop de Fleurs d'Accacia (320ml)\n",
      "ÉPICERIE Confiture de cerise d'Itxassou (260 gr)\n",
      "ÉPICERIE Farine de Maïs Grand Roux Basque AB (500 gr)\n",
      "ÉPICERIE Purée de Piment d'Espelette (95 gr) SUGORRI\n",
      "ÉPICERIE Miel de Châtaigner (pot de 500g)\n",
      "ÉPICERIE gelée de pommes Anisa 190g\n",
      "ÉPICERIE Miel fleurs de printemps (500g)\n",
      "ÉPICERIE Gelée de Pommes au Piment d'Espelette (125 gr) SAGARMIN\n",
      "ÉPICERIE Confiture de prune (250 gr)\n",
      "ÉPICERIE Farine bise semi complète (1kg)\n",
      "ÉPICERIE Miel de Callune de la montagne du Pays Basque (pot de 250g)\n",
      "ÉPICERIE CIDRE FERMIER (1l)\n",
      "ÉPICERIE Sirop menthe-citron (320ml)\n",
      "ÉPICERIE Pain d'épices pur miel ( 320 gr)\n",
      "ÉPICERIE Pollen de chataigner ( 250 gr)\n",
      "ÉPICERIE Miel de Callune de la montagne du Haut béarn (pot de 250g)\n",
      "ÉPICERIE Confiture de poires (360g)\n",
      "ÉPICERIE Coulis de Pêche (320g)\n",
      "ÉPICERIE Sirop de fleurs de sureau (320ml)\n",
      "ÉPICERIE Polenta de Maïs Grand Roux Basque (500 gr)\n",
      "ÉPICERIE Miel d' Acacia (pot de 500g)\n",
      "ÉPICERIE Carton de jus de pommes (6 x 1L)\n",
      "ÉPICERIE Savon Lierre-Menthe surgras (5%)\n",
      "ÉPICERIE Savon Carotte-Ortie surgras (5%)\n",
      "ÉPICERIE Miel et safran (pot de 250gr)\n",
      "ÉPICERIE Pâte à tartiner Miel et Amande (pot de 250gr)\n",
      "ÉPICERIE Miel de tilleul montagne (pot de 500g)\n",
      "ÉPICERIE Pâte à tartiner Miel et Noisette  (pot de 250gr)\n",
      "ÉPICERIE Miel et piment d 'Espelette (pot de 250gr)\n",
      "ÉPICERIE Crème de châtaigne (250 gr)\n",
      "ÉPICERIE Purée de pomme (350 gr)\n",
      "ÉPICERIE Farine de blé T80 (1 kg)\n",
      "ÉPICERIE Farine de sarrasin (1 kg)\n",
      "ÉPICERIE Nectar de kiwi (1 L)\n",
      "ÉPICERIE Savon neutre Miel / Calendula (95 gr)\n",
      "ÉPICERIE Savon dynamisant Menthe / Citron / Argile verte (95 gr)\n",
      "ÉPICERIE Savon doux Palmarosa / Argile rose (95 gr)\n",
      "ÉPICERIE Savon apaisant Lavande (95 gr)\n",
      "ÉPICERIE Miel de ronce (250 gr)\n",
      "ÉPICERIE Confiture de groseille (360 gr)\n",
      "ÉPICERIE Vin blanc AB Chardonnay\n",
      "ÉPICERIE Vin rouge AB Merlot\n",
      "ÉPICERIE Vin rosé AB Rosado\n",
      "ÉPICERIE Vin rouge AB Graciano\n",
      "FRUITS Pommes Gordin Xuri (1kg)\n",
      "FRUITS Oranges AB (1 kg)\n",
      "FRUITS Pomelos AB (1 kg)\n",
      "FRUITS Clementines AB (1 kg)\n",
      "FRUITS Citrons AB (1 kg)\n",
      "FRUITS Kiwi vert ( 1 kg)\n",
      "FRUITS Panier d'agrumes AB (2 kg)\n",
      "VOLAILLES & OEUFS Petit poulet fermier 1,250 kg (+/- 100 gr) AB.\n",
      "VOLAILLES & OEUFS Petite pintade fermière 1,250 kg (+/- 100gr) AB.\n",
      "VOLAILLES & OEUFS Pintade fermière moyenne 1,5 kg (+/- 100gr) AB.\n",
      "VOLAILLES & OEUFS Grosse pintade fermière 1,8 kg (+/- 100gr) AB.\n",
      "VOLAILLES & OEUFS Gros poulet fermier 1,8 kg (+/- 100gr) AB.\n",
      "VOLAILLES & OEUFS Poule fermière 1,300 kg (+/- 100 gr) AB.\n",
      "VOLAILLES & OEUFS Oeufs fermiers AB (x6)\n",
      "VOLAILLES & OEUFS Oeufs fermiers AB (x12)\n",
      "VOLAILLES & OEUFS Oeufs fermiers AB (x10)\n",
      "VOLAILLES & OEUFS Oeufs fermiers AB (x12) T\n",
      "VOLAILLES & OEUFS Oeufs fermiers AB (x6) L\n",
      "VOLAILLES & OEUFS Oeufs fermiers AB (x12) L\n",
      "VIANDES Axoa de veau bio  (750g)\n",
      "VIANDES Colis de porc Kintoa (4,500kg).\n",
      "VIANDES Saucisses de Porc Basque x4 (400 gr).\n",
      "VIANDES Cotes (échine) de Porc Basque x2 (400 gr).\n",
      "VIANDES Cotes (filet) de Porc Basque x2 (350 gr).\n",
      "VIANDES Foie de veau AB (300 gr).\n",
      "VIANDES Tendrons de veau AB (1 kg).\n",
      "VIANDES Sauté de veau AB (1 kg).\n",
      "VIANDES Cotes de veau AB (500 gr).\n",
      "VIANDES Tendrons de veau AB (500 gr).\n",
      "VIANDES Sauté de veau AB (500 gr).\n",
      "VIANDES Escalopes de veau AB (500 gr).\n",
      "VIANDES Cotes de veau AB (1 kg).\n",
      "VIANDES agneau de lait (entre 6-8kg) BIXARTEA.\n",
      "VIANDES demi agneau de lait (4-4.5kg) BIXARTEA.\n",
      "VIANDES Ventrêche de Porc Basque (250 gr).\n",
      "VIANDES Pate de porc basque (190g)\n",
      "VIANDES Chichon de porc basque (180g)\n",
      "VIANDES Colis de 3Kg de steacks hachés bio ( environ 25 steacks).\n",
      "VIANDES Boudin de porc basque (190 gr)\n",
      "VIANDES 4 steacks hachés bio ( environ  500gr).\n",
      "VIANDES 8 steacks hachés bio ( environ  1 Kg).\n",
      "VIANDES Canette Kriaxera à rotir (2,9 kg - 3,1 kg).\n",
      "VIANDES Demi chevreau de lait  (colis de 3,5kg).\n",
      "VIANDES Saucisson de Porc Basque (205 gr-220 gr)\n",
      "VIANDES navarrin de chèvre (780g)\n",
      "VIANDES Veau bio (colis de 3kg).\n",
      "VIANDES Escalopes de veau AB (1 kg).\n",
      "VIANDES Saucisson de chèvre (180-200 gr)\n",
      "VIANDES Cabri massalé (590g)\n",
      "VIANDES 8 merguez de mouton (500 gr).\n",
      "VIANDES Sauté de veau bio  (750g)\n",
      "VIANDES Cabri Xilindron (390 g)\n",
      "VIANDES Foie de veau AB (500 gr).\n",
      "VIANDES Filet Mignon de Porc Basque (500 gr).\n",
      "VIANDES Chipolatas de porc basque (400 gr).\n",
      "VIANDES Boudins de Porc Basque x3 (300 gr).\n",
      "VIANDES Coustons de Porc Basque x2 (200 gr).\n",
      "VIANDES Roti (épaule) de Porc Basque (800 gr).\n",
      "VIANDES Cotes de chevreau de lait (250 gr).\n",
      "VIANDES Abats de chevreau de lait (450 gr).\n",
      "VIANDES Carré de cotes de chevreau de lait (600 gr).\n",
      "VIANDES Collier de chevreau de lait (500 gr).\n",
      "VIANDES Gigot de chevreau tranché (250 gr).\n",
      "VIANDES Gigot de chevreau de lait (900 gr).\n",
      "VIANDES Epaule de chevreau de lait (600 gr).\n",
      "VIANDES Saucisson de Porc Basque (230 gr-260 gr)\n",
      "VIANDES Foie de veau (200 gr) E.\n",
      "VIANDES Escalopes de veau (200 gr) E.\n",
      "VIANDES Sauté de veau (500 gr) E.\n",
      "VIANDES Cotes de veau filet (200 gr) E.\n",
      "VIANDES Préparation de viande hachée de veau (120 gr) E.\n",
      "VIANDES Tendrons de veau (225 gr) E.\n",
      "VIANDES Roti de veau (600 gr) E.\n",
      "VIANDES Cotes de veau découverte (250 gr) E.\n",
      "VIANDES 6 Merguez de chèvre (350 gr).\n",
      "VIANDES Chipolatas de porc basque x4 (330 gr) E.\n",
      "VIANDES Saucisses de Porc Basque x2 (180 gr) E.\n",
      "VIANDES Boudins de Porc Basque x2 (230 gr) E.\n",
      "VIANDES Cotes filet de Porc Basque x2 (350 gr) E.\n",
      "VIANDES Cotes échine de Porc Basque x2 (350 gr) E.\n",
      "VIANDES Roti (épaule) de Porc Basque (600-800 gr) E.\n",
      "VIANDES Rillettes de canard (170 gr)\n",
      "VIANDES Bloc de foie gras de canard (140 gr)\n",
      "VIANDES Foie gras de canard mi-cuit (200 gr).\n",
      "VIANDES Bocal de foie gras de canard (180 gr)\n",
      "VIANDES Lardons de Porc Basque (200 gr).\n",
      "VIANDES Roti de boeuf (1 kg) E.\n",
      "VIANDES Steack de boeuf (220 gr) E.\n",
      "VIANDES Préparation de viande hachée de boeuf (240 gr) E.\n",
      "VIANDES Bourguignon de boeuf (1 kg) E.\n",
      "VIANDES Saucisson de Porc Basque (290 gr-320 gr)\n",
      "VIANDES Saucisson de porc bio (240 gr-260 gr)\n",
      "VOLAILLES Poulet fermier moyen 1,6 kg (+/-100 gr) AB.\n",
      "VOLAILLES Poulet fermier moyen 1,6 kg (+/-100 gr) AB.M\n",
      "VOLAILLES Poulet fermier moyen (1,6 - 1,8 kg).X\n",
      "VOLAILLES Gros poulet fermier (1,8 - 2,0 kg).X\n",
      "ÉPICERIE SUCRÉE Confiture de lait de chèvre (100 gr)\n",
      "ÉPICERIE SUCRÉE Confiture de cassis AB (240 gr)\n",
      "ÉPICERIE SUCRÉE Confiture de mirabelle AB (240 gr)\n",
      "ÉPICERIE SUCRÉE Gelée de pommes AB (240 gr)\n",
      "ÉPICERIE SUCRÉE Confiture de lait de chèvre (180 gr)\n",
      "ÉPICERIE SUCRÉE Confiture de prune AB (240 gr)\n",
      "ÉPICERIE SUCRÉE Coulis de pêche de vigne AB (320 gr)\n",
      "YAOURT & FROMAGE BLANC Yaourt nature au lait de chèvre (4 x 125 gr).\n",
      "YAOURT & FROMAGE BLANC Yaourt sucré au lait de chèvre (125 gr).\n",
      "YAOURT & FROMAGE BLANC Yaourt abricot au lait de chèvre (4 x 125 gr).\n",
      "VIANDE FRAÎCHE Poisson frais.\n",
      "VIANDE FRAÎCHE Darnes de thon blanc.\n",
      "VIANDE FRAÎCHE Thon blanc entier (6 kg).\n",
      "VIANDE FRAÎCHE Magret de canard frais sous vide (400 gr).\n",
      "VIANDE FRAÎCHE Cuisse de canard confite sous vide.\n",
      "VIANDE FRAÎCHE Manchons de canard sous vide (x2).\n",
      "VIANDE FRAÎCHE Foie gras frais de canard (640 gr).\n",
      "VIANDE FRAÎCHE Bocal de 4 gésiers de canard confits\n",
      "VIANDE FRAÎCHE Foie gras frais de canard (580 gr).\n",
      "VIANDE FRAÎCHE Pigeonneau (380-400 gr).\n",
      "ÉPICERIE SALÉE Huile de tournesol (0,75 l)\n",
      "ÉPICERIE SALÉE Huile de colza (0,75 l)\n",
      "ÉPICERIE SALÉE Fusilli semi complètes (pates) 500 gr AB\n",
      "ÉPICERIE SALÉE Coquillettes semi complètes (pates) 500 gr AB\n",
      "LÉGUMES Melon\n",
      "BOISSONS Tisane Detox (25 gr)\n",
      "BOISSONS Tisane Air Pur (25 gr)\n",
      "BOISSONS Tisane Souplesse (25 gr)\n",
      "BOISSONS Tisane Aube (25 gr)\n",
      "BOISSONS Tisane la Zen (25 gr)\n",
      "BOISSONS Tisane coquelicots (25 gr)\n",
      "BOISSONS Tisane nuit étoilée (25 gr)\n",
      "BOISSONS Tisane la gloutonne (25g)\n",
      "NOS PRODUITS Patate douce 1kg\n",
      "NOS PRODUITS Coffret de Noël\n",
      "FROMAGE DE VACHE Tomme de vache fraîche (4-8 sem) 575 gr.\n",
      "FROMAGE DE VACHE Fromage de vache affiné (4-6 mois) 550 gr.\n",
      "FROMAGE DE VACHE Tomme de vache fraîche (4-8 sem) 1,15 kg.\n",
      "FROMAGE DE VACHE Fromage de vache affiné (4-6 mois) 1,1 kg.\n",
      "PLATS CUISINÉS Poule confite\n"
     ]
    }
   ],
   "source": [
    "for cat in df.categorie.unique():\n",
    "    for produit in df[df.categorie == cat]['nom_produit'].unique():\n",
    "        print(cat,produit)"
   ]
  },
  {
   "cell_type": "markdown",
   "metadata": {},
   "source": [
    "## 3 Reduction du nombre de produits\n",
    "Actuellement il y a 311 produits différents, mais on remarque que l'on peut réunir en un seul plusieurs produits (par exemple il y a 7 \"fromages de brebis fermier\" car avec des poids différents...)"
   ]
  },
  {
   "cell_type": "markdown",
   "metadata": {},
   "source": [
    "### Pour la catégorie CRÈMERIE"
   ]
  },
  {
   "cell_type": "code",
   "execution_count": 18,
   "metadata": {},
   "outputs": [
    {
     "name": "stdout",
     "output_type": "stream",
     "text": [
      "['breuil (375g).' 'Yaourt nature bio au lait entier (4 x125 gr).'\n",
      " 'Fromage blanc de vache nature,lisse bio (500g).'\n",
      " 'Yaourt a la fraise bio au lait entier  (4 x 125 gr).'\n",
      " 'Beurre doux bio au lait cru ( 250 gr).'\n",
      " 'Creme fraiche bio  au lait cru (250ml).'\n",
      " 'Lait de vache demi-ecreme pasteurise bio (1L).'\n",
      " 'Yaourt a la framboise bio  au lait entier (4 x125 gr).'\n",
      " 'Fromage blanc de vache nature campagne bio (500g).'\n",
      " 'Yaourt a la myrtille bio  au lait entier (4 x 125g).' 'Breuil (1kg).'\n",
      " 'Lait de vache entier pasteurise bio (1L).' 'Mamia (x4).'\n",
      " 'Breuil (500g).' 'Yaourt au citron, bio,  au lait entier (4 x 125g).'\n",
      " 'Beurre salé bio au lait cru (250g).'\n",
      " 'Yaourt a la vanille  bio  au lait entier ( 4 x 125 gr).'\n",
      " 'Yaourt brebis nature (lot de 4).'\n",
      " 'Yaourt brebis fruits rouges coulis (lot de 4).'\n",
      " 'Yaourt aux fruits, bio, au lait entier (4 x 125g).'\n",
      " 'Yaourt brebis citron (lot de 4).' 'Lait de chevre AB (1L).'\n",
      " 'Fromage blanc de chevre (500g).' 'Fromage blanc de chevre (420g).'] 24\n"
     ]
    }
   ],
   "source": [
    "print(df[df.categorie == 'CRÈMERIE']['nom_produit'].unique(), len(df[df.categorie == 'CRÈMERIE']['nom_produit'].unique()))"
   ]
  },
  {
   "cell_type": "markdown",
   "metadata": {},
   "source": [
    "On peut réduire le nombre actuels de produits de 24 à 7\n",
    "- breuil\n",
    "- mamia\n",
    "- yaourt\n",
    "- fromage blanc\n",
    "- lait\n",
    "- beurre\n",
    "- creme fraiche"
   ]
  },
  {
   "cell_type": "code",
   "execution_count": 19,
   "metadata": {},
   "outputs": [],
   "source": [
    "def create_product(nom):\n",
    "    nom = nom.lower()\n",
    "    if 'yaourt' in nom:\n",
    "        return 'yaourt'\n",
    "    elif 'breuil' in nom:\n",
    "        return 'breuil'\n",
    "    elif 'mamia' in nom:\n",
    "        return 'mamia'\n",
    "    elif 'fromage blanc' in nom:\n",
    "        return 'fromage blanc'\n",
    "    elif 'beurre' in nom:\n",
    "        return 'beurre'\n",
    "    elif 'creme fraiche' in nom:\n",
    "        return 'creme fraiche'\n",
    "    elif 'lait' in nom:\n",
    "        return 'lait'\n",
    "\n",
    "df['produit'] = df[df.categorie == 'CRÈMERIE']['nom_produit'].apply(create_product)"
   ]
  },
  {
   "cell_type": "code",
   "execution_count": 20,
   "metadata": {},
   "outputs": [
    {
     "data": {
      "text/plain": [
       "array(['breuil', 'yaourt', 'fromage blanc', 'beurre', 'creme fraiche',\n",
       "       'lait', 'mamia'], dtype=object)"
      ]
     },
     "execution_count": 20,
     "metadata": {},
     "output_type": "execute_result"
    }
   ],
   "source": [
    "df[df.categorie == 'CRÈMERIE']['produit'].unique()"
   ]
  },
  {
   "cell_type": "markdown",
   "metadata": {},
   "source": [
    "### Catégorie Fromages et Fromage de vache\n",
    "Pour simplifier nous réunissons le traitement de ces deux catégories"
   ]
  },
  {
   "cell_type": "code",
   "execution_count": 21,
   "metadata": {},
   "outputs": [
    {
     "data": {
      "text/plain": [
       "array(['CRÈMERIE', 'FROMAGES', 'FRUITS & LÉGUMES', 'ÉPICERIE', 'FRUITS',\n",
       "       'VOLAILLES & OEUFS', 'VIANDES', 'VOLAILLES', 'ÉPICERIE SUCRÉE',\n",
       "       'YAOURT & FROMAGE BLANC', 'VIANDE FRAÎCHE', 'ÉPICERIE SALÉE',\n",
       "       'LÉGUMES', 'BOISSONS', 'NOS PRODUITS', 'FROMAGE DE VACHE',\n",
       "       'PLATS CUISINÉS'], dtype=object)"
      ]
     },
     "execution_count": 21,
     "metadata": {},
     "output_type": "execute_result"
    }
   ],
   "source": [
    "df.categorie.unique()"
   ]
  },
  {
   "cell_type": "code",
   "execution_count": 22,
   "metadata": {},
   "outputs": [],
   "source": [
    "filtre = (df.categorie == 'FROMAGES') | (df.categorie == 'FROMAGE DE VACHE')"
   ]
  },
  {
   "cell_type": "code",
   "execution_count": 23,
   "metadata": {},
   "outputs": [
    {
     "data": {
      "text/html": [
       "<div>\n",
       "<style scoped>\n",
       "    .dataframe tbody tr th:only-of-type {\n",
       "        vertical-align: middle;\n",
       "    }\n",
       "\n",
       "    .dataframe tbody tr th {\n",
       "        vertical-align: top;\n",
       "    }\n",
       "\n",
       "    .dataframe thead th {\n",
       "        text-align: right;\n",
       "    }\n",
       "</style>\n",
       "<table border=\"1\" class=\"dataframe\">\n",
       "  <thead>\n",
       "    <tr style=\"text-align: right;\">\n",
       "      <th></th>\n",
       "      <th>commande</th>\n",
       "      <th>producteur</th>\n",
       "      <th>categorie</th>\n",
       "      <th>nom_produit</th>\n",
       "      <th>code_postal</th>\n",
       "      <th>commune</th>\n",
       "      <th>produit</th>\n",
       "    </tr>\n",
       "  </thead>\n",
       "  <tbody>\n",
       "    <tr>\n",
       "      <th>1</th>\n",
       "      <td>1743</td>\n",
       "      <td>FERME BIXARTEA</td>\n",
       "      <td>FROMAGES</td>\n",
       "      <td>fromage de brebis fermier (650g environ) +6 mo...</td>\n",
       "      <td>64250</td>\n",
       "      <td>SAINT PALAIS</td>\n",
       "      <td>NaN</td>\n",
       "    </tr>\n",
       "    <tr>\n",
       "      <th>16</th>\n",
       "      <td>1750</td>\n",
       "      <td>FERME BIXARTEA</td>\n",
       "      <td>FROMAGES</td>\n",
       "      <td>Fromage Pérail de brebis.</td>\n",
       "      <td>64240</td>\n",
       "      <td>HASPARREN</td>\n",
       "      <td>NaN</td>\n",
       "    </tr>\n",
       "    <tr>\n",
       "      <th>21</th>\n",
       "      <td>1751</td>\n",
       "      <td>FERME BIXARTEA</td>\n",
       "      <td>FROMAGES</td>\n",
       "      <td>Fromage Pérail de brebis.</td>\n",
       "      <td>64240</td>\n",
       "      <td>AYHERRE</td>\n",
       "      <td>NaN</td>\n",
       "    </tr>\n",
       "    <tr>\n",
       "      <th>41</th>\n",
       "      <td>1754</td>\n",
       "      <td>FERME BIXARTEA</td>\n",
       "      <td>FROMAGES</td>\n",
       "      <td>fromage de brebis fermier (650g environ) +6 mo...</td>\n",
       "      <td>64240</td>\n",
       "      <td>hasparren</td>\n",
       "      <td>NaN</td>\n",
       "    </tr>\n",
       "    <tr>\n",
       "      <th>73</th>\n",
       "      <td>1758</td>\n",
       "      <td>FERME BIXARTEA</td>\n",
       "      <td>FROMAGES</td>\n",
       "      <td>Fromage Pérail de brebis.</td>\n",
       "      <td>64240</td>\n",
       "      <td>hasparren</td>\n",
       "      <td>NaN</td>\n",
       "    </tr>\n",
       "    <tr>\n",
       "      <th>...</th>\n",
       "      <td>...</td>\n",
       "      <td>...</td>\n",
       "      <td>...</td>\n",
       "      <td>...</td>\n",
       "      <td>...</td>\n",
       "      <td>...</td>\n",
       "      <td>...</td>\n",
       "    </tr>\n",
       "    <tr>\n",
       "      <th>37765</th>\n",
       "      <td>7203</td>\n",
       "      <td>FERME IXURIBEHEREA</td>\n",
       "      <td>FROMAGES</td>\n",
       "      <td>Garralda.</td>\n",
       "      <td>64240</td>\n",
       "      <td>ayherre</td>\n",
       "      <td>NaN</td>\n",
       "    </tr>\n",
       "    <tr>\n",
       "      <th>37766</th>\n",
       "      <td>7203</td>\n",
       "      <td>FERME BIXARTEA</td>\n",
       "      <td>FROMAGES</td>\n",
       "      <td>fromage de brebis fermier (650g environ) +6 mo...</td>\n",
       "      <td>64240</td>\n",
       "      <td>ayherre</td>\n",
       "      <td>NaN</td>\n",
       "    </tr>\n",
       "    <tr>\n",
       "      <th>37767</th>\n",
       "      <td>7203</td>\n",
       "      <td>FERME OHETA</td>\n",
       "      <td>FROMAGE DE VACHE</td>\n",
       "      <td>Fromage de vache affiné (4-6 mois) 1,1 kg.</td>\n",
       "      <td>64240</td>\n",
       "      <td>ayherre</td>\n",
       "      <td>NaN</td>\n",
       "    </tr>\n",
       "    <tr>\n",
       "      <th>37779</th>\n",
       "      <td>7204</td>\n",
       "      <td>FERME BIXARTEA</td>\n",
       "      <td>FROMAGES</td>\n",
       "      <td>fromage de brebis fermier (650g environ) +6 mo...</td>\n",
       "      <td>64480</td>\n",
       "      <td>Ustaritz</td>\n",
       "      <td>NaN</td>\n",
       "    </tr>\n",
       "    <tr>\n",
       "      <th>37784</th>\n",
       "      <td>7205</td>\n",
       "      <td>FERME IXURIBEHEREA</td>\n",
       "      <td>FROMAGES</td>\n",
       "      <td>Garralda.</td>\n",
       "      <td>64480</td>\n",
       "      <td>ustaritz</td>\n",
       "      <td>NaN</td>\n",
       "    </tr>\n",
       "  </tbody>\n",
       "</table>\n",
       "<p>3222 rows × 7 columns</p>\n",
       "</div>"
      ],
      "text/plain": [
       "       commande           producteur         categorie  \\\n",
       "1          1743       FERME BIXARTEA          FROMAGES   \n",
       "16         1750       FERME BIXARTEA          FROMAGES   \n",
       "21         1751       FERME BIXARTEA          FROMAGES   \n",
       "41         1754       FERME BIXARTEA          FROMAGES   \n",
       "73         1758       FERME BIXARTEA          FROMAGES   \n",
       "...         ...                  ...               ...   \n",
       "37765      7203   FERME IXURIBEHEREA          FROMAGES   \n",
       "37766      7203       FERME BIXARTEA          FROMAGES   \n",
       "37767      7203          FERME OHETA  FROMAGE DE VACHE   \n",
       "37779      7204       FERME BIXARTEA          FROMAGES   \n",
       "37784      7205   FERME IXURIBEHEREA          FROMAGES   \n",
       "\n",
       "                                             nom_produit  code_postal  \\\n",
       "1      fromage de brebis fermier (650g environ) +6 mo...        64250   \n",
       "16                             Fromage Pérail de brebis.        64240   \n",
       "21                             Fromage Pérail de brebis.        64240   \n",
       "41     fromage de brebis fermier (650g environ) +6 mo...        64240   \n",
       "73                             Fromage Pérail de brebis.        64240   \n",
       "...                                                  ...          ...   \n",
       "37765                                          Garralda.        64240   \n",
       "37766  fromage de brebis fermier (650g environ) +6 mo...        64240   \n",
       "37767         Fromage de vache affiné (4-6 mois) 1,1 kg.        64240   \n",
       "37779  fromage de brebis fermier (650g environ) +6 mo...        64480   \n",
       "37784                                          Garralda.        64480   \n",
       "\n",
       "            commune produit  \n",
       "1      SAINT PALAIS     NaN  \n",
       "16        HASPARREN     NaN  \n",
       "21          AYHERRE     NaN  \n",
       "41        hasparren     NaN  \n",
       "73        hasparren     NaN  \n",
       "...             ...     ...  \n",
       "37765       ayherre     NaN  \n",
       "37766       ayherre     NaN  \n",
       "37767       ayherre     NaN  \n",
       "37779      Ustaritz     NaN  \n",
       "37784      ustaritz     NaN  \n",
       "\n",
       "[3222 rows x 7 columns]"
      ]
     },
     "execution_count": 23,
     "metadata": {},
     "output_type": "execute_result"
    }
   ],
   "source": [
    "df[filtre]"
   ]
  },
  {
   "cell_type": "code",
   "execution_count": 24,
   "metadata": {},
   "outputs": [
    {
     "name": "stderr",
     "output_type": "stream",
     "text": [
      "/home/jean/anaconda3/lib/python3.7/site-packages/ipykernel_launcher.py:15: SettingWithCopyWarning: \n",
      "A value is trying to be set on a copy of a slice from a DataFrame.\n",
      "Try using .loc[row_indexer,col_indexer] = value instead\n",
      "\n",
      "See the caveats in the documentation: https://pandas.pydata.org/pandas-docs/stable/user_guide/indexing.html#returning-a-view-versus-a-copy\n",
      "  from ipykernel import kernelapp as app\n"
     ]
    }
   ],
   "source": [
    "def create_fromage(nom):\n",
    "    nom = nom.lower()\n",
    "    if 'fromage de brebis fermier' in nom:\n",
    "        return 'fromage de brebis fermier'\n",
    "    elif 'fromage pérail de brebis' in nom:\n",
    "        return 'fromage pérail de brebis'\n",
    "    elif 'tomme de vache fraîche' in nom:\n",
    "        return 'tomme de vache fraîche'\n",
    "    elif 'fromage de vache affiné' in nom:\n",
    "        return 'fromage de vache affiné'\n",
    "    else:\n",
    "        return 'fromage de chèvre'\n",
    "\n",
    "\n",
    "df['produit'] = df[filtre]['nom_produit'].apply(create_fromage)"
   ]
  },
  {
   "cell_type": "markdown",
   "metadata": {},
   "source": [
    "### Catégorie Fruits & légumes et catégorie fruits\n",
    "Pour simplifier nous réunissons le traitement de ces deux catégories également"
   ]
  },
  {
   "cell_type": "code",
   "execution_count": 87,
   "metadata": {
    "scrolled": true
   },
   "outputs": [],
   "source": [
    "filtre2 = (df.categorie == 'FRUITS & LÉGUMES') | (df.categorie == 'FRUITS')"
   ]
  },
  {
   "cell_type": "code",
   "execution_count": 101,
   "metadata": {},
   "outputs": [],
   "source": [
    "df_fruits = df[filtre2].copy()"
   ]
  },
  {
   "cell_type": "code",
   "execution_count": 102,
   "metadata": {},
   "outputs": [
    {
     "data": {
      "text/plain": [
       "array(['radis noir (la botte)', 'betterave rouge (la botte)',\n",
       "       'Pommes Gordin Xuri (1kg)', 'courge potimarron ou butternut (1kg)',\n",
       "       'courge longue de naples (1kg)',\n",
       "       \"Pomme de terre de l'année(2.5kg)\", 'Persil (la botte)',\n",
       "       'batavia ou feuille de chene',\n",
       "       'assortiment chou fleur / romanesco (0,8-1kg)', 'Mache AB (200gr)',\n",
       "       'chou frise ou cabus (600gr a 800gr)', 'Epinard (300g)',\n",
       "       'chicoree scarole', 'choux de Bruxelles (500g)',\n",
       "       'pomme de terre vapeur (2kg)', 'navet (750g)',\n",
       "       \"Pomme de terre de l'année (1kg)\", 'chou de chine',\n",
       "       'Cagette \"surprise\"', \"Poireaux d'HIVER (lot de 3 ou 4)\",\n",
       "       'Fenouil (500gr)',\n",
       "       'Céleri branche (le bouquet de 5 ou 6 branches)',\n",
       "       'Oignon  rouge ( la botte)', 'Ail sec (300gr)',\n",
       "       'Blette (la botte)', 'feves (1-1,2kg)', 'petit pois Mangetout',\n",
       "       'pomme de terre primeur 1kg', 'Cerises Bigarreau (600 gr)',\n",
       "       'Cerises Bigarreau (300 gr)', 'radis de printemps (la botte)',\n",
       "       'Courgette primeur (1kg)',\n",
       "       'batavia ou feuille de chene ( la paire )', 'petit pois (500g)',\n",
       "       'Piment doux du pays basque (250g)', 'Chou Kale (la botte)',\n",
       "       \"Concombre (l'unité)\", 'Chou rave (700gr)', 'courgette (2kg)',\n",
       "       'Tomate (750gr)', 'aubergine variée (750gr)',\n",
       "       'oignon jaune (750g)', 'Pommes Andere dona maria (1kg)',\n",
       "       'celeri rave (lot de 3ou4)', 'Echalote (400g)',\n",
       "       'Eri Sagarra Petit calibre (1kg)',\n",
       "       'carotte (la botte 700 a 750gr)', 'Pommes Urtats (1kg)',\n",
       "       'Oranges AB (1 kg)', 'Pomelos AB (1 kg)', 'Clementines AB (1 kg)',\n",
       "       'Citrons AB (1 kg)', 'Kiwi vert ( 1 kg)',\n",
       "       'Mélange de pommes (1kg)', 'Mélange de pommes (3kg)',\n",
       "       'Poivron varié (750gr)', 'Pastèque en quartier de 1Kg',\n",
       "       'Potimarron', 'Pommes Anisa (1 kg)', 'haricots verts (750g)',\n",
       "       'Pêches de vigne blanches (500 gr)', 'pommes Eri sagarra (1kg)',\n",
       "       'Batavia ou feuille de chene',\n",
       "       'Chou frise ou cabus (600gr a 800gr)', 'Carotte (la botte)',\n",
       "       'Navet (la botte)', 'Mache (200gr)', 'Chou de chine',\n",
       "       'Chou Pak Choï', 'Ciboulette (la botte)', 'Radis (la botte)',\n",
       "       'Musquée de Provence (1kg)', 'Potimarron (1kg)',\n",
       "       \"Pomme de terre de l'année (3kg)\", 'Longue de Nice (1kg)',\n",
       "       'Butternut (1kg)', 'Courge spaghetti (1kg)', 'Patidou (1kg)',\n",
       "       'Batavia ou feuille de chene (la paire)',\n",
       "       \"Panier d'agrumes AB (2 kg)\", 'Céleri rave (lot de 3 ou 4)',\n",
       "       'Betterave rouge (600 gr)', 'Pommes Gordin Gorri (1kg)',\n",
       "       'Pommes Jinko sagarra (1kg)', 'Mesclun (220 gr)',\n",
       "       'Oignon  blanc frais (la botte)', \"Chou vert (l'unité)\",\n",
       "       'Aillet frais (la botte de 6-8)', 'Roquette AB (200g)'],\n",
       "      dtype=object)"
      ]
     },
     "execution_count": 102,
     "metadata": {},
     "output_type": "execute_result"
    }
   ],
   "source": [
    "df_fruits['nom_produit'].unique()"
   ]
  },
  {
   "cell_type": "code",
   "execution_count": 193,
   "metadata": {},
   "outputs": [
    {
     "data": {
      "text/plain": [
       "89"
      ]
     },
     "execution_count": 193,
     "metadata": {},
     "output_type": "execute_result"
    }
   ],
   "source": [
    "len(df_fruits['nom_produit'].unique())"
   ]
  },
  {
   "cell_type": "code",
   "execution_count": 205,
   "metadata": {},
   "outputs": [],
   "source": [
    "def product_fruits_legumes(row):\n",
    "    nom = row.nom_produit\n",
    "    nom = nom.lower()\n",
    "    if 'radis' in nom:\n",
    "        return 'radis'\n",
    "    elif 'betterave' in nom:\n",
    "        return 'betterave'\n",
    "    elif 'pomme de terre' in nom:\n",
    "        return 'pomme de terre'\n",
    "    elif 'pommes' in nom or 'sagarra' in nom:\n",
    "        return 'pommes'\n",
    "    elif 'persil' in nom:\n",
    "        return 'persil'\n",
    "    elif ('batavia' in nom)|('mache' in nom)|('scarole' in nom)|('roquette' in nom) or 'mesclun' in nom:\n",
    "        return 'salade'\n",
    "    elif 'chou' in nom:\n",
    "        return 'chou'\n",
    "    elif 'oignon' in nom:\n",
    "        return 'oignon'\n",
    "    elif 'courge' in nom or 'musquee de provence' in nom:\n",
    "        return 'courge'\n",
    "    elif 'epinard' in nom:\n",
    "        return 'epinard'\n",
    "    elif 'navet' in nom:\n",
    "        return 'navet'\n",
    "    elif 'cagette' in nom:\n",
    "        return 'assortiment'\n",
    "    elif 'poireaux' in nom:\n",
    "        return 'poireaux'\n",
    "    elif 'fenouil' in nom:\n",
    "        return 'fenouil'\n",
    "    elif 'blette' in nom:\n",
    "        return 'blette'\n",
    "    elif 'ail sec' in nom or 'aillet' in nom:\n",
    "        return 'celeri'\n",
    "    elif 'céleri' in nom or 'celeri' in nom:\n",
    "        return 'celeri'\n",
    "    elif 'feves' in nom:\n",
    "        return 'feves'\n",
    "    elif 'petit pois' in nom:\n",
    "        return 'petit pois'\n",
    "    elif 'cerises' in nom:\n",
    "        return 'cerises'\n",
    "    elif 'agrumes' in nom or 'clementines' in nom or 'oranges' in nom or 'citron' in nom or 'pomelos' in nom:\n",
    "        return 'agrumes'\n",
    "    elif 'piment' in nom:\n",
    "        return 'piment'\n",
    "    elif 'concombre' in nom:\n",
    "        return 'concombre'\n",
    "    elif 'carotte' in nom:\n",
    "        return 'carotte'\n",
    "    elif 'tomate' in nom:\n",
    "        return 'tomate'\n",
    "    elif 'aubergine' in nom:\n",
    "        return 'aubergine'\n",
    "    elif 'kiwi' in nom:\n",
    "        return 'kiwi'\n",
    "    elif 'echalote' in nom:\n",
    "        return 'echalote'\n",
    "    elif 'poivron' in nom:\n",
    "        return 'poivron'\n",
    "    else:\n",
    "        return 'error'\n",
    "\n",
    "\n",
    "\n",
    "df_fruits['produit'] = df_fruits.apply(product_fruits_legumes,axis=1)"
   ]
  },
  {
   "cell_type": "code",
   "execution_count": 206,
   "metadata": {
    "scrolled": true
   },
   "outputs": [
    {
     "data": {
      "text/plain": [
       "29"
      ]
     },
     "execution_count": 206,
     "metadata": {},
     "output_type": "execute_result"
    }
   ],
   "source": [
    "len(df_fruits['produit'].unique())"
   ]
  },
  {
   "cell_type": "code",
   "execution_count": 207,
   "metadata": {},
   "outputs": [
    {
     "data": {
      "text/plain": [
       "array(['radis', 'betterave', 'pommes', 'courge', 'pomme de terre',\n",
       "       'persil', 'salade', 'chou', 'epinard', 'navet', 'assortiment',\n",
       "       'poireaux', 'fenouil', 'celeri', 'oignon', 'blette', 'feves',\n",
       "       'petit pois', 'cerises', 'piment', 'concombre', 'tomate',\n",
       "       'aubergine', 'echalote', 'carotte', 'agrumes', 'kiwi', 'poivron',\n",
       "       'error'], dtype=object)"
      ]
     },
     "execution_count": 207,
     "metadata": {},
     "output_type": "execute_result"
    }
   ],
   "source": [
    "df_fruits['produit'].unique()"
   ]
  },
  {
   "cell_type": "code",
   "execution_count": null,
   "metadata": {},
   "outputs": [],
   "source": []
  }
 ],
 "metadata": {
  "kernelspec": {
   "display_name": "Python 3",
   "language": "python",
   "name": "python3"
  },
  "language_info": {
   "codemirror_mode": {
    "name": "ipython",
    "version": 3
   },
   "file_extension": ".py",
   "mimetype": "text/x-python",
   "name": "python",
   "nbconvert_exporter": "python",
   "pygments_lexer": "ipython3",
   "version": "3.7.6"
  }
 },
 "nbformat": 4,
 "nbformat_minor": 4
}
