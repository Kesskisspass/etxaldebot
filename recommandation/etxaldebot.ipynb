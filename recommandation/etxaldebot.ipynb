{
 "cells": [
  {
   "cell_type": "code",
   "execution_count": 9,
   "metadata": {},
   "outputs": [],
   "source": [
    "import pandas as pd"
   ]
  },
  {
   "cell_type": "code",
   "execution_count": 10,
   "metadata": {},
   "outputs": [],
   "source": [
    "df = pd.read_csv('data_final.csv')"
   ]
  },
  {
   "cell_type": "code",
   "execution_count": 11,
   "metadata": {},
   "outputs": [
    {
     "data": {
      "text/plain": [
       "(37790, 7)"
      ]
     },
     "execution_count": 11,
     "metadata": {},
     "output_type": "execute_result"
    }
   ],
   "source": [
    "df.shape"
   ]
  },
  {
   "cell_type": "code",
   "execution_count": 12,
   "metadata": {},
   "outputs": [
    {
     "data": {
      "text/html": [
       "<div>\n",
       "<style scoped>\n",
       "    .dataframe tbody tr th:only-of-type {\n",
       "        vertical-align: middle;\n",
       "    }\n",
       "\n",
       "    .dataframe tbody tr th {\n",
       "        vertical-align: top;\n",
       "    }\n",
       "\n",
       "    .dataframe thead th {\n",
       "        text-align: right;\n",
       "    }\n",
       "</style>\n",
       "<table border=\"1\" class=\"dataframe\">\n",
       "  <thead>\n",
       "    <tr style=\"text-align: right;\">\n",
       "      <th></th>\n",
       "      <th>ID commande</th>\n",
       "      <th>Payment date</th>\n",
       "      <th>Nom du fabricant</th>\n",
       "      <th>Product Category Default</th>\n",
       "      <th>Article</th>\n",
       "      <th>Code postal (Facture)</th>\n",
       "      <th>Ville (Facture)</th>\n",
       "    </tr>\n",
       "  </thead>\n",
       "  <tbody>\n",
       "    <tr>\n",
       "      <th>0</th>\n",
       "      <td>1743</td>\n",
       "      <td>08.01.2018</td>\n",
       "      <td>FERME BIXARTEA</td>\n",
       "      <td>CRÈMERIE</td>\n",
       "      <td>breuil (375g).</td>\n",
       "      <td>64250.0</td>\n",
       "      <td>SAINT PALAIS</td>\n",
       "    </tr>\n",
       "    <tr>\n",
       "      <th>1</th>\n",
       "      <td>1743</td>\n",
       "      <td>08.01.2018</td>\n",
       "      <td>FERME BIXARTEA</td>\n",
       "      <td>FROMAGES</td>\n",
       "      <td>fromage de brebis fermier (650g environ) +6 mo...</td>\n",
       "      <td>64250.0</td>\n",
       "      <td>SAINT PALAIS</td>\n",
       "    </tr>\n",
       "    <tr>\n",
       "      <th>2</th>\n",
       "      <td>1743</td>\n",
       "      <td>08.01.2018</td>\n",
       "      <td>FERME AROZTEGIA</td>\n",
       "      <td>FRUITS &amp; LÉGUMES</td>\n",
       "      <td>radis noir (la botte)</td>\n",
       "      <td>64250.0</td>\n",
       "      <td>SAINT PALAIS</td>\n",
       "    </tr>\n",
       "    <tr>\n",
       "      <th>3</th>\n",
       "      <td>1743</td>\n",
       "      <td>08.01.2018</td>\n",
       "      <td>FERME ESNEKIAK</td>\n",
       "      <td>CRÈMERIE</td>\n",
       "      <td>Yaourt nature bio au lait entier (4 x125 gr).</td>\n",
       "      <td>64250.0</td>\n",
       "      <td>SAINT PALAIS</td>\n",
       "    </tr>\n",
       "    <tr>\n",
       "      <th>4</th>\n",
       "      <td>1743</td>\n",
       "      <td>08.01.2018</td>\n",
       "      <td>FERME BELAZKABIETA</td>\n",
       "      <td>ÉPICERIE</td>\n",
       "      <td>BIZIGAI Piment d'Espelette AOP (50 gr)</td>\n",
       "      <td>64250.0</td>\n",
       "      <td>SAINT PALAIS</td>\n",
       "    </tr>\n",
       "  </tbody>\n",
       "</table>\n",
       "</div>"
      ],
      "text/plain": [
       "   ID commande Payment date    Nom du fabricant Product Category Default  \\\n",
       "0         1743   08.01.2018      FERME BIXARTEA                 CRÈMERIE   \n",
       "1         1743   08.01.2018      FERME BIXARTEA                 FROMAGES   \n",
       "2         1743   08.01.2018     FERME AROZTEGIA         FRUITS & LÉGUMES   \n",
       "3         1743   08.01.2018      FERME ESNEKIAK                 CRÈMERIE   \n",
       "4         1743   08.01.2018  FERME BELAZKABIETA                 ÉPICERIE   \n",
       "\n",
       "                                             Article  Code postal (Facture)  \\\n",
       "0                                     breuil (375g).                64250.0   \n",
       "1  fromage de brebis fermier (650g environ) +6 mo...                64250.0   \n",
       "2                              radis noir (la botte)                64250.0   \n",
       "3      Yaourt nature bio au lait entier (4 x125 gr).                64250.0   \n",
       "4             BIZIGAI Piment d'Espelette AOP (50 gr)                64250.0   \n",
       "\n",
       "  Ville (Facture)  \n",
       "0    SAINT PALAIS  \n",
       "1    SAINT PALAIS  \n",
       "2    SAINT PALAIS  \n",
       "3    SAINT PALAIS  \n",
       "4    SAINT PALAIS  "
      ]
     },
     "execution_count": 12,
     "metadata": {},
     "output_type": "execute_result"
    }
   ],
   "source": [
    "df.head()"
   ]
  },
  {
   "cell_type": "markdown",
   "metadata": {},
   "source": [
    "## 1 Modification du nom des colonnes"
   ]
  },
  {
   "cell_type": "code",
   "execution_count": 13,
   "metadata": {},
   "outputs": [
    {
     "data": {
      "text/plain": [
       "Index(['ID commande', 'Payment date', 'Nom du fabricant',\n",
       "       'Product Category Default', 'Article', 'Code postal (Facture)',\n",
       "       'Ville (Facture)'],\n",
       "      dtype='object')"
      ]
     },
     "execution_count": 13,
     "metadata": {},
     "output_type": "execute_result"
    }
   ],
   "source": [
    "df.columns"
   ]
  },
  {
   "cell_type": "code",
   "execution_count": 14,
   "metadata": {},
   "outputs": [],
   "source": [
    "df.columns = ['commande','date','producteur','categorie','nom_produit','code_postal','commune']"
   ]
  },
  {
   "cell_type": "markdown",
   "metadata": {},
   "source": [
    "## 2 Modification contenu code_postal"
   ]
  },
  {
   "cell_type": "code",
   "execution_count": 19,
   "metadata": {},
   "outputs": [
    {
     "data": {
      "text/plain": [
       "dtype('float64')"
      ]
     },
     "execution_count": 19,
     "metadata": {},
     "output_type": "execute_result"
    }
   ],
   "source": [
    "df.code_postal.dtypes"
   ]
  },
  {
   "cell_type": "code",
   "execution_count": 22,
   "metadata": {},
   "outputs": [],
   "source": [
    "df.code_postal = df.code_postal.astype(int)"
   ]
  },
  {
   "cell_type": "code",
   "execution_count": 23,
   "metadata": {},
   "outputs": [
    {
     "data": {
      "text/plain": [
       "commande        int64\n",
       "date           object\n",
       "producteur     object\n",
       "categorie      object\n",
       "nom_produit    object\n",
       "code_postal     int64\n",
       "commune        object\n",
       "dtype: object"
      ]
     },
     "execution_count": 23,
     "metadata": {},
     "output_type": "execute_result"
    }
   ],
   "source": [
    "df.dtypes"
   ]
  },
  {
   "cell_type": "code",
   "execution_count": 24,
   "metadata": {},
   "outputs": [
    {
     "data": {
      "text/html": [
       "<div>\n",
       "<style scoped>\n",
       "    .dataframe tbody tr th:only-of-type {\n",
       "        vertical-align: middle;\n",
       "    }\n",
       "\n",
       "    .dataframe tbody tr th {\n",
       "        vertical-align: top;\n",
       "    }\n",
       "\n",
       "    .dataframe thead th {\n",
       "        text-align: right;\n",
       "    }\n",
       "</style>\n",
       "<table border=\"1\" class=\"dataframe\">\n",
       "  <thead>\n",
       "    <tr style=\"text-align: right;\">\n",
       "      <th></th>\n",
       "      <th>commande</th>\n",
       "      <th>date</th>\n",
       "      <th>producteur</th>\n",
       "      <th>categorie</th>\n",
       "      <th>nom_produit</th>\n",
       "      <th>code_postal</th>\n",
       "      <th>commune</th>\n",
       "    </tr>\n",
       "  </thead>\n",
       "  <tbody>\n",
       "    <tr>\n",
       "      <th>0</th>\n",
       "      <td>1743</td>\n",
       "      <td>08.01.2018</td>\n",
       "      <td>FERME BIXARTEA</td>\n",
       "      <td>CRÈMERIE</td>\n",
       "      <td>breuil (375g).</td>\n",
       "      <td>64250</td>\n",
       "      <td>SAINT PALAIS</td>\n",
       "    </tr>\n",
       "    <tr>\n",
       "      <th>1</th>\n",
       "      <td>1743</td>\n",
       "      <td>08.01.2018</td>\n",
       "      <td>FERME BIXARTEA</td>\n",
       "      <td>FROMAGES</td>\n",
       "      <td>fromage de brebis fermier (650g environ) +6 mo...</td>\n",
       "      <td>64250</td>\n",
       "      <td>SAINT PALAIS</td>\n",
       "    </tr>\n",
       "    <tr>\n",
       "      <th>2</th>\n",
       "      <td>1743</td>\n",
       "      <td>08.01.2018</td>\n",
       "      <td>FERME AROZTEGIA</td>\n",
       "      <td>FRUITS &amp; LÉGUMES</td>\n",
       "      <td>radis noir (la botte)</td>\n",
       "      <td>64250</td>\n",
       "      <td>SAINT PALAIS</td>\n",
       "    </tr>\n",
       "    <tr>\n",
       "      <th>3</th>\n",
       "      <td>1743</td>\n",
       "      <td>08.01.2018</td>\n",
       "      <td>FERME ESNEKIAK</td>\n",
       "      <td>CRÈMERIE</td>\n",
       "      <td>Yaourt nature bio au lait entier (4 x125 gr).</td>\n",
       "      <td>64250</td>\n",
       "      <td>SAINT PALAIS</td>\n",
       "    </tr>\n",
       "    <tr>\n",
       "      <th>4</th>\n",
       "      <td>1743</td>\n",
       "      <td>08.01.2018</td>\n",
       "      <td>FERME BELAZKABIETA</td>\n",
       "      <td>ÉPICERIE</td>\n",
       "      <td>BIZIGAI Piment d'Espelette AOP (50 gr)</td>\n",
       "      <td>64250</td>\n",
       "      <td>SAINT PALAIS</td>\n",
       "    </tr>\n",
       "  </tbody>\n",
       "</table>\n",
       "</div>"
      ],
      "text/plain": [
       "   commande        date          producteur         categorie  \\\n",
       "0      1743  08.01.2018      FERME BIXARTEA          CRÈMERIE   \n",
       "1      1743  08.01.2018      FERME BIXARTEA          FROMAGES   \n",
       "2      1743  08.01.2018     FERME AROZTEGIA  FRUITS & LÉGUMES   \n",
       "3      1743  08.01.2018      FERME ESNEKIAK          CRÈMERIE   \n",
       "4      1743  08.01.2018  FERME BELAZKABIETA          ÉPICERIE   \n",
       "\n",
       "                                         nom_produit  code_postal  \\\n",
       "0                                     breuil (375g).        64250   \n",
       "1  fromage de brebis fermier (650g environ) +6 mo...        64250   \n",
       "2                              radis noir (la botte)        64250   \n",
       "3      Yaourt nature bio au lait entier (4 x125 gr).        64250   \n",
       "4             BIZIGAI Piment d'Espelette AOP (50 gr)        64250   \n",
       "\n",
       "        commune  \n",
       "0  SAINT PALAIS  \n",
       "1  SAINT PALAIS  \n",
       "2  SAINT PALAIS  \n",
       "3  SAINT PALAIS  \n",
       "4  SAINT PALAIS  "
      ]
     },
     "execution_count": 24,
     "metadata": {},
     "output_type": "execute_result"
    }
   ],
   "source": [
    "df.head()"
   ]
  },
  {
   "cell_type": "code",
   "execution_count": 25,
   "metadata": {},
   "outputs": [
    {
     "data": {
      "text/plain": [
       "array([64250, 64240, 64780, 64480, 64640, 64100, 64990, 64600, 64310,\n",
       "       64210, 64200, 64120, 40220, 64122, 40440, 77700, 64340, 35580,\n",
       "       40530, 31300, 24270, 64500, 38000, 64330, 64190, 64140, 64220,\n",
       "       79400, 40300, 64300, 78000, 64259, 40390])"
      ]
     },
     "execution_count": 25,
     "metadata": {},
     "output_type": "execute_result"
    }
   ],
   "source": [
    "df.code_postal.unique()"
   ]
  },
  {
   "cell_type": "code",
   "execution_count": null,
   "metadata": {},
   "outputs": [],
   "source": []
  }
 ],
 "metadata": {
  "kernelspec": {
   "display_name": "Python 3",
   "language": "python",
   "name": "python3"
  },
  "language_info": {
   "codemirror_mode": {
    "name": "ipython",
    "version": 3
   },
   "file_extension": ".py",
   "mimetype": "text/x-python",
   "name": "python",
   "nbconvert_exporter": "python",
   "pygments_lexer": "ipython3",
   "version": "3.7.6"
  }
 },
 "nbformat": 4,
 "nbformat_minor": 4
}
