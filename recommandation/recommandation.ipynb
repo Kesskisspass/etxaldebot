{
 "cells": [
  {
   "cell_type": "code",
   "execution_count": 1,
   "metadata": {},
   "outputs": [],
   "source": [
    "import pandas as pd\n",
    "import matplotlib.pyplot as plt"
   ]
  },
  {
   "cell_type": "code",
   "execution_count": 2,
   "metadata": {},
   "outputs": [],
   "source": [
    "df = pd.read_csv('df_final.csv')"
   ]
  },
  {
   "cell_type": "code",
   "execution_count": 3,
   "metadata": {},
   "outputs": [
    {
     "output_type": "execute_result",
     "data": {
      "text/plain": "(5270, 73)"
     },
     "metadata": {},
     "execution_count": 3
    }
   ],
   "source": [
    "df.shape"
   ]
  },
  {
   "cell_type": "code",
   "execution_count": 4,
   "metadata": {},
   "outputs": [
    {
     "output_type": "execute_result",
     "data": {
      "text/plain": "          commande      agrumes          ail  assortiment    aubergine  \\\ncount  5270.000000  5270.000000  5270.000000  5270.000000  5270.000000   \nmean   4474.715560     0.310247     0.051044     0.020683     0.035674   \nstd    1583.315004     0.747457     0.220108     0.142335     0.185493   \nmin    1743.000000     0.000000     0.000000     0.000000     0.000000   \n25%    3100.250000     0.000000     0.000000     0.000000     0.000000   \n50%    4460.500000     0.000000     0.000000     0.000000     0.000000   \n75%    5853.750000     0.000000     0.000000     0.000000     0.000000   \nmax    7205.000000     4.000000     1.000000     1.000000     1.000000   \n\n             autre    betterave       beurre       blette       breuil  ...  \\\ncount  5270.000000  5270.000000  5270.000000  5270.000000  5270.000000  ...   \nmean      0.000380     0.049905     0.360152     0.066414     0.096584  ...   \nstd       0.019479     0.217770     0.536472     0.249027     0.295419  ...   \nmin       0.000000     0.000000     0.000000     0.000000     0.000000  ...   \n25%       0.000000     0.000000     0.000000     0.000000     0.000000  ...   \n50%       0.000000     0.000000     0.000000     0.000000     0.000000  ...   \n75%       0.000000     0.000000     1.000000     0.000000     0.000000  ...   \nmax       1.000000     1.000000     2.000000     1.000000     1.000000  ...   \n\n             savon        soupe       tisane       tomate  \\\ncount  5270.000000  5270.000000  5270.000000  5270.000000   \nmean      0.038330     0.012144     0.026186     0.107780   \nstd       0.209952     0.109540     0.188080     0.310132   \nmin       0.000000     0.000000     0.000000     0.000000   \n25%       0.000000     0.000000     0.000000     0.000000   \n50%       0.000000     0.000000     0.000000     0.000000   \n75%       0.000000     0.000000     0.000000     0.000000   \nmax       2.000000     1.000000     5.000000     1.000000   \n\n       tomme de vache fraîche  viande de chèvre ou chevreau  viande de porc  \\\ncount             5270.000000                   5270.000000     5270.000000   \nmean                 0.010816                      0.272296        0.196964   \nstd                  0.103446                      0.583225        0.616646   \nmin                  0.000000                      0.000000        0.000000   \n25%                  0.000000                      0.000000        0.000000   \n50%                  0.000000                      0.000000        0.000000   \n75%                  0.000000                      0.000000        0.000000   \nmax                  1.000000                      5.000000        6.000000   \n\n       viande de veau  vin ou cidre       yaourt  \ncount     5270.000000   5270.000000  5270.000000  \nmean         0.042884      0.061101     1.060721  \nstd          0.260774      0.285117     1.246028  \nmin          0.000000      0.000000     0.000000  \n25%          0.000000      0.000000     0.000000  \n50%          0.000000      0.000000     1.000000  \n75%          0.000000      0.000000     2.000000  \nmax          4.000000      4.000000     7.000000  \n\n[8 rows x 73 columns]",
      "text/html": "<div>\n<style scoped>\n    .dataframe tbody tr th:only-of-type {\n        vertical-align: middle;\n    }\n\n    .dataframe tbody tr th {\n        vertical-align: top;\n    }\n\n    .dataframe thead th {\n        text-align: right;\n    }\n</style>\n<table border=\"1\" class=\"dataframe\">\n  <thead>\n    <tr style=\"text-align: right;\">\n      <th></th>\n      <th>commande</th>\n      <th>agrumes</th>\n      <th>ail</th>\n      <th>assortiment</th>\n      <th>aubergine</th>\n      <th>autre</th>\n      <th>betterave</th>\n      <th>beurre</th>\n      <th>blette</th>\n      <th>breuil</th>\n      <th>...</th>\n      <th>savon</th>\n      <th>soupe</th>\n      <th>tisane</th>\n      <th>tomate</th>\n      <th>tomme de vache fraîche</th>\n      <th>viande de chèvre ou chevreau</th>\n      <th>viande de porc</th>\n      <th>viande de veau</th>\n      <th>vin ou cidre</th>\n      <th>yaourt</th>\n    </tr>\n  </thead>\n  <tbody>\n    <tr>\n      <th>count</th>\n      <td>5270.000000</td>\n      <td>5270.000000</td>\n      <td>5270.000000</td>\n      <td>5270.000000</td>\n      <td>5270.000000</td>\n      <td>5270.000000</td>\n      <td>5270.000000</td>\n      <td>5270.000000</td>\n      <td>5270.000000</td>\n      <td>5270.000000</td>\n      <td>...</td>\n      <td>5270.000000</td>\n      <td>5270.000000</td>\n      <td>5270.000000</td>\n      <td>5270.000000</td>\n      <td>5270.000000</td>\n      <td>5270.000000</td>\n      <td>5270.000000</td>\n      <td>5270.000000</td>\n      <td>5270.000000</td>\n      <td>5270.000000</td>\n    </tr>\n    <tr>\n      <th>mean</th>\n      <td>4474.715560</td>\n      <td>0.310247</td>\n      <td>0.051044</td>\n      <td>0.020683</td>\n      <td>0.035674</td>\n      <td>0.000380</td>\n      <td>0.049905</td>\n      <td>0.360152</td>\n      <td>0.066414</td>\n      <td>0.096584</td>\n      <td>...</td>\n      <td>0.038330</td>\n      <td>0.012144</td>\n      <td>0.026186</td>\n      <td>0.107780</td>\n      <td>0.010816</td>\n      <td>0.272296</td>\n      <td>0.196964</td>\n      <td>0.042884</td>\n      <td>0.061101</td>\n      <td>1.060721</td>\n    </tr>\n    <tr>\n      <th>std</th>\n      <td>1583.315004</td>\n      <td>0.747457</td>\n      <td>0.220108</td>\n      <td>0.142335</td>\n      <td>0.185493</td>\n      <td>0.019479</td>\n      <td>0.217770</td>\n      <td>0.536472</td>\n      <td>0.249027</td>\n      <td>0.295419</td>\n      <td>...</td>\n      <td>0.209952</td>\n      <td>0.109540</td>\n      <td>0.188080</td>\n      <td>0.310132</td>\n      <td>0.103446</td>\n      <td>0.583225</td>\n      <td>0.616646</td>\n      <td>0.260774</td>\n      <td>0.285117</td>\n      <td>1.246028</td>\n    </tr>\n    <tr>\n      <th>min</th>\n      <td>1743.000000</td>\n      <td>0.000000</td>\n      <td>0.000000</td>\n      <td>0.000000</td>\n      <td>0.000000</td>\n      <td>0.000000</td>\n      <td>0.000000</td>\n      <td>0.000000</td>\n      <td>0.000000</td>\n      <td>0.000000</td>\n      <td>...</td>\n      <td>0.000000</td>\n      <td>0.000000</td>\n      <td>0.000000</td>\n      <td>0.000000</td>\n      <td>0.000000</td>\n      <td>0.000000</td>\n      <td>0.000000</td>\n      <td>0.000000</td>\n      <td>0.000000</td>\n      <td>0.000000</td>\n    </tr>\n    <tr>\n      <th>25%</th>\n      <td>3100.250000</td>\n      <td>0.000000</td>\n      <td>0.000000</td>\n      <td>0.000000</td>\n      <td>0.000000</td>\n      <td>0.000000</td>\n      <td>0.000000</td>\n      <td>0.000000</td>\n      <td>0.000000</td>\n      <td>0.000000</td>\n      <td>...</td>\n      <td>0.000000</td>\n      <td>0.000000</td>\n      <td>0.000000</td>\n      <td>0.000000</td>\n      <td>0.000000</td>\n      <td>0.000000</td>\n      <td>0.000000</td>\n      <td>0.000000</td>\n      <td>0.000000</td>\n      <td>0.000000</td>\n    </tr>\n    <tr>\n      <th>50%</th>\n      <td>4460.500000</td>\n      <td>0.000000</td>\n      <td>0.000000</td>\n      <td>0.000000</td>\n      <td>0.000000</td>\n      <td>0.000000</td>\n      <td>0.000000</td>\n      <td>0.000000</td>\n      <td>0.000000</td>\n      <td>0.000000</td>\n      <td>...</td>\n      <td>0.000000</td>\n      <td>0.000000</td>\n      <td>0.000000</td>\n      <td>0.000000</td>\n      <td>0.000000</td>\n      <td>0.000000</td>\n      <td>0.000000</td>\n      <td>0.000000</td>\n      <td>0.000000</td>\n      <td>1.000000</td>\n    </tr>\n    <tr>\n      <th>75%</th>\n      <td>5853.750000</td>\n      <td>0.000000</td>\n      <td>0.000000</td>\n      <td>0.000000</td>\n      <td>0.000000</td>\n      <td>0.000000</td>\n      <td>0.000000</td>\n      <td>1.000000</td>\n      <td>0.000000</td>\n      <td>0.000000</td>\n      <td>...</td>\n      <td>0.000000</td>\n      <td>0.000000</td>\n      <td>0.000000</td>\n      <td>0.000000</td>\n      <td>0.000000</td>\n      <td>0.000000</td>\n      <td>0.000000</td>\n      <td>0.000000</td>\n      <td>0.000000</td>\n      <td>2.000000</td>\n    </tr>\n    <tr>\n      <th>max</th>\n      <td>7205.000000</td>\n      <td>4.000000</td>\n      <td>1.000000</td>\n      <td>1.000000</td>\n      <td>1.000000</td>\n      <td>1.000000</td>\n      <td>1.000000</td>\n      <td>2.000000</td>\n      <td>1.000000</td>\n      <td>1.000000</td>\n      <td>...</td>\n      <td>2.000000</td>\n      <td>1.000000</td>\n      <td>5.000000</td>\n      <td>1.000000</td>\n      <td>1.000000</td>\n      <td>5.000000</td>\n      <td>6.000000</td>\n      <td>4.000000</td>\n      <td>4.000000</td>\n      <td>7.000000</td>\n    </tr>\n  </tbody>\n</table>\n<p>8 rows × 73 columns</p>\n</div>"
     },
     "metadata": {},
     "execution_count": 4
    }
   ],
   "source": [
    "df.describe()"
   ]
  },
  {
   "cell_type": "code",
   "execution_count": null,
   "metadata": {},
   "outputs": [],
   "source": [
    "# Essai Kmeans"
   ]
  },
  {
   "cell_type": "code",
   "execution_count": 5,
   "metadata": {},
   "outputs": [],
   "source": [
    "# Standardisation\n",
    "from sklearn import preprocessing\n",
    "df_standardized = preprocessing.scale(df)\n",
    "df_standardized = pd.DataFrame(df_standardized)"
   ]
  },
  {
   "cell_type": "code",
   "execution_count": 6,
   "metadata": {},
   "outputs": [
    {
     "output_type": "error",
     "ename": "NameError",
     "evalue": "name 'plt' is not defined",
     "traceback": [
      "\u001b[0;31m---------------------------------------------------------------------------\u001b[0m",
      "\u001b[0;31mNameError\u001b[0m                                 Traceback (most recent call last)",
      "\u001b[0;32m<ipython-input-6-367082038927>\u001b[0m in \u001b[0;36m<module>\u001b[0;34m\u001b[0m\n\u001b[1;32m      1\u001b[0m \u001b[0;31m# On essaie de trouver le nombre de cluster approprié\u001b[0m\u001b[0;34m\u001b[0m\u001b[0;34m\u001b[0m\u001b[0;34m\u001b[0m\u001b[0m\n\u001b[0;32m----> 2\u001b[0;31m \u001b[0mplt\u001b[0m\u001b[0;34m.\u001b[0m\u001b[0mfigure\u001b[0m\u001b[0;34m(\u001b[0m\u001b[0mfigsize\u001b[0m\u001b[0;34m=\u001b[0m\u001b[0;34m(\u001b[0m\u001b[0;36m10\u001b[0m\u001b[0;34m,\u001b[0m \u001b[0;36m8\u001b[0m\u001b[0;34m)\u001b[0m\u001b[0;34m)\u001b[0m\u001b[0;34m\u001b[0m\u001b[0;34m\u001b[0m\u001b[0m\n\u001b[0m\u001b[1;32m      3\u001b[0m \u001b[0;32mfrom\u001b[0m \u001b[0msklearn\u001b[0m\u001b[0;34m.\u001b[0m\u001b[0mcluster\u001b[0m \u001b[0;32mimport\u001b[0m \u001b[0mKMeans\u001b[0m\u001b[0;34m\u001b[0m\u001b[0;34m\u001b[0m\u001b[0m\n\u001b[1;32m      4\u001b[0m \u001b[0mwcss\u001b[0m \u001b[0;34m=\u001b[0m \u001b[0;34m[\u001b[0m\u001b[0;34m]\u001b[0m\u001b[0;34m\u001b[0m\u001b[0;34m\u001b[0m\u001b[0m\n\u001b[1;32m      5\u001b[0m \u001b[0;32mfor\u001b[0m \u001b[0mi\u001b[0m \u001b[0;32min\u001b[0m \u001b[0mrange\u001b[0m\u001b[0;34m(\u001b[0m\u001b[0;36m1\u001b[0m\u001b[0;34m,\u001b[0m \u001b[0;36m11\u001b[0m\u001b[0;34m)\u001b[0m\u001b[0;34m:\u001b[0m\u001b[0;34m\u001b[0m\u001b[0;34m\u001b[0m\u001b[0m\n",
      "\u001b[0;31mNameError\u001b[0m: name 'plt' is not defined"
     ]
    }
   ],
   "source": [
    "# On essaie de trouver le nombre de cluster approprié\n",
    "plt.figure(figsize=(10, 8))\n",
    "from sklearn.cluster import KMeans\n",
    "wcss = []\n",
    "for i in range(1, 11):\n",
    "    kmeans = KMeans(n_clusters = i, init = 'k-means++', random_state = 42)\n",
    "    kmeans.fit(df_standardized)\n",
    "    wcss.append(kmeans.inertia_)\n",
    "plt.plot(range(1, 11), wcss)\n",
    "plt.title('The Elbow Method')\n",
    "plt.xlabel('Nombre of clusters')\n",
    "plt.ylabel('WCSS')\n",
    "plt.show()"
   ]
  },
  {
   "cell_type": "code",
   "execution_count": null,
   "metadata": {},
   "outputs": [],
   "source": []
  }
 ],
 "metadata": {
  "language_info": {
   "codemirror_mode": {
    "name": "ipython",
    "version": 3
   },
   "file_extension": ".py",
   "mimetype": "text/x-python",
   "name": "python",
   "nbconvert_exporter": "python",
   "pygments_lexer": "ipython3",
   "version": "3.7.6-final"
  },
  "orig_nbformat": 2,
  "kernelspec": {
   "name": "python3",
   "display_name": "Python 3"
  }
 },
 "nbformat": 4,
 "nbformat_minor": 2
}