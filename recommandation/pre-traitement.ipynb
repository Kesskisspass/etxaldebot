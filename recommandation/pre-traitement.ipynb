{
 "cells": [
  {
   "cell_type": "code",
   "execution_count": 143,
   "metadata": {},
   "outputs": [],
   "source": [
    "import pandas as pd\n",
    "import numpy as np\n",
    "import re"
   ]
  },
  {
   "cell_type": "code",
   "execution_count": 144,
   "metadata": {},
   "outputs": [],
   "source": [
    "df = pd.read_csv('data_final.csv')"
   ]
  },
  {
   "cell_type": "code",
   "execution_count": 145,
   "metadata": {},
   "outputs": [
    {
     "output_type": "execute_result",
     "data": {
      "text/plain": "(37790, 6)"
     },
     "metadata": {},
     "execution_count": 145
    }
   ],
   "source": [
    "df.shape"
   ]
  },
  {
   "cell_type": "code",
   "execution_count": 146,
   "metadata": {},
   "outputs": [
    {
     "output_type": "execute_result",
     "data": {
      "text/plain": "   ID commande    Nom du fabricant Product Category Default  \\\n0         1743      FERME BIXARTEA                 CRÈMERIE   \n1         1743      FERME BIXARTEA                 FROMAGES   \n2         1743     FERME AROZTEGIA         FRUITS & LÉGUMES   \n3         1743      FERME ESNEKIAK                 CRÈMERIE   \n4         1743  FERME BELAZKABIETA                 ÉPICERIE   \n\n                                             Article  Code postal (Facture)  \\\n0                                     breuil (375g).                64250.0   \n1  fromage de brebis fermier (650g environ) +6 mo...                64250.0   \n2                              radis noir (la botte)                64250.0   \n3      Yaourt nature bio au lait entier (4 x125 gr).                64250.0   \n4             BIZIGAI Piment d'Espelette AOP (50 gr)                64250.0   \n\n  Ville (Facture)  \n0    SAINT PALAIS  \n1    SAINT PALAIS  \n2    SAINT PALAIS  \n3    SAINT PALAIS  \n4    SAINT PALAIS  ",
      "text/html": "<div>\n<style scoped>\n    .dataframe tbody tr th:only-of-type {\n        vertical-align: middle;\n    }\n\n    .dataframe tbody tr th {\n        vertical-align: top;\n    }\n\n    .dataframe thead th {\n        text-align: right;\n    }\n</style>\n<table border=\"1\" class=\"dataframe\">\n  <thead>\n    <tr style=\"text-align: right;\">\n      <th></th>\n      <th>ID commande</th>\n      <th>Nom du fabricant</th>\n      <th>Product Category Default</th>\n      <th>Article</th>\n      <th>Code postal (Facture)</th>\n      <th>Ville (Facture)</th>\n    </tr>\n  </thead>\n  <tbody>\n    <tr>\n      <th>0</th>\n      <td>1743</td>\n      <td>FERME BIXARTEA</td>\n      <td>CRÈMERIE</td>\n      <td>breuil (375g).</td>\n      <td>64250.0</td>\n      <td>SAINT PALAIS</td>\n    </tr>\n    <tr>\n      <th>1</th>\n      <td>1743</td>\n      <td>FERME BIXARTEA</td>\n      <td>FROMAGES</td>\n      <td>fromage de brebis fermier (650g environ) +6 mo...</td>\n      <td>64250.0</td>\n      <td>SAINT PALAIS</td>\n    </tr>\n    <tr>\n      <th>2</th>\n      <td>1743</td>\n      <td>FERME AROZTEGIA</td>\n      <td>FRUITS &amp; LÉGUMES</td>\n      <td>radis noir (la botte)</td>\n      <td>64250.0</td>\n      <td>SAINT PALAIS</td>\n    </tr>\n    <tr>\n      <th>3</th>\n      <td>1743</td>\n      <td>FERME ESNEKIAK</td>\n      <td>CRÈMERIE</td>\n      <td>Yaourt nature bio au lait entier (4 x125 gr).</td>\n      <td>64250.0</td>\n      <td>SAINT PALAIS</td>\n    </tr>\n    <tr>\n      <th>4</th>\n      <td>1743</td>\n      <td>FERME BELAZKABIETA</td>\n      <td>ÉPICERIE</td>\n      <td>BIZIGAI Piment d'Espelette AOP (50 gr)</td>\n      <td>64250.0</td>\n      <td>SAINT PALAIS</td>\n    </tr>\n  </tbody>\n</table>\n</div>"
     },
     "metadata": {},
     "execution_count": 146
    }
   ],
   "source": [
    "df.head()"
   ]
  },
  {
   "cell_type": "markdown",
   "metadata": {},
   "source": [
    "## 1 Modification du nom des colonnes"
   ]
  },
  {
   "cell_type": "code",
   "execution_count": 147,
   "metadata": {},
   "outputs": [
    {
     "output_type": "execute_result",
     "data": {
      "text/plain": "Index(['ID commande', 'Nom du fabricant', 'Product Category Default',\n       'Article', 'Code postal (Facture)', 'Ville (Facture)'],\n      dtype='object')"
     },
     "metadata": {},
     "execution_count": 147
    }
   ],
   "source": [
    "df.columns"
   ]
  },
  {
   "cell_type": "code",
   "execution_count": 148,
   "metadata": {},
   "outputs": [],
   "source": [
    "df.columns = ['commande','producteur','categorie','nom_produit','code_postal','commune']"
   ]
  },
  {
   "cell_type": "markdown",
   "metadata": {},
   "source": [
    "## 2 Modification contenu code_postal"
   ]
  },
  {
   "cell_type": "code",
   "execution_count": 149,
   "metadata": {},
   "outputs": [
    {
     "output_type": "execute_result",
     "data": {
      "text/plain": "dtype('float64')"
     },
     "metadata": {},
     "execution_count": 149
    }
   ],
   "source": [
    "df.code_postal.dtypes"
   ]
  },
  {
   "cell_type": "code",
   "execution_count": 150,
   "metadata": {},
   "outputs": [],
   "source": [
    "df.code_postal = df.code_postal.astype(int)"
   ]
  },
  {
   "cell_type": "code",
   "execution_count": 151,
   "metadata": {},
   "outputs": [
    {
     "output_type": "execute_result",
     "data": {
      "text/plain": "commande        int64\nproducteur     object\ncategorie      object\nnom_produit    object\ncode_postal     int64\ncommune        object\ndtype: object"
     },
     "metadata": {},
     "execution_count": 151
    }
   ],
   "source": [
    "df.dtypes"
   ]
  },
  {
   "cell_type": "code",
   "execution_count": 152,
   "metadata": {
    "scrolled": true
   },
   "outputs": [
    {
     "output_type": "execute_result",
     "data": {
      "text/plain": "   commande          producteur         categorie  \\\n0      1743      FERME BIXARTEA          CRÈMERIE   \n1      1743      FERME BIXARTEA          FROMAGES   \n2      1743     FERME AROZTEGIA  FRUITS & LÉGUMES   \n3      1743      FERME ESNEKIAK          CRÈMERIE   \n4      1743  FERME BELAZKABIETA          ÉPICERIE   \n\n                                         nom_produit  code_postal  \\\n0                                     breuil (375g).        64250   \n1  fromage de brebis fermier (650g environ) +6 mo...        64250   \n2                              radis noir (la botte)        64250   \n3      Yaourt nature bio au lait entier (4 x125 gr).        64250   \n4             BIZIGAI Piment d'Espelette AOP (50 gr)        64250   \n\n        commune  \n0  SAINT PALAIS  \n1  SAINT PALAIS  \n2  SAINT PALAIS  \n3  SAINT PALAIS  \n4  SAINT PALAIS  ",
      "text/html": "<div>\n<style scoped>\n    .dataframe tbody tr th:only-of-type {\n        vertical-align: middle;\n    }\n\n    .dataframe tbody tr th {\n        vertical-align: top;\n    }\n\n    .dataframe thead th {\n        text-align: right;\n    }\n</style>\n<table border=\"1\" class=\"dataframe\">\n  <thead>\n    <tr style=\"text-align: right;\">\n      <th></th>\n      <th>commande</th>\n      <th>producteur</th>\n      <th>categorie</th>\n      <th>nom_produit</th>\n      <th>code_postal</th>\n      <th>commune</th>\n    </tr>\n  </thead>\n  <tbody>\n    <tr>\n      <th>0</th>\n      <td>1743</td>\n      <td>FERME BIXARTEA</td>\n      <td>CRÈMERIE</td>\n      <td>breuil (375g).</td>\n      <td>64250</td>\n      <td>SAINT PALAIS</td>\n    </tr>\n    <tr>\n      <th>1</th>\n      <td>1743</td>\n      <td>FERME BIXARTEA</td>\n      <td>FROMAGES</td>\n      <td>fromage de brebis fermier (650g environ) +6 mo...</td>\n      <td>64250</td>\n      <td>SAINT PALAIS</td>\n    </tr>\n    <tr>\n      <th>2</th>\n      <td>1743</td>\n      <td>FERME AROZTEGIA</td>\n      <td>FRUITS &amp; LÉGUMES</td>\n      <td>radis noir (la botte)</td>\n      <td>64250</td>\n      <td>SAINT PALAIS</td>\n    </tr>\n    <tr>\n      <th>3</th>\n      <td>1743</td>\n      <td>FERME ESNEKIAK</td>\n      <td>CRÈMERIE</td>\n      <td>Yaourt nature bio au lait entier (4 x125 gr).</td>\n      <td>64250</td>\n      <td>SAINT PALAIS</td>\n    </tr>\n    <tr>\n      <th>4</th>\n      <td>1743</td>\n      <td>FERME BELAZKABIETA</td>\n      <td>ÉPICERIE</td>\n      <td>BIZIGAI Piment d'Espelette AOP (50 gr)</td>\n      <td>64250</td>\n      <td>SAINT PALAIS</td>\n    </tr>\n  </tbody>\n</table>\n</div>"
     },
     "metadata": {},
     "execution_count": 152
    }
   ],
   "source": [
    "df.head()"
   ]
  },
  {
   "cell_type": "code",
   "execution_count": 153,
   "metadata": {},
   "outputs": [
    {
     "output_type": "execute_result",
     "data": {
      "text/plain": "array([64250, 64240, 64780, 64480, 64640, 64100, 64990, 64600, 64310,\n       64210, 64200, 64120, 40220, 64122, 40440, 77700, 64340, 35580,\n       40530, 31300, 24270, 64500, 38000, 64330, 64190, 64140, 64220,\n       79400, 40300, 64300, 78000, 64259, 40390])"
     },
     "metadata": {},
     "execution_count": 153
    }
   ],
   "source": [
    "df.code_postal.unique()"
   ]
  },
  {
   "cell_type": "code",
   "execution_count": 154,
   "metadata": {},
   "outputs": [
    {
     "output_type": "execute_result",
     "data": {
      "text/plain": "5270"
     },
     "metadata": {},
     "execution_count": 154
    }
   ],
   "source": [
    "len(df.commande.unique())"
   ]
  },
  {
   "cell_type": "code",
   "execution_count": 155,
   "metadata": {},
   "outputs": [
    {
     "output_type": "execute_result",
     "data": {
      "text/plain": "(37790, 6)"
     },
     "metadata": {},
     "execution_count": 155
    }
   ],
   "source": [
    "df.shape"
   ]
  },
  {
   "cell_type": "code",
   "execution_count": 156,
   "metadata": {},
   "outputs": [
    {
     "output_type": "execute_result",
     "data": {
      "text/plain": "311"
     },
     "metadata": {},
     "execution_count": 156
    }
   ],
   "source": [
    "\n",
    "len(df.nom_produit.unique())"
   ]
  },
  {
   "cell_type": "code",
   "execution_count": 157,
   "metadata": {},
   "outputs": [
    {
     "output_type": "execute_result",
     "data": {
      "text/plain": "array([\"fromage de brebis fermier (650g environ) +6 mois d'affinage.\",\n       'Fromage Pérail de brebis.',\n       \"fromage de brebis fermier (1.5kg environ) +6 mois d'affinage.\",\n       'Sarrin frais.', 'Espil.', 'Garralda.', 'Ixuri.', 'Xedarri.',\n       'Patin.',\n       \"fromage de brebis fermier (1.5 kg environ) -6 mois d'affinage.\",\n       \"fromage de brebis fermier (650g environ) -6 mois d'affinage.\",\n       \"fromage de brebis fermier (500g environ) 10/12 mois d'affinage.\",\n       \"fromage de brebis fermier (1kg environ) 10/12 mois d'affinage.\",\n       \"fromage de brebis fermier (3KG) - 6 mois d'affinage.\",\n       'Etxebazter.', 'Manex.'], dtype=object)"
     },
     "metadata": {},
     "execution_count": 157
    }
   ],
   "source": [
    "df[df.categorie == 'FROMAGES']['nom_produit'].unique()"
   ]
  },
  {
   "cell_type": "code",
   "execution_count": 158,
   "metadata": {},
   "outputs": [
    {
     "output_type": "execute_result",
     "data": {
      "text/plain": "16"
     },
     "metadata": {},
     "execution_count": 158
    }
   ],
   "source": [
    "len(df[df.categorie == 'FROMAGES']['nom_produit'].unique())"
   ]
  },
  {
   "cell_type": "code",
   "execution_count": 159,
   "metadata": {},
   "outputs": [
    {
     "output_type": "stream",
     "name": "stdout",
     "text": "CRÈMERIE breuil (375g).\nCRÈMERIE Yaourt nature bio au lait entier (4 x125 gr).\nCRÈMERIE Fromage blanc de vache nature,lisse bio (500g).\nCRÈMERIE Yaourt a la fraise bio au lait entier  (4 x 125 gr).\nCRÈMERIE Beurre doux bio au lait cru ( 250 gr).\nCRÈMERIE Creme fraiche bio  au lait cru (250ml).\nCRÈMERIE Lait de vache demi-ecreme pasteurise bio (1L).\nCRÈMERIE Yaourt a la framboise bio  au lait entier (4 x125 gr).\nCRÈMERIE Fromage blanc de vache nature campagne bio (500g).\nCRÈMERIE Yaourt a la myrtille bio  au lait entier (4 x 125g).\nCRÈMERIE Breuil (1kg).\nCRÈMERIE Lait de vache entier pasteurise bio (1L).\nCRÈMERIE Mamia (x4).\nCRÈMERIE Breuil (500g).\nCRÈMERIE Yaourt au citron, bio,  au lait entier (4 x 125g).\nCRÈMERIE Beurre salé bio au lait cru (250g).\nCRÈMERIE Yaourt a la vanille  bio  au lait entier ( 4 x 125 gr).\nCRÈMERIE Yaourt brebis nature (lot de 4).\nCRÈMERIE Yaourt brebis fruits rouges coulis (lot de 4).\nCRÈMERIE Yaourt aux fruits, bio, au lait entier (4 x 125g).\nCRÈMERIE Yaourt brebis citron (lot de 4).\nCRÈMERIE Lait de chevre AB (1L).\nCRÈMERIE Fromage blanc de chevre (500g).\nCRÈMERIE Fromage blanc de chevre (420g).\nFROMAGES fromage de brebis fermier (650g environ) +6 mois d'affinage.\nFROMAGES Fromage Pérail de brebis.\nFROMAGES fromage de brebis fermier (1.5kg environ) +6 mois d'affinage.\nFROMAGES Sarrin frais.\nFROMAGES Espil.\nFROMAGES Garralda.\nFROMAGES Ixuri.\nFROMAGES Xedarri.\nFROMAGES Patin.\nFROMAGES fromage de brebis fermier (1.5 kg environ) -6 mois d'affinage.\nFROMAGES fromage de brebis fermier (650g environ) -6 mois d'affinage.\nFROMAGES fromage de brebis fermier (500g environ) 10/12 mois d'affinage.\nFROMAGES fromage de brebis fermier (1kg environ) 10/12 mois d'affinage.\nFROMAGES fromage de brebis fermier (3KG) - 6 mois d'affinage.\nFROMAGES Etxebazter.\nFROMAGES Manex.\nFRUITS & LÉGUMES radis noir (la botte)\nFRUITS & LÉGUMES betterave rouge (la botte)\nFRUITS & LÉGUMES courge potimarron ou butternut (1kg)\nFRUITS & LÉGUMES courge longue de naples (1kg)\nFRUITS & LÉGUMES Pomme de terre de l'année(2.5kg)\nFRUITS & LÉGUMES Persil (la botte)\nFRUITS & LÉGUMES batavia ou feuille de chene\nFRUITS & LÉGUMES assortiment chou fleur / romanesco (0,8-1kg)\nFRUITS & LÉGUMES Mache AB (200gr)\nFRUITS & LÉGUMES chou frise ou cabus (600gr a 800gr)\nFRUITS & LÉGUMES Epinard (300g)\nFRUITS & LÉGUMES chicoree scarole\nFRUITS & LÉGUMES choux de Bruxelles (500g)\nFRUITS & LÉGUMES pomme de terre vapeur (2kg)\nFRUITS & LÉGUMES navet (750g)\nFRUITS & LÉGUMES Pomme de terre de l'année (1kg)\nFRUITS & LÉGUMES chou de chine\nFRUITS & LÉGUMES Cagette \"surprise\"\nFRUITS & LÉGUMES Poireaux d'HIVER (lot de 3 ou 4)\nFRUITS & LÉGUMES Fenouil (500gr)\nFRUITS & LÉGUMES Céleri branche (le bouquet de 5 ou 6 branches)\nFRUITS & LÉGUMES Oignon  rouge ( la botte)\nFRUITS & LÉGUMES Ail sec (300gr)\nFRUITS & LÉGUMES Blette (la botte)\nFRUITS & LÉGUMES feves (1-1,2kg)\nFRUITS & LÉGUMES petit pois Mangetout\nFRUITS & LÉGUMES pomme de terre primeur 1kg\nFRUITS & LÉGUMES Cerises Bigarreau (600 gr)\nFRUITS & LÉGUMES Cerises Bigarreau (300 gr)\nFRUITS & LÉGUMES radis de printemps (la botte)\nFRUITS & LÉGUMES Courgette primeur (1kg)\nFRUITS & LÉGUMES batavia ou feuille de chene ( la paire )\nFRUITS & LÉGUMES petit pois (500g)\nFRUITS & LÉGUMES Piment doux du pays basque (250g)\nFRUITS & LÉGUMES Chou Kale (la botte)\nFRUITS & LÉGUMES Concombre (l'unité)\nFRUITS & LÉGUMES Chou rave (700gr)\nFRUITS & LÉGUMES courgette (2kg)\nFRUITS & LÉGUMES Tomate (750gr)\nFRUITS & LÉGUMES aubergine variée (750gr)\nFRUITS & LÉGUMES oignon jaune (750g)\nFRUITS & LÉGUMES Pommes Andere dona maria (1kg)\nFRUITS & LÉGUMES celeri rave (lot de 3ou4)\nFRUITS & LÉGUMES Echalote (400g)\nFRUITS & LÉGUMES Eri Sagarra Petit calibre (1kg)\nFRUITS & LÉGUMES carotte (la botte 700 a 750gr)\nFRUITS & LÉGUMES Pommes Urtats (1kg)\nFRUITS & LÉGUMES Mélange de pommes (1kg)\nFRUITS & LÉGUMES Mélange de pommes (3kg)\nFRUITS & LÉGUMES Poivron varié (750gr)\nFRUITS & LÉGUMES Pastèque en quartier de 1Kg\nFRUITS & LÉGUMES Potimarron\nFRUITS & LÉGUMES Pommes Anisa (1 kg)\nFRUITS & LÉGUMES haricots verts (750g)\nFRUITS & LÉGUMES Pêches de vigne blanches (500 gr)\nFRUITS & LÉGUMES pommes Eri sagarra (1kg)\nFRUITS & LÉGUMES Batavia ou feuille de chene\nFRUITS & LÉGUMES Chou frise ou cabus (600gr a 800gr)\nFRUITS & LÉGUMES Carotte (la botte)\nFRUITS & LÉGUMES Navet (la botte)\nFRUITS & LÉGUMES Mache (200gr)\nFRUITS & LÉGUMES Chou de chine\nFRUITS & LÉGUMES Chou Pak Choï\nFRUITS & LÉGUMES Ciboulette (la botte)\nFRUITS & LÉGUMES Radis (la botte)\nFRUITS & LÉGUMES Musquée de Provence (1kg)\nFRUITS & LÉGUMES Potimarron (1kg)\nFRUITS & LÉGUMES Pomme de terre de l'année (3kg)\nFRUITS & LÉGUMES Longue de Nice (1kg)\nFRUITS & LÉGUMES Butternut (1kg)\nFRUITS & LÉGUMES Courge spaghetti (1kg)\nFRUITS & LÉGUMES Patidou (1kg)\nFRUITS & LÉGUMES Batavia ou feuille de chene (la paire)\nFRUITS & LÉGUMES Céleri rave (lot de 3 ou 4)\nFRUITS & LÉGUMES Betterave rouge (600 gr)\nFRUITS & LÉGUMES Pommes Gordin Gorri (1kg)\nFRUITS & LÉGUMES Pommes Gordin Xuri (1kg)\nFRUITS & LÉGUMES Pommes Jinko sagarra (1kg)\nFRUITS & LÉGUMES Mesclun (220 gr)\nFRUITS & LÉGUMES Oignon  blanc frais (la botte)\nFRUITS & LÉGUMES Chou vert (l'unité)\nFRUITS & LÉGUMES Aillet frais (la botte de 6-8)\nFRUITS & LÉGUMES Roquette AB (200g)\nÉPICERIE BIZIGAI Piment d'Espelette AOP (50 gr)\nÉPICERIE Confiture de pêches (360g)\nÉPICERIE compote de pommes 750g\nÉPICERIE Coulis de Mûres (320g)\nÉPICERIE Jus de pommes (1L)\nÉPICERIE Confiture de Figue (360g)\nÉPICERIE Coulis de Cassis (320g)\nÉPICERIE Soupe de poisson (1L)\nÉPICERIE Miel de bruyère cendrée de la forêt landaise (pot de 500g)\nÉPICERIE Sirop de Fleurs d'Accacia (320ml)\nÉPICERIE Confiture de cerise d'Itxassou (260 gr)\nÉPICERIE Farine de Maïs Grand Roux Basque AB (500 gr)\nÉPICERIE Purée de Piment d'Espelette (95 gr) SUGORRI\nÉPICERIE Miel de Châtaigner (pot de 500g)\nÉPICERIE gelée de pommes Anisa 190g\nÉPICERIE Miel fleurs de printemps (500g)\nÉPICERIE Gelée de Pommes au Piment d'Espelette (125 gr) SAGARMIN\nÉPICERIE Confiture de prune (250 gr)\nÉPICERIE Farine bise semi complète (1kg)\nÉPICERIE Miel de Callune de la montagne du Pays Basque (pot de 250g)\nÉPICERIE CIDRE FERMIER (1l)\nÉPICERIE Sirop menthe-citron (320ml)\nÉPICERIE Pain d'épices pur miel ( 320 gr)\nÉPICERIE Pollen de chataigner ( 250 gr)\nÉPICERIE Miel de Callune de la montagne du Haut béarn (pot de 250g)\nÉPICERIE Confiture de poires (360g)\nÉPICERIE Coulis de Pêche (320g)\nÉPICERIE Sirop de fleurs de sureau (320ml)\nÉPICERIE Polenta de Maïs Grand Roux Basque (500 gr)\nÉPICERIE Miel d' Acacia (pot de 500g)\nÉPICERIE Carton de jus de pommes (6 x 1L)\nÉPICERIE Savon Lierre-Menthe surgras (5%)\nÉPICERIE Savon Carotte-Ortie surgras (5%)\nÉPICERIE Miel et safran (pot de 250gr)\nÉPICERIE Pâte à tartiner Miel et Amande (pot de 250gr)\nÉPICERIE Miel de tilleul montagne (pot de 500g)\nÉPICERIE Pâte à tartiner Miel et Noisette  (pot de 250gr)\nÉPICERIE Miel et piment d 'Espelette (pot de 250gr)\nÉPICERIE Crème de châtaigne (250 gr)\nÉPICERIE Purée de pomme (350 gr)\nÉPICERIE Farine de blé T80 (1 kg)\nÉPICERIE Farine de sarrasin (1 kg)\nÉPICERIE Nectar de kiwi (1 L)\nÉPICERIE Savon neutre Miel / Calendula (95 gr)\nÉPICERIE Savon dynamisant Menthe / Citron / Argile verte (95 gr)\nÉPICERIE Savon doux Palmarosa / Argile rose (95 gr)\nÉPICERIE Savon apaisant Lavande (95 gr)\nÉPICERIE Miel de ronce (250 gr)\nÉPICERIE Confiture de groseille (360 gr)\nÉPICERIE Vin blanc AB Chardonnay\nÉPICERIE Vin rouge AB Merlot\nÉPICERIE Vin rosé AB Rosado\nÉPICERIE Vin rouge AB Graciano\nFRUITS Pommes Gordin Xuri (1kg)\nFRUITS Oranges AB (1 kg)\nFRUITS Pomelos AB (1 kg)\nFRUITS Clementines AB (1 kg)\nFRUITS Citrons AB (1 kg)\nFRUITS Kiwi vert ( 1 kg)\nFRUITS Panier d'agrumes AB (2 kg)\nVOLAILLES & OEUFS Petit poulet fermier 1,250 kg (+/- 100 gr) AB.\nVOLAILLES & OEUFS Petite pintade fermière 1,250 kg (+/- 100gr) AB.\nVOLAILLES & OEUFS Pintade fermière moyenne 1,5 kg (+/- 100gr) AB.\nVOLAILLES & OEUFS Grosse pintade fermière 1,8 kg (+/- 100gr) AB.\nVOLAILLES & OEUFS Gros poulet fermier 1,8 kg (+/- 100gr) AB.\nVOLAILLES & OEUFS Poule fermière 1,300 kg (+/- 100 gr) AB.\nVOLAILLES & OEUFS Oeufs fermiers AB (x6)\nVOLAILLES & OEUFS Oeufs fermiers AB (x12)\nVOLAILLES & OEUFS Oeufs fermiers AB (x10)\nVOLAILLES & OEUFS Oeufs fermiers AB (x12) T\nVOLAILLES & OEUFS Oeufs fermiers AB (x6) L\nVOLAILLES & OEUFS Oeufs fermiers AB (x12) L\nVIANDES Axoa de veau bio  (750g)\nVIANDES Colis de porc Kintoa (4,500kg).\nVIANDES Saucisses de Porc Basque x4 (400 gr).\nVIANDES Cotes (échine) de Porc Basque x2 (400 gr).\nVIANDES Cotes (filet) de Porc Basque x2 (350 gr).\nVIANDES Foie de veau AB (300 gr).\nVIANDES Tendrons de veau AB (1 kg).\nVIANDES Sauté de veau AB (1 kg).\nVIANDES Cotes de veau AB (500 gr).\nVIANDES Tendrons de veau AB (500 gr).\nVIANDES Sauté de veau AB (500 gr).\nVIANDES Escalopes de veau AB (500 gr).\nVIANDES Cotes de veau AB (1 kg).\nVIANDES agneau de lait (entre 6-8kg) BIXARTEA.\nVIANDES demi agneau de lait (4-4.5kg) BIXARTEA.\nVIANDES Ventrêche de Porc Basque (250 gr).\nVIANDES Pate de porc basque (190g)\nVIANDES Chichon de porc basque (180g)\nVIANDES Colis de 3Kg de steacks hachés bio ( environ 25 steacks).\nVIANDES Boudin de porc basque (190 gr)\nVIANDES 4 steacks hachés bio ( environ  500gr).\nVIANDES 8 steacks hachés bio ( environ  1 Kg).\nVIANDES Canette Kriaxera à rotir (2,9 kg - 3,1 kg).\nVIANDES Demi chevreau de lait  (colis de 3,5kg).\nVIANDES Saucisson de Porc Basque (205 gr-220 gr)\nVIANDES navarrin de chèvre (780g)\nVIANDES Veau bio (colis de 3kg).\nVIANDES Escalopes de veau AB (1 kg).\nVIANDES Saucisson de chèvre (180-200 gr)\nVIANDES Cabri massalé (590g)\nVIANDES 8 merguez de mouton (500 gr).\nVIANDES Sauté de veau bio  (750g)\nVIANDES Cabri Xilindron (390 g)\nVIANDES Foie de veau AB (500 gr).\nVIANDES Filet Mignon de Porc Basque (500 gr).\nVIANDES Chipolatas de porc basque (400 gr).\nVIANDES Boudins de Porc Basque x3 (300 gr).\nVIANDES Coustons de Porc Basque x2 (200 gr).\nVIANDES Roti (épaule) de Porc Basque (800 gr).\nVIANDES Cotes de chevreau de lait (250 gr).\nVIANDES Abats de chevreau de lait (450 gr).\nVIANDES Carré de cotes de chevreau de lait (600 gr).\nVIANDES Collier de chevreau de lait (500 gr).\nVIANDES Gigot de chevreau tranché (250 gr).\nVIANDES Gigot de chevreau de lait (900 gr).\nVIANDES Epaule de chevreau de lait (600 gr).\nVIANDES Saucisson de Porc Basque (230 gr-260 gr)\nVIANDES Foie de veau (200 gr) E.\nVIANDES Escalopes de veau (200 gr) E.\nVIANDES Sauté de veau (500 gr) E.\nVIANDES Cotes de veau filet (200 gr) E.\nVIANDES Préparation de viande hachée de veau (120 gr) E.\nVIANDES Tendrons de veau (225 gr) E.\nVIANDES Roti de veau (600 gr) E.\nVIANDES Cotes de veau découverte (250 gr) E.\nVIANDES 6 Merguez de chèvre (350 gr).\nVIANDES Chipolatas de porc basque x4 (330 gr) E.\nVIANDES Saucisses de Porc Basque x2 (180 gr) E.\nVIANDES Boudins de Porc Basque x2 (230 gr) E.\nVIANDES Cotes filet de Porc Basque x2 (350 gr) E.\nVIANDES Cotes échine de Porc Basque x2 (350 gr) E.\nVIANDES Roti (épaule) de Porc Basque (600-800 gr) E.\nVIANDES Rillettes de canard (170 gr)\nVIANDES Bloc de foie gras de canard (140 gr)\nVIANDES Foie gras de canard mi-cuit (200 gr).\nVIANDES Bocal de foie gras de canard (180 gr)\nVIANDES Lardons de Porc Basque (200 gr).\nVIANDES Roti de boeuf (1 kg) E.\nVIANDES Steack de boeuf (220 gr) E.\nVIANDES Préparation de viande hachée de boeuf (240 gr) E.\nVIANDES Bourguignon de boeuf (1 kg) E.\nVIANDES Saucisson de Porc Basque (290 gr-320 gr)\nVIANDES Saucisson de porc bio (240 gr-260 gr)\nVOLAILLES Poulet fermier moyen 1,6 kg (+/-100 gr) AB.\nVOLAILLES Poulet fermier moyen 1,6 kg (+/-100 gr) AB.M\nVOLAILLES Poulet fermier moyen (1,6 - 1,8 kg).X\nVOLAILLES Gros poulet fermier (1,8 - 2,0 kg).X\nÉPICERIE SUCRÉE Confiture de lait de chèvre (100 gr)\nÉPICERIE SUCRÉE Confiture de cassis AB (240 gr)\nÉPICERIE SUCRÉE Confiture de mirabelle AB (240 gr)\nÉPICERIE SUCRÉE Gelée de pommes AB (240 gr)\nÉPICERIE SUCRÉE Confiture de lait de chèvre (180 gr)\nÉPICERIE SUCRÉE Confiture de prune AB (240 gr)\nÉPICERIE SUCRÉE Coulis de pêche de vigne AB (320 gr)\nYAOURT & FROMAGE BLANC Yaourt nature au lait de chèvre (4 x 125 gr).\nYAOURT & FROMAGE BLANC Yaourt sucré au lait de chèvre (125 gr).\nYAOURT & FROMAGE BLANC Yaourt abricot au lait de chèvre (4 x 125 gr).\nVIANDE FRAÎCHE Poisson frais.\nVIANDE FRAÎCHE Darnes de thon blanc.\nVIANDE FRAÎCHE Thon blanc entier (6 kg).\nVIANDE FRAÎCHE Magret de canard frais sous vide (400 gr).\nVIANDE FRAÎCHE Cuisse de canard confite sous vide.\nVIANDE FRAÎCHE Manchons de canard sous vide (x2).\nVIANDE FRAÎCHE Foie gras frais de canard (640 gr).\nVIANDE FRAÎCHE Bocal de 4 gésiers de canard confits\nVIANDE FRAÎCHE Foie gras frais de canard (580 gr).\nVIANDE FRAÎCHE Pigeonneau (380-400 gr).\nÉPICERIE SALÉE Huile de tournesol (0,75 l)\nÉPICERIE SALÉE Huile de colza (0,75 l)\nÉPICERIE SALÉE Fusilli semi complètes (pates) 500 gr AB\nÉPICERIE SALÉE Coquillettes semi complètes (pates) 500 gr AB\nLÉGUMES Melon\nBOISSONS Tisane Detox (25 gr)\nBOISSONS Tisane Air Pur (25 gr)\nBOISSONS Tisane Souplesse (25 gr)\nBOISSONS Tisane Aube (25 gr)\nBOISSONS Tisane la Zen (25 gr)\nBOISSONS Tisane coquelicots (25 gr)\nBOISSONS Tisane nuit étoilée (25 gr)\nBOISSONS Tisane la gloutonne (25g)\nNOS PRODUITS Patate douce 1kg\nNOS PRODUITS Coffret de Noël\nFROMAGE DE VACHE Tomme de vache fraîche (4-8 sem) 575 gr.\nFROMAGE DE VACHE Fromage de vache affiné (4-6 mois) 550 gr.\nFROMAGE DE VACHE Tomme de vache fraîche (4-8 sem) 1,15 kg.\nFROMAGE DE VACHE Fromage de vache affiné (4-6 mois) 1,1 kg.\nPLATS CUISINÉS Poule confite\n"
    }
   ],
   "source": [
    "for cat in df.categorie.unique():\n",
    "    for produit in df[df.categorie == cat]['nom_produit'].unique():\n",
    "        print(cat,produit)"
   ]
  },
  {
   "cell_type": "markdown",
   "metadata": {},
   "source": [
    "## 3 Reduction du nombre de produits\n",
    "Actuellement il y a 311 produits différents, mais on remarque que l'on peut réunir en un seul plusieurs produits (par exemple il y a 7 \"fromages de brebis fermier\" car avec des poids différents...)"
   ]
  },
  {
   "cell_type": "markdown",
   "metadata": {},
   "source": [
    "### Pour la catégorie CRÈMERIE"
   ]
  },
  {
   "cell_type": "code",
   "execution_count": 160,
   "metadata": {},
   "outputs": [
    {
     "output_type": "stream",
     "name": "stdout",
     "text": "['breuil (375g).' 'Yaourt nature bio au lait entier (4 x125 gr).'\n 'Fromage blanc de vache nature,lisse bio (500g).'\n 'Yaourt a la fraise bio au lait entier  (4 x 125 gr).'\n 'Beurre doux bio au lait cru ( 250 gr).'\n 'Creme fraiche bio  au lait cru (250ml).'\n 'Lait de vache demi-ecreme pasteurise bio (1L).'\n 'Yaourt a la framboise bio  au lait entier (4 x125 gr).'\n 'Fromage blanc de vache nature campagne bio (500g).'\n 'Yaourt a la myrtille bio  au lait entier (4 x 125g).' 'Breuil (1kg).'\n 'Lait de vache entier pasteurise bio (1L).' 'Mamia (x4).'\n 'Breuil (500g).' 'Yaourt au citron, bio,  au lait entier (4 x 125g).'\n 'Beurre salé bio au lait cru (250g).'\n 'Yaourt a la vanille  bio  au lait entier ( 4 x 125 gr).'\n 'Yaourt brebis nature (lot de 4).'\n 'Yaourt brebis fruits rouges coulis (lot de 4).'\n 'Yaourt aux fruits, bio, au lait entier (4 x 125g).'\n 'Yaourt brebis citron (lot de 4).' 'Lait de chevre AB (1L).'\n 'Fromage blanc de chevre (500g).' 'Fromage blanc de chevre (420g).'] 24\n"
    }
   ],
   "source": [
    "print(df[df.categorie == 'CRÈMERIE']['nom_produit'].unique(), len(df[df.categorie == 'CRÈMERIE']['nom_produit'].unique()))"
   ]
  },
  {
   "cell_type": "markdown",
   "metadata": {},
   "source": [
    "On peut réduire le nombre actuels de produits de 24 à 7\n",
    "- breuil\n",
    "- mamia\n",
    "- yaourt\n",
    "- fromage blanc\n",
    "- lait\n",
    "- beurre\n",
    "- creme fraiche"
   ]
  },
  {
   "cell_type": "code",
   "execution_count": 161,
   "metadata": {},
   "outputs": [],
   "source": [
    "filtre1 = (df.categorie == 'CRÈMERIE') | (df.categorie == 'YAOURT & FROMAGE BLANC')\n",
    "df_cremerie_yaourt = df[filtre1].copy()"
   ]
  },
  {
   "cell_type": "code",
   "execution_count": 162,
   "metadata": {},
   "outputs": [
    {
     "output_type": "execute_result",
     "data": {
      "text/plain": "       commande       producteur categorie  \\\n0          1743   FERME BIXARTEA  CRÈMERIE   \n3          1743   FERME ESNEKIAK  CRÈMERIE   \n6          1750   FERME BIXARTEA  CRÈMERIE   \n7          1750   FERME ESNEKIAK  CRÈMERIE   \n8          1750   FERME ESNEKIAK  CRÈMERIE   \n...         ...              ...       ...   \n37780      7205   FERME ESNEKIAK  CRÈMERIE   \n37781      7205   FERME ESNEKIAK  CRÈMERIE   \n37782      7205   FERME ESNEKIAK  CRÈMERIE   \n37787      7205   FERME ESNEKIAK  CRÈMERIE   \n37788      7205   FERME ESNEKIAK  CRÈMERIE   \n\n                                             nom_produit  code_postal  \\\n0                                         breuil (375g).        64250   \n3          Yaourt nature bio au lait entier (4 x125 gr).        64250   \n6                                         breuil (375g).        64240   \n7        Fromage blanc de vache nature,lisse bio (500g).        64240   \n8      Yaourt a la fraise bio au lait entier  (4 x 12...        64240   \n...                                                  ...          ...   \n37780  Yaourt au citron, bio,  au lait entier (4 x 12...        64480   \n37781  Yaourt a la fraise bio au lait entier  (4 x 12...        64480   \n37782  Yaourt a la myrtille bio  au lait entier (4 x ...        64480   \n37787      Yaourt nature bio au lait entier (4 x125 gr).        64480   \n37788     Lait de vache demi-ecreme pasteurise bio (1L).        64480   \n\n            commune  \n0      SAINT PALAIS  \n3      SAINT PALAIS  \n6         HASPARREN  \n7         HASPARREN  \n8         HASPARREN  \n...             ...  \n37780      ustaritz  \n37781      ustaritz  \n37782      ustaritz  \n37787      ustaritz  \n37788      ustaritz  \n\n[12570 rows x 6 columns]",
      "text/html": "<div>\n<style scoped>\n    .dataframe tbody tr th:only-of-type {\n        vertical-align: middle;\n    }\n\n    .dataframe tbody tr th {\n        vertical-align: top;\n    }\n\n    .dataframe thead th {\n        text-align: right;\n    }\n</style>\n<table border=\"1\" class=\"dataframe\">\n  <thead>\n    <tr style=\"text-align: right;\">\n      <th></th>\n      <th>commande</th>\n      <th>producteur</th>\n      <th>categorie</th>\n      <th>nom_produit</th>\n      <th>code_postal</th>\n      <th>commune</th>\n    </tr>\n  </thead>\n  <tbody>\n    <tr>\n      <th>0</th>\n      <td>1743</td>\n      <td>FERME BIXARTEA</td>\n      <td>CRÈMERIE</td>\n      <td>breuil (375g).</td>\n      <td>64250</td>\n      <td>SAINT PALAIS</td>\n    </tr>\n    <tr>\n      <th>3</th>\n      <td>1743</td>\n      <td>FERME ESNEKIAK</td>\n      <td>CRÈMERIE</td>\n      <td>Yaourt nature bio au lait entier (4 x125 gr).</td>\n      <td>64250</td>\n      <td>SAINT PALAIS</td>\n    </tr>\n    <tr>\n      <th>6</th>\n      <td>1750</td>\n      <td>FERME BIXARTEA</td>\n      <td>CRÈMERIE</td>\n      <td>breuil (375g).</td>\n      <td>64240</td>\n      <td>HASPARREN</td>\n    </tr>\n    <tr>\n      <th>7</th>\n      <td>1750</td>\n      <td>FERME ESNEKIAK</td>\n      <td>CRÈMERIE</td>\n      <td>Fromage blanc de vache nature,lisse bio (500g).</td>\n      <td>64240</td>\n      <td>HASPARREN</td>\n    </tr>\n    <tr>\n      <th>8</th>\n      <td>1750</td>\n      <td>FERME ESNEKIAK</td>\n      <td>CRÈMERIE</td>\n      <td>Yaourt a la fraise bio au lait entier  (4 x 12...</td>\n      <td>64240</td>\n      <td>HASPARREN</td>\n    </tr>\n    <tr>\n      <th>...</th>\n      <td>...</td>\n      <td>...</td>\n      <td>...</td>\n      <td>...</td>\n      <td>...</td>\n      <td>...</td>\n    </tr>\n    <tr>\n      <th>37780</th>\n      <td>7205</td>\n      <td>FERME ESNEKIAK</td>\n      <td>CRÈMERIE</td>\n      <td>Yaourt au citron, bio,  au lait entier (4 x 12...</td>\n      <td>64480</td>\n      <td>ustaritz</td>\n    </tr>\n    <tr>\n      <th>37781</th>\n      <td>7205</td>\n      <td>FERME ESNEKIAK</td>\n      <td>CRÈMERIE</td>\n      <td>Yaourt a la fraise bio au lait entier  (4 x 12...</td>\n      <td>64480</td>\n      <td>ustaritz</td>\n    </tr>\n    <tr>\n      <th>37782</th>\n      <td>7205</td>\n      <td>FERME ESNEKIAK</td>\n      <td>CRÈMERIE</td>\n      <td>Yaourt a la myrtille bio  au lait entier (4 x ...</td>\n      <td>64480</td>\n      <td>ustaritz</td>\n    </tr>\n    <tr>\n      <th>37787</th>\n      <td>7205</td>\n      <td>FERME ESNEKIAK</td>\n      <td>CRÈMERIE</td>\n      <td>Yaourt nature bio au lait entier (4 x125 gr).</td>\n      <td>64480</td>\n      <td>ustaritz</td>\n    </tr>\n    <tr>\n      <th>37788</th>\n      <td>7205</td>\n      <td>FERME ESNEKIAK</td>\n      <td>CRÈMERIE</td>\n      <td>Lait de vache demi-ecreme pasteurise bio (1L).</td>\n      <td>64480</td>\n      <td>ustaritz</td>\n    </tr>\n  </tbody>\n</table>\n<p>12570 rows × 6 columns</p>\n</div>"
     },
     "metadata": {},
     "execution_count": 162
    }
   ],
   "source": [
    "df_cremerie_yaourt"
   ]
  },
  {
   "cell_type": "code",
   "execution_count": 163,
   "metadata": {},
   "outputs": [],
   "source": [
    "def product_cremerie_yaourt(row):\n",
    "    nom = row.nom_produit\n",
    "    nom = nom.lower()\n",
    "    if 'yaourt' in nom:\n",
    "        return 'yaourt'\n",
    "    elif 'breuil' in nom:\n",
    "        return 'breuil'\n",
    "    elif 'mamia' in nom:\n",
    "        return 'mamia'\n",
    "    elif 'fromage blanc' in nom:\n",
    "        return 'fromage blanc'\n",
    "    elif 'beurre' in nom:\n",
    "        return 'beurre'\n",
    "    elif 'creme fraiche' in nom:\n",
    "        return 'creme fraiche'\n",
    "    elif 'lait' in nom:\n",
    "        return 'lait'\n",
    "    else:\n",
    "        return 'erreur'\n",
    "\n",
    "df_cremerie_yaourt['produit'] = df_cremerie_yaourt.apply(product_cremerie_yaourt, axis=1)"
   ]
  },
  {
   "cell_type": "code",
   "execution_count": 164,
   "metadata": {},
   "outputs": [
    {
     "output_type": "execute_result",
     "data": {
      "text/plain": "array(['breuil', 'yaourt', 'fromage blanc', 'beurre', 'creme fraiche',\n       'lait', 'mamia'], dtype=object)"
     },
     "metadata": {},
     "execution_count": 164
    }
   ],
   "source": [
    "df_cremerie_yaourt['produit'].unique()"
   ]
  },
  {
   "cell_type": "markdown",
   "metadata": {},
   "source": [
    "### Catégorie Fromages et Fromage de vache\n",
    "Pour simplifier nous réunissons le traitement de ces deux catégories"
   ]
  },
  {
   "cell_type": "code",
   "execution_count": 165,
   "metadata": {},
   "outputs": [
    {
     "output_type": "execute_result",
     "data": {
      "text/plain": "array(['CRÈMERIE', 'FROMAGES', 'FRUITS & LÉGUMES', 'ÉPICERIE', 'FRUITS',\n       'VOLAILLES & OEUFS', 'VIANDES', 'VOLAILLES', 'ÉPICERIE SUCRÉE',\n       'YAOURT & FROMAGE BLANC', 'VIANDE FRAÎCHE', 'ÉPICERIE SALÉE',\n       'LÉGUMES', 'BOISSONS', 'NOS PRODUITS', 'FROMAGE DE VACHE',\n       'PLATS CUISINÉS'], dtype=object)"
     },
     "metadata": {},
     "execution_count": 165
    }
   ],
   "source": [
    "df.categorie.unique()"
   ]
  },
  {
   "cell_type": "code",
   "execution_count": 166,
   "metadata": {},
   "outputs": [],
   "source": [
    "filtre = (df.categorie == 'FROMAGES') | (df.categorie == 'FROMAGE DE VACHE')"
   ]
  },
  {
   "cell_type": "code",
   "execution_count": 167,
   "metadata": {},
   "outputs": [],
   "source": [
    "df_fromage = df[filtre].copy()"
   ]
  },
  {
   "cell_type": "code",
   "execution_count": 168,
   "metadata": {},
   "outputs": [],
   "source": [
    "def product_fromage(row):\n",
    "    nom = row.nom_produit\n",
    "    nom = nom.lower()\n",
    "    if 'fromage de brebis fermier' in nom:\n",
    "        return 'fromage de brebis fermier'\n",
    "    elif 'fromage pérail de brebis' in nom:\n",
    "        return 'fromage pérail de brebis'\n",
    "    elif 'tomme de vache fraîche' in nom:\n",
    "        return 'tomme de vache fraîche'\n",
    "    elif 'fromage de vache affiné' in nom:\n",
    "        return 'fromage de vache affiné'\n",
    "    elif 'sarrin' in nom or 'espil' in nom or 'garralda' in nom or 'ixuri' in nom or'xedarri' in nom or 'manex' in nom or 'patin' in nom or 'etxebazter' in nom:\n",
    "        return 'fromage de chèvre'\n",
    "    else:\n",
    "        return 'erreur'\n",
    "\n",
    "\n",
    "df_fromage['produit'] = df_fromage.apply(product_fromage, axis = 1)"
   ]
  },
  {
   "cell_type": "code",
   "execution_count": 169,
   "metadata": {},
   "outputs": [
    {
     "output_type": "execute_result",
     "data": {
      "text/plain": "Empty DataFrame\nColumns: [commande, producteur, categorie, nom_produit, code_postal, commune, produit]\nIndex: []",
      "text/html": "<div>\n<style scoped>\n    .dataframe tbody tr th:only-of-type {\n        vertical-align: middle;\n    }\n\n    .dataframe tbody tr th {\n        vertical-align: top;\n    }\n\n    .dataframe thead th {\n        text-align: right;\n    }\n</style>\n<table border=\"1\" class=\"dataframe\">\n  <thead>\n    <tr style=\"text-align: right;\">\n      <th></th>\n      <th>commande</th>\n      <th>producteur</th>\n      <th>categorie</th>\n      <th>nom_produit</th>\n      <th>code_postal</th>\n      <th>commune</th>\n      <th>produit</th>\n    </tr>\n  </thead>\n  <tbody>\n  </tbody>\n</table>\n</div>"
     },
     "metadata": {},
     "execution_count": 169
    }
   ],
   "source": [
    "df_fromage[df_fromage.produit == 'erreur']"
   ]
  },
  {
   "cell_type": "markdown",
   "metadata": {},
   "source": [
    "### Catégorie Fruits & légumes et catégorie fruits\n",
    "Pour simplifier nous réunissons le traitement de ces deux catégories également"
   ]
  },
  {
   "cell_type": "code",
   "execution_count": 170,
   "metadata": {
    "scrolled": true
   },
   "outputs": [],
   "source": [
    "filtre2 = (df.categorie == 'FRUITS & LÉGUMES') | (df.categorie == 'FRUITS')| (df.categorie == 'NOS PRODUITS')"
   ]
  },
  {
   "cell_type": "code",
   "execution_count": 171,
   "metadata": {},
   "outputs": [],
   "source": [
    "df_fruits = df[filtre2].copy()"
   ]
  },
  {
   "cell_type": "code",
   "execution_count": 172,
   "metadata": {},
   "outputs": [
    {
     "output_type": "execute_result",
     "data": {
      "text/plain": "array(['radis noir (la botte)', 'betterave rouge (la botte)',\n       'Pommes Gordin Xuri (1kg)', 'courge potimarron ou butternut (1kg)',\n       'courge longue de naples (1kg)',\n       \"Pomme de terre de l'année(2.5kg)\", 'Persil (la botte)',\n       'batavia ou feuille de chene',\n       'assortiment chou fleur / romanesco (0,8-1kg)', 'Mache AB (200gr)',\n       'chou frise ou cabus (600gr a 800gr)', 'Epinard (300g)',\n       'chicoree scarole', 'choux de Bruxelles (500g)',\n       'pomme de terre vapeur (2kg)', 'navet (750g)',\n       \"Pomme de terre de l'année (1kg)\", 'chou de chine',\n       'Cagette \"surprise\"', \"Poireaux d'HIVER (lot de 3 ou 4)\",\n       'Fenouil (500gr)',\n       'Céleri branche (le bouquet de 5 ou 6 branches)',\n       'Oignon  rouge ( la botte)', 'Ail sec (300gr)',\n       'Blette (la botte)', 'feves (1-1,2kg)', 'petit pois Mangetout',\n       'pomme de terre primeur 1kg', 'Cerises Bigarreau (600 gr)',\n       'Cerises Bigarreau (300 gr)', 'radis de printemps (la botte)',\n       'Courgette primeur (1kg)',\n       'batavia ou feuille de chene ( la paire )', 'petit pois (500g)',\n       'Piment doux du pays basque (250g)', 'Chou Kale (la botte)',\n       \"Concombre (l'unité)\", 'Chou rave (700gr)', 'courgette (2kg)',\n       'Tomate (750gr)', 'aubergine variée (750gr)',\n       'oignon jaune (750g)', 'Pommes Andere dona maria (1kg)',\n       'celeri rave (lot de 3ou4)', 'Echalote (400g)',\n       'Eri Sagarra Petit calibre (1kg)',\n       'carotte (la botte 700 a 750gr)', 'Pommes Urtats (1kg)',\n       'Oranges AB (1 kg)', 'Pomelos AB (1 kg)', 'Clementines AB (1 kg)',\n       'Citrons AB (1 kg)', 'Kiwi vert ( 1 kg)',\n       'Mélange de pommes (1kg)', 'Mélange de pommes (3kg)',\n       'Poivron varié (750gr)', 'Pastèque en quartier de 1Kg',\n       'Potimarron', 'Pommes Anisa (1 kg)', 'haricots verts (750g)',\n       'Pêches de vigne blanches (500 gr)', 'pommes Eri sagarra (1kg)',\n       'Patate douce 1kg', 'Batavia ou feuille de chene',\n       'Chou frise ou cabus (600gr a 800gr)', 'Carotte (la botte)',\n       'Navet (la botte)', 'Mache (200gr)', 'Chou de chine',\n       'Chou Pak Choï', 'Ciboulette (la botte)', 'Radis (la botte)',\n       'Musquée de Provence (1kg)', 'Potimarron (1kg)',\n       \"Pomme de terre de l'année (3kg)\", 'Longue de Nice (1kg)',\n       'Butternut (1kg)', 'Courge spaghetti (1kg)', 'Patidou (1kg)',\n       'Batavia ou feuille de chene (la paire)',\n       \"Panier d'agrumes AB (2 kg)\", 'Céleri rave (lot de 3 ou 4)',\n       'Betterave rouge (600 gr)', 'Pommes Gordin Gorri (1kg)',\n       'Pommes Jinko sagarra (1kg)', 'Mesclun (220 gr)',\n       'Coffret de Noël', 'Oignon  blanc frais (la botte)',\n       \"Chou vert (l'unité)\", 'Aillet frais (la botte de 6-8)',\n       'Roquette AB (200g)'], dtype=object)"
     },
     "metadata": {},
     "execution_count": 172
    }
   ],
   "source": [
    "df_fruits['nom_produit'].unique()"
   ]
  },
  {
   "cell_type": "code",
   "execution_count": 173,
   "metadata": {},
   "outputs": [
    {
     "output_type": "execute_result",
     "data": {
      "text/plain": "91"
     },
     "metadata": {},
     "execution_count": 173
    }
   ],
   "source": [
    "len(df_fruits['nom_produit'].unique())"
   ]
  },
  {
   "cell_type": "code",
   "execution_count": 174,
   "metadata": {},
   "outputs": [],
   "source": [
    "def product_fruits_legumes(row):\n",
    "    nom = row.nom_produit\n",
    "    nom = nom.lower()\n",
    "    if 'radis' in nom:\n",
    "        return 'radis'\n",
    "    elif 'betterave' in nom:\n",
    "        return 'betterave'\n",
    "    elif 'melon' in nom:\n",
    "        return 'melon'\n",
    "    elif 'pomme de terre' in nom or 'patate' in nom:\n",
    "        return 'pomme de terre'\n",
    "    elif 'pommes' in nom or 'sagarra' in nom:\n",
    "        return 'pommes'\n",
    "    elif 'persil' in nom:\n",
    "        return 'persil'\n",
    "    elif ('batavia' in nom)|('mache' in nom)|('scarole' in nom)|('roquette' in nom) or 'mesclun' in nom:\n",
    "        return 'salade'\n",
    "    elif 'chou' in nom:\n",
    "        return 'chou'\n",
    "    elif 'oignon' in nom:\n",
    "        return 'oignon'\n",
    "    elif 'courge' in nom or 'musquée de provence' in nom or 'longue de nice' in nom or 'butternut' in nom:\n",
    "        return 'courge'\n",
    "    elif 'epinard' in nom:\n",
    "        return 'epinard'\n",
    "    elif 'navet' in nom:\n",
    "        return 'navet'\n",
    "    elif 'cagette' in nom:\n",
    "        return 'assortiment'\n",
    "    elif 'poireaux' in nom:\n",
    "        return 'poireaux'\n",
    "    elif 'fenouil' in nom:\n",
    "        return 'fenouil'\n",
    "    elif 'blette' in nom:\n",
    "        return 'blette'\n",
    "    elif 'ail sec' in nom or 'aillet' in nom:\n",
    "        return 'ail'\n",
    "    elif 'céleri' in nom or 'celeri' in nom:\n",
    "        return 'celeri'\n",
    "    elif 'feves' in nom:\n",
    "        return 'feves'\n",
    "    elif 'petit pois' in nom:\n",
    "        return 'petit pois'\n",
    "    elif 'cerises' in nom:\n",
    "        return 'cerises'\n",
    "    elif 'agrumes' in nom or 'clementines' in nom or 'oranges' in nom or 'citron' in nom or 'pomelos' in nom:\n",
    "        return 'agrumes'\n",
    "    elif 'piment' in nom:\n",
    "        return 'piment'\n",
    "    elif 'concombre' in nom:\n",
    "        return 'concombre'\n",
    "    elif 'carotte' in nom:\n",
    "        return 'carotte'\n",
    "    elif 'tomate' in nom:\n",
    "        return 'tomate'\n",
    "    elif 'aubergine' in nom:\n",
    "        return 'aubergine'\n",
    "    elif 'kiwi' in nom:\n",
    "        return 'kiwi'\n",
    "    elif 'echalote' in nom:\n",
    "        return 'echalote'\n",
    "    elif 'poivron' in nom:\n",
    "        return 'poivron'\n",
    "    elif 'coffret' in nom:\n",
    "        return 'autre'\n",
    "    elif 'pastèque' in nom:\n",
    "        return 'pastèque'\n",
    "    elif 'ciboulette' in nom:\n",
    "        return 'ciboulette'\n",
    "    elif 'potimarron' in nom:\n",
    "        return 'potimarron'\n",
    "    elif 'haricots verts' in nom:\n",
    "        return 'haricots verts'\n",
    "    elif 'pêches' in nom:\n",
    "        return 'pêches'\n",
    "    elif 'patidou' in nom:\n",
    "        return 'patidou'\n",
    "    else:\n",
    "        return 'erreur'\n",
    "\n",
    "\n",
    "\n",
    "df_fruits['produit'] = df_fruits.apply(product_fruits_legumes,axis=1)"
   ]
  },
  {
   "cell_type": "code",
   "execution_count": 175,
   "metadata": {
    "scrolled": true
   },
   "outputs": [
    {
     "output_type": "execute_result",
     "data": {
      "text/plain": "36"
     },
     "metadata": {},
     "execution_count": 175
    }
   ],
   "source": [
    "len(df_fruits['produit'].unique())"
   ]
  },
  {
   "cell_type": "code",
   "execution_count": 176,
   "metadata": {},
   "outputs": [
    {
     "output_type": "execute_result",
     "data": {
      "text/plain": "Empty DataFrame\nColumns: [commande, producteur, categorie, nom_produit, code_postal, commune, produit]\nIndex: []",
      "text/html": "<div>\n<style scoped>\n    .dataframe tbody tr th:only-of-type {\n        vertical-align: middle;\n    }\n\n    .dataframe tbody tr th {\n        vertical-align: top;\n    }\n\n    .dataframe thead th {\n        text-align: right;\n    }\n</style>\n<table border=\"1\" class=\"dataframe\">\n  <thead>\n    <tr style=\"text-align: right;\">\n      <th></th>\n      <th>commande</th>\n      <th>producteur</th>\n      <th>categorie</th>\n      <th>nom_produit</th>\n      <th>code_postal</th>\n      <th>commune</th>\n      <th>produit</th>\n    </tr>\n  </thead>\n  <tbody>\n  </tbody>\n</table>\n</div>"
     },
     "metadata": {},
     "execution_count": 176
    }
   ],
   "source": [
    "df_fruits[df_fruits.produit == 'erreur']"
   ]
  },
  {
   "cell_type": "markdown",
   "metadata": {},
   "source": [
    "### Catégorie ÉPICERIE + EPICERIE SUCREE + EPICERIE SALEE"
   ]
  },
  {
   "cell_type": "code",
   "execution_count": 177,
   "metadata": {},
   "outputs": [],
   "source": [
    "filtre3 = (df.categorie == 'ÉPICERIE')|(df.categorie == 'ÉPICERIE SUCRÉE')|(df.categorie == 'ÉPICERIE SALÉE')\n",
    "df_epicerie = df[filtre3].copy()"
   ]
  },
  {
   "cell_type": "code",
   "execution_count": 178,
   "metadata": {},
   "outputs": [
    {
     "output_type": "execute_result",
     "data": {
      "text/plain": "(array([\"BIZIGAI Piment d'Espelette AOP (50 gr)\",\n        'Confiture de pêches (360g)', 'compote de pommes 750g',\n        'Coulis de Mûres (320g)', 'Jus de pommes (1L)',\n        'Confiture de Figue (360g)', 'Coulis de Cassis (320g)',\n        'Soupe de poisson (1L)',\n        'Miel de bruyère cendrée de la forêt landaise (pot de 500g)',\n        \"Sirop de Fleurs d'Accacia (320ml)\",\n        \"Confiture de cerise d'Itxassou (260 gr)\",\n        'Farine de Maïs Grand Roux Basque AB (500 gr)',\n        \"Purée de Piment d'Espelette (95 gr) SUGORRI\",\n        'Miel de Châtaigner (pot de 500g)', 'gelée de pommes Anisa 190g',\n        'Miel fleurs de printemps (500g)',\n        \"Gelée de Pommes au Piment d'Espelette (125 gr) SAGARMIN\",\n        'Confiture de lait de chèvre (100 gr)',\n        'Confiture de prune (250 gr)', 'Farine bise semi complète (1kg)',\n        'Miel de Callune de la montagne du Pays Basque (pot de 250g)',\n        'CIDRE FERMIER (1l)', 'Sirop menthe-citron (320ml)',\n        \"Pain d'épices pur miel ( 320 gr)\",\n        'Pollen de chataigner ( 250 gr)',\n        'Miel de Callune de la montagne du Haut béarn (pot de 250g)',\n        'Confiture de poires (360g)', 'Huile de tournesol (0,75 l)',\n        'Huile de colza (0,75 l)', 'Coulis de Pêche (320g)',\n        'Sirop de fleurs de sureau (320ml)',\n        'Polenta de Maïs Grand Roux Basque (500 gr)',\n        \"Miel d' Acacia (pot de 500g)\", 'Carton de jus de pommes (6 x 1L)',\n        'Savon Lierre-Menthe surgras (5%)',\n        'Savon Carotte-Ortie surgras (5%)',\n        'Miel et safran (pot de 250gr)',\n        'Pâte à tartiner Miel et Amande (pot de 250gr)',\n        'Miel de tilleul montagne (pot de 500g)',\n        'Pâte à tartiner Miel et Noisette  (pot de 250gr)',\n        \"Miel et piment d 'Espelette (pot de 250gr)\",\n        'Fusilli semi complètes (pates) 500 gr AB',\n        'Coquillettes semi complètes (pates) 500 gr AB',\n        'Confiture de cassis AB (240 gr)',\n        'Confiture de mirabelle AB (240 gr)',\n        'Crème de châtaigne (250 gr)', 'Gelée de pommes AB (240 gr)',\n        'Purée de pomme (350 gr)', 'Farine de blé T80 (1 kg)',\n        'Farine de sarrasin (1 kg)', 'Nectar de kiwi (1 L)',\n        'Confiture de lait de chèvre (180 gr)',\n        'Savon neutre Miel / Calendula (95 gr)',\n        'Savon dynamisant Menthe / Citron / Argile verte (95 gr)',\n        'Savon doux Palmarosa / Argile rose (95 gr)',\n        'Savon apaisant Lavande (95 gr)', 'Confiture de prune AB (240 gr)',\n        'Coulis de pêche de vigne AB (320 gr)', 'Miel de ronce (250 gr)',\n        'Confiture de groseille (360 gr)', 'Vin blanc AB Chardonnay',\n        'Vin rouge AB Merlot', 'Vin rosé AB Rosado',\n        'Vin rouge AB Graciano'], dtype=object),\n 64)"
     },
     "metadata": {},
     "execution_count": 178
    }
   ],
   "source": [
    "df_epicerie['nom_produit'].unique(), len(df_epicerie['nom_produit'].unique())"
   ]
  },
  {
   "cell_type": "code",
   "execution_count": 179,
   "metadata": {},
   "outputs": [],
   "source": [
    "def product_epicerie(row):\n",
    "    nom = row.nom_produit\n",
    "    nom = nom.lower()\n",
    "    if 'confiture' in nom or 'gelée' in nom:\n",
    "        return 'confiture'\n",
    "    elif 'savon' in nom:\n",
    "        return 'savon'\n",
    "    elif 'vin' in nom or 'cidre' in nom:\n",
    "        return 'vin ou cidre'\n",
    "    elif 'compote' in nom:\n",
    "        return 'compote'\n",
    "    elif 'coulis' in nom:\n",
    "        return 'coulis'\n",
    "    elif 'nectar' in nom or 'jus' in nom or 'sirop' in nom:\n",
    "        return 'jus ou sirop'\n",
    "    elif 'farine' in nom:\n",
    "        return 'farine'\n",
    "    elif 'bizigai' in nom or 'purée' in nom:\n",
    "        return 'piment'\n",
    "    elif 'soupe' in nom:\n",
    "        return 'soupe'\n",
    "    elif 'crème' in nom or 'pâte à tartiner' in nom:\n",
    "        return 'pâte à tartiner'\n",
    "    elif \"pain d'épices\" in nom:\n",
    "        return \"pain d'épices\"\n",
    "    elif 'miel' in nom:\n",
    "        return 'miel'\n",
    "    elif 'pollen' in nom:\n",
    "        return 'pollen'\n",
    "    elif 'polenta' in nom:\n",
    "        return 'polenta'\n",
    "    elif 'huile' in nom:\n",
    "        return 'huile'\n",
    "    elif 'fusilli' in nom or 'coquillettes' in nom:\n",
    "        return 'pâtes'\n",
    "    else:\n",
    "        return 'erreur'\n",
    "df_epicerie['produit'] = df_epicerie.apply(product_epicerie,axis=1)"
   ]
  },
  {
   "cell_type": "code",
   "execution_count": 180,
   "metadata": {},
   "outputs": [
    {
     "output_type": "execute_result",
     "data": {
      "text/plain": "(4241, 0)"
     },
     "metadata": {},
     "execution_count": 180
    }
   ],
   "source": [
    "df_epicerie.shape[0], df_epicerie[df_epicerie.produit == 'erreur'].shape[0]"
   ]
  },
  {
   "cell_type": "code",
   "execution_count": 181,
   "metadata": {},
   "outputs": [
    {
     "output_type": "execute_result",
     "data": {
      "text/plain": "16"
     },
     "metadata": {},
     "execution_count": 181
    }
   ],
   "source": [
    "len(df_epicerie.produit.unique())"
   ]
  },
  {
   "cell_type": "code",
   "execution_count": 182,
   "metadata": {},
   "outputs": [
    {
     "output_type": "execute_result",
     "data": {
      "text/plain": "array(['CRÈMERIE', 'FROMAGES', 'FRUITS & LÉGUMES', 'ÉPICERIE', 'FRUITS',\n       'VOLAILLES & OEUFS', 'VIANDES', 'VOLAILLES', 'ÉPICERIE SUCRÉE',\n       'YAOURT & FROMAGE BLANC', 'VIANDE FRAÎCHE', 'ÉPICERIE SALÉE',\n       'LÉGUMES', 'BOISSONS', 'NOS PRODUITS', 'FROMAGE DE VACHE',\n       'PLATS CUISINÉS'], dtype=object)"
     },
     "metadata": {},
     "execution_count": 182
    }
   ],
   "source": [
    "df.categorie.unique()"
   ]
  },
  {
   "cell_type": "markdown",
   "metadata": {},
   "source": [
    "## Catégorie Volailles & oeufs + Volailles + plats cuisinés"
   ]
  },
  {
   "cell_type": "code",
   "execution_count": 183,
   "metadata": {},
   "outputs": [],
   "source": [
    "filtre4 = (df.categorie == 'VOLAILLES & OEUFS') | (df.categorie == 'VOLAILLES')| (df.categorie == 'PLATS CUISINÉS')\n",
    "df_volailles = df[filtre4].copy()\n"
   ]
  },
  {
   "cell_type": "code",
   "execution_count": 184,
   "metadata": {},
   "outputs": [
    {
     "output_type": "execute_result",
     "data": {
      "text/plain": "(array(['Petit poulet fermier 1,250 kg (+/- 100 gr) AB.',\n        'Petite pintade fermière 1,250 kg (+/- 100gr) AB.',\n        'Poulet fermier moyen 1,6 kg (+/-100 gr) AB.',\n        'Pintade fermière moyenne 1,5 kg (+/- 100gr) AB.',\n        'Grosse pintade fermière 1,8 kg (+/- 100gr) AB.',\n        'Gros poulet fermier 1,8 kg (+/- 100gr) AB.',\n        'Poule fermière 1,300 kg (+/- 100 gr) AB.',\n        'Oeufs fermiers AB (x6)', 'Oeufs fermiers AB (x12)',\n        'Oeufs fermiers AB (x10)', 'Oeufs fermiers AB (x12) T',\n        'Poulet fermier moyen 1,6 kg (+/-100 gr) AB.M',\n        'Oeufs fermiers AB (x6) L', 'Oeufs fermiers AB (x12) L',\n        'Poulet fermier moyen (1,6 - 1,8 kg).X',\n        'Gros poulet fermier (1,8 - 2,0 kg).X', 'Poule confite'],\n       dtype=object),\n 17)"
     },
     "metadata": {},
     "execution_count": 184
    }
   ],
   "source": [
    "df_volailles['nom_produit'].unique(), len(df_volailles['nom_produit'].unique())"
   ]
  },
  {
   "cell_type": "code",
   "execution_count": 185,
   "metadata": {},
   "outputs": [],
   "source": [
    "def product_volailles(row):\n",
    "    nom = row.nom_produit\n",
    "    nom = nom.lower()\n",
    "    if 'poulet' in nom:\n",
    "        return 'poulet'\n",
    "    elif 'pintade' in nom:\n",
    "        return 'pintade'\n",
    "    elif 'poule' in nom:\n",
    "        return 'poule'\n",
    "    elif 'oeufs' in nom:\n",
    "        return 'oeufs'\n",
    "    else:\n",
    "        return 'erreur'\n",
    "df_volailles['produit'] = df_volailles.apply(product_volailles,axis=1)"
   ]
  },
  {
   "cell_type": "code",
   "execution_count": 186,
   "metadata": {},
   "outputs": [
    {
     "output_type": "execute_result",
     "data": {
      "text/plain": "(1453, 0)"
     },
     "metadata": {},
     "execution_count": 186
    }
   ],
   "source": [
    "df_volailles.shape[0], df_volailles[df_volailles.produit == 'erreur'].shape[0]"
   ]
  },
  {
   "cell_type": "markdown",
   "metadata": {},
   "source": []
  },
  {
   "cell_type": "markdown",
   "metadata": {},
   "source": [
    "## Catégories viandes et viande fraiche"
   ]
  },
  {
   "cell_type": "code",
   "execution_count": 187,
   "metadata": {},
   "outputs": [],
   "source": [
    "filtre5 = (df.categorie == 'VIANDES') | (df.categorie == 'VIANDE FRAÎCHE')\n",
    "df_viande = df[filtre5].copy()"
   ]
  },
  {
   "cell_type": "code",
   "execution_count": 188,
   "metadata": {},
   "outputs": [
    {
     "output_type": "execute_result",
     "data": {
      "text/plain": "(array(['Axoa de veau bio  (750g)', 'Colis de porc Kintoa (4,500kg).',\n        'Saucisses de Porc Basque x4 (400 gr).',\n        'Cotes (échine) de Porc Basque x2 (400 gr).',\n        'Cotes (filet) de Porc Basque x2 (350 gr).',\n        'Foie de veau AB (300 gr).', 'Tendrons de veau AB (1 kg).',\n        'Sauté de veau AB (1 kg).', 'Cotes de veau AB (500 gr).',\n        'Tendrons de veau AB (500 gr).', 'Sauté de veau AB (500 gr).',\n        'Escalopes de veau AB (500 gr).', 'Cotes de veau AB (1 kg).',\n        'agneau de lait (entre 6-8kg) BIXARTEA.',\n        'demi agneau de lait (4-4.5kg) BIXARTEA.',\n        'Ventrêche de Porc Basque (250 gr).', 'Pate de porc basque (190g)',\n        'Chichon de porc basque (180g)',\n        'Colis de 3Kg de steacks hachés bio ( environ 25 steacks).',\n        'Boudin de porc basque (190 gr)',\n        '4 steacks hachés bio ( environ  500gr).',\n        '8 steacks hachés bio ( environ  1 Kg).',\n        'Canette Kriaxera à rotir (2,9 kg - 3,1 kg).',\n        'Demi chevreau de lait  (colis de 3,5kg).',\n        'Saucisson de Porc Basque (205 gr-220 gr)',\n        'navarrin de chèvre (780g)', 'Veau bio (colis de 3kg).',\n        'Escalopes de veau AB (1 kg).', 'Poisson frais.',\n        'Saucisson de chèvre (180-200 gr)', 'Cabri massalé (590g)',\n        '8 merguez de mouton (500 gr).', 'Sauté de veau bio  (750g)',\n        'Cabri Xilindron (390 g)', 'Foie de veau AB (500 gr).',\n        'Filet Mignon de Porc Basque (500 gr).',\n        'Chipolatas de porc basque (400 gr).',\n        'Boudins de Porc Basque x3 (300 gr).',\n        'Coustons de Porc Basque x2 (200 gr).',\n        'Roti (épaule) de Porc Basque (800 gr).',\n        'Cotes de chevreau de lait (250 gr).',\n        'Abats de chevreau de lait (450 gr).',\n        'Carré de cotes de chevreau de lait (600 gr).',\n        'Collier de chevreau de lait (500 gr).',\n        'Gigot de chevreau tranché (250 gr).',\n        'Gigot de chevreau de lait (900 gr).',\n        'Epaule de chevreau de lait (600 gr).',\n        'Saucisson de Porc Basque (230 gr-260 gr)',\n        'Foie de veau (200 gr) E.', 'Escalopes de veau (200 gr) E.',\n        'Sauté de veau (500 gr) E.', 'Cotes de veau filet (200 gr) E.',\n        'Préparation de viande hachée de veau (120 gr) E.',\n        'Tendrons de veau (225 gr) E.', 'Roti de veau (600 gr) E.',\n        'Cotes de veau découverte (250 gr) E.',\n        '6 Merguez de chèvre (350 gr).',\n        'Chipolatas de porc basque x4 (330 gr) E.',\n        'Saucisses de Porc Basque x2 (180 gr) E.',\n        'Boudins de Porc Basque x2 (230 gr) E.',\n        'Cotes filet de Porc Basque x2 (350 gr) E.',\n        'Cotes échine de Porc Basque x2 (350 gr) E.',\n        'Roti (épaule) de Porc Basque (600-800 gr) E.',\n        'Darnes de thon blanc.', 'Thon blanc entier (6 kg).',\n        'Rillettes de canard (170 gr)',\n        'Magret de canard frais sous vide (400 gr).',\n        'Bloc de foie gras de canard (140 gr)',\n        'Cuisse de canard confite sous vide.',\n        'Foie gras de canard mi-cuit (200 gr).',\n        'Manchons de canard sous vide (x2).',\n        'Foie gras frais de canard (640 gr).',\n        'Bocal de foie gras de canard (180 gr)',\n        'Bocal de 4 gésiers de canard confits',\n        'Foie gras frais de canard (580 gr).',\n        'Lardons de Porc Basque (200 gr).', 'Pigeonneau (380-400 gr).',\n        'Roti de boeuf (1 kg) E.', 'Steack de boeuf (220 gr) E.',\n        'Préparation de viande hachée de boeuf (240 gr) E.',\n        'Bourguignon de boeuf (1 kg) E.',\n        'Saucisson de Porc Basque (290 gr-320 gr)',\n        'Saucisson de porc bio (240 gr-260 gr)'], dtype=object),\n 83)"
     },
     "metadata": {},
     "execution_count": 188
    }
   ],
   "source": [
    "df_viande['nom_produit'].unique(), len(df_viande['nom_produit'].unique())"
   ]
  },
  {
   "cell_type": "code",
   "execution_count": 189,
   "metadata": {},
   "outputs": [],
   "source": [
    "def product_viande(row):\n",
    "    nom = row.nom_produit\n",
    "    nom = nom.lower()\n",
    "    if 'veau' in nom:\n",
    "        return 'viande de veau'\n",
    "    elif 'porc' in nom:\n",
    "        return 'viande de porc'\n",
    "    elif 'chèvre' in nom or 'chevreau':\n",
    "        return 'viande de chèvre ou chevreau'\n",
    "    elif 'canard' in nom:\n",
    "        return 'viande de canard'\n",
    "    elif 'boeuf' in nom or 'steacks hachés' in nom:\n",
    "        return 'viande de boeuf'\n",
    "    elif 'agneau' in nom:\n",
    "        return \"viande d'agneau\"\n",
    "    elif 'thon' in nom or 'poisson' in nom:\n",
    "        return 'poisson'\n",
    "    elif 'pigeonneau' in nom:\n",
    "        return 'pigeonneau'\n",
    "    else:\n",
    "        return 'erreur'\n",
    "df_viande['produit'] = df_viande.apply(product_viande,axis=1)"
   ]
  },
  {
   "cell_type": "code",
   "execution_count": 190,
   "metadata": {},
   "outputs": [
    {
     "output_type": "execute_result",
     "data": {
      "text/plain": "(2699, 0)"
     },
     "metadata": {},
     "execution_count": 190
    }
   ],
   "source": [
    "df_viande.shape[0], df_viande[df_viande.produit == 'erreur'].shape[0]"
   ]
  },
  {
   "cell_type": "markdown",
   "metadata": {},
   "source": [
    "## Catégorie boissons"
   ]
  },
  {
   "cell_type": "code",
   "execution_count": 191,
   "metadata": {},
   "outputs": [],
   "source": [
    "filtre6 = df.categorie == 'BOISSONS'\n",
    "df_boissons = df[filtre6].copy()"
   ]
  },
  {
   "cell_type": "code",
   "execution_count": 192,
   "metadata": {},
   "outputs": [
    {
     "output_type": "execute_result",
     "data": {
      "text/plain": "array(['Tisane Detox (25 gr)', 'Tisane Air Pur (25 gr)',\n       'Tisane Souplesse (25 gr)', 'Tisane Aube (25 gr)',\n       'Tisane la Zen (25 gr)', 'Tisane coquelicots (25 gr)',\n       'Tisane nuit étoilée (25 gr)', 'Tisane la gloutonne (25g)'],\n      dtype=object)"
     },
     "metadata": {},
     "execution_count": 192
    }
   ],
   "source": [
    "df_boissons.nom_produit.unique()"
   ]
  },
  {
   "cell_type": "code",
   "execution_count": 193,
   "metadata": {},
   "outputs": [],
   "source": [
    "def product_boissons(row):\n",
    "    return 'tisane'\n",
    "df_boissons['produit'] = df_boissons.apply(product_boissons,axis=1)"
   ]
  },
  {
   "cell_type": "code",
   "execution_count": 194,
   "metadata": {},
   "outputs": [
    {
     "output_type": "execute_result",
     "data": {
      "text/plain": "(138, 0)"
     },
     "metadata": {},
     "execution_count": 194
    }
   ],
   "source": [
    "df_boissons.shape[0], df_boissons[df_boissons.produit == 'erreur'].shape[0]"
   ]
  },
  {
   "cell_type": "code",
   "execution_count": 234,
   "metadata": {},
   "outputs": [
    {
     "output_type": "execute_result",
     "data": {
      "text/plain": "array(['Patate douce 1kg', 'Coffret de Noël'], dtype=object)"
     },
     "metadata": {},
     "execution_count": 234
    }
   ],
   "source": []
  },
  {
   "cell_type": "markdown",
   "metadata": {},
   "source": [
    "## On peut remplir la colonne \"produit\" de notre df\n",
    "On appelle chaque fonction selon la categorie du produit"
   ]
  },
  {
   "cell_type": "code",
   "execution_count": 195,
   "metadata": {
    "tags": [
     "outputPrepend",
     "outputPrepend",
     "outputPrepend",
     "outputPrepend",
     "outputPrepend",
     "outputPrepend",
     "outputPrepend",
     "outputPrepend",
     "outputPrepend",
     "outputPrepend",
     "outputPrepend",
     "outputPrepend",
     "outputPrepend",
     "outputPrepend",
     "outputPrepend",
     "outputPrepend",
     "outputPrepend",
     "outputPrepend",
     "outputPrepend",
     "outputPrepend",
     "outputPrepend",
     "outputPrepend",
     "outputPrepend"
    ]
   },
   "outputs": [],
   "source": [
    "def fill_product(row):\n",
    "    if ((row.categorie == 'CRÈMERIE') | (row.categorie == 'YAOURT & FROMAGE BLANC')):\n",
    "        return product_cremerie_yaourt(row)\n",
    "    elif ((row.categorie == 'FROMAGES') | (row.categorie == 'FROMAGE DE VACHE')):\n",
    "        return product_fromage(row)\n",
    "    elif ((row.categorie == 'FRUITS & LÉGUMES') | (row.categorie == 'FRUITS')| (row.categorie == 'NOS PRODUITS')| (row.categorie == 'LÉGUMES')):\n",
    "        return product_fruits_legumes(row)\n",
    "    elif ((row.categorie == 'ÉPICERIE') | (row.categorie == 'ÉPICERIE SUCRÉE')| (row.categorie == 'ÉPICERIE SALÉE')):\n",
    "        return product_epicerie(row)\n",
    "    elif ((row.categorie == 'VOLAILLES & OEUFS') | (row.categorie == 'VOLAILLES')| (row.categorie == 'PLATS CUISINÉS')):\n",
    "        return product_volailles(row)\n",
    "    elif ((row.categorie == 'VIANDES') | (row.categorie == 'VIANDE FRAÎCHE')):\n",
    "        return product_viande(row)\n",
    "    elif (row.categorie == 'BOISSONS'):\n",
    "        return 'tisane'\n",
    "df['produit'] = df.apply(fill_product, axis=1)"
   ]
  },
  {
   "cell_type": "code",
   "execution_count": 196,
   "metadata": {},
   "outputs": [
    {
     "output_type": "execute_result",
     "data": {
      "text/plain": "(0, 0)"
     },
     "metadata": {},
     "execution_count": 196
    }
   ],
   "source": [
    "# On vérifie s'il y a des NA ou 'erreur' dans la nouvelle colonne\n",
    "len(df[df.produit == 'erreur']), len(df[pd.isna(df.produit)])"
   ]
  },
  {
   "cell_type": "code",
   "execution_count": 197,
   "metadata": {},
   "outputs": [
    {
     "output_type": "execute_result",
     "data": {
      "text/plain": "72"
     },
     "metadata": {},
     "execution_count": 197
    }
   ],
   "source": [
    "len(df.produit.unique())"
   ]
  },
  {
   "cell_type": "markdown",
   "metadata": {},
   "source": [
    "Nous avons réduit le nombre de produits à 72, il était de 311 initialement."
   ]
  },
  {
   "cell_type": "code",
   "execution_count": 198,
   "metadata": {},
   "outputs": [
    {
     "output_type": "execute_result",
     "data": {
      "text/plain": "   commande          producteur         categorie  \\\n0      1743      FERME BIXARTEA          CRÈMERIE   \n1      1743      FERME BIXARTEA          FROMAGES   \n2      1743     FERME AROZTEGIA  FRUITS & LÉGUMES   \n3      1743      FERME ESNEKIAK          CRÈMERIE   \n4      1743  FERME BELAZKABIETA          ÉPICERIE   \n\n                                         nom_produit  code_postal  \\\n0                                     breuil (375g).        64250   \n1  fromage de brebis fermier (650g environ) +6 mo...        64250   \n2                              radis noir (la botte)        64250   \n3      Yaourt nature bio au lait entier (4 x125 gr).        64250   \n4             BIZIGAI Piment d'Espelette AOP (50 gr)        64250   \n\n        commune                    produit  \n0  SAINT PALAIS                     breuil  \n1  SAINT PALAIS  fromage de brebis fermier  \n2  SAINT PALAIS                      radis  \n3  SAINT PALAIS                     yaourt  \n4  SAINT PALAIS                     piment  ",
      "text/html": "<div>\n<style scoped>\n    .dataframe tbody tr th:only-of-type {\n        vertical-align: middle;\n    }\n\n    .dataframe tbody tr th {\n        vertical-align: top;\n    }\n\n    .dataframe thead th {\n        text-align: right;\n    }\n</style>\n<table border=\"1\" class=\"dataframe\">\n  <thead>\n    <tr style=\"text-align: right;\">\n      <th></th>\n      <th>commande</th>\n      <th>producteur</th>\n      <th>categorie</th>\n      <th>nom_produit</th>\n      <th>code_postal</th>\n      <th>commune</th>\n      <th>produit</th>\n    </tr>\n  </thead>\n  <tbody>\n    <tr>\n      <th>0</th>\n      <td>1743</td>\n      <td>FERME BIXARTEA</td>\n      <td>CRÈMERIE</td>\n      <td>breuil (375g).</td>\n      <td>64250</td>\n      <td>SAINT PALAIS</td>\n      <td>breuil</td>\n    </tr>\n    <tr>\n      <th>1</th>\n      <td>1743</td>\n      <td>FERME BIXARTEA</td>\n      <td>FROMAGES</td>\n      <td>fromage de brebis fermier (650g environ) +6 mo...</td>\n      <td>64250</td>\n      <td>SAINT PALAIS</td>\n      <td>fromage de brebis fermier</td>\n    </tr>\n    <tr>\n      <th>2</th>\n      <td>1743</td>\n      <td>FERME AROZTEGIA</td>\n      <td>FRUITS &amp; LÉGUMES</td>\n      <td>radis noir (la botte)</td>\n      <td>64250</td>\n      <td>SAINT PALAIS</td>\n      <td>radis</td>\n    </tr>\n    <tr>\n      <th>3</th>\n      <td>1743</td>\n      <td>FERME ESNEKIAK</td>\n      <td>CRÈMERIE</td>\n      <td>Yaourt nature bio au lait entier (4 x125 gr).</td>\n      <td>64250</td>\n      <td>SAINT PALAIS</td>\n      <td>yaourt</td>\n    </tr>\n    <tr>\n      <th>4</th>\n      <td>1743</td>\n      <td>FERME BELAZKABIETA</td>\n      <td>ÉPICERIE</td>\n      <td>BIZIGAI Piment d'Espelette AOP (50 gr)</td>\n      <td>64250</td>\n      <td>SAINT PALAIS</td>\n      <td>piment</td>\n    </tr>\n  </tbody>\n</table>\n</div>"
     },
     "metadata": {},
     "execution_count": 198
    }
   ],
   "source": [
    "df.head()"
   ]
  },
  {
   "cell_type": "code",
   "execution_count": 199,
   "metadata": {},
   "outputs": [],
   "source": [
    "df_to_transform = df[['commande','produit']]"
   ]
  },
  {
   "cell_type": "code",
   "execution_count": 200,
   "metadata": {},
   "outputs": [
    {
     "output_type": "execute_result",
     "data": {
      "text/plain": "       commande                    produit\n0          1743                     breuil\n1          1743  fromage de brebis fermier\n2          1743                      radis\n3          1743                     yaourt\n4          1743                     piment\n...         ...                        ...\n37785      7205               vin ou cidre\n37786      7205               jus ou sirop\n37787      7205                     yaourt\n37788      7205                       lait\n37789      7205                  confiture\n\n[37790 rows x 2 columns]",
      "text/html": "<div>\n<style scoped>\n    .dataframe tbody tr th:only-of-type {\n        vertical-align: middle;\n    }\n\n    .dataframe tbody tr th {\n        vertical-align: top;\n    }\n\n    .dataframe thead th {\n        text-align: right;\n    }\n</style>\n<table border=\"1\" class=\"dataframe\">\n  <thead>\n    <tr style=\"text-align: right;\">\n      <th></th>\n      <th>commande</th>\n      <th>produit</th>\n    </tr>\n  </thead>\n  <tbody>\n    <tr>\n      <th>0</th>\n      <td>1743</td>\n      <td>breuil</td>\n    </tr>\n    <tr>\n      <th>1</th>\n      <td>1743</td>\n      <td>fromage de brebis fermier</td>\n    </tr>\n    <tr>\n      <th>2</th>\n      <td>1743</td>\n      <td>radis</td>\n    </tr>\n    <tr>\n      <th>3</th>\n      <td>1743</td>\n      <td>yaourt</td>\n    </tr>\n    <tr>\n      <th>4</th>\n      <td>1743</td>\n      <td>piment</td>\n    </tr>\n    <tr>\n      <th>...</th>\n      <td>...</td>\n      <td>...</td>\n    </tr>\n    <tr>\n      <th>37785</th>\n      <td>7205</td>\n      <td>vin ou cidre</td>\n    </tr>\n    <tr>\n      <th>37786</th>\n      <td>7205</td>\n      <td>jus ou sirop</td>\n    </tr>\n    <tr>\n      <th>37787</th>\n      <td>7205</td>\n      <td>yaourt</td>\n    </tr>\n    <tr>\n      <th>37788</th>\n      <td>7205</td>\n      <td>lait</td>\n    </tr>\n    <tr>\n      <th>37789</th>\n      <td>7205</td>\n      <td>confiture</td>\n    </tr>\n  </tbody>\n</table>\n<p>37790 rows × 2 columns</p>\n</div>"
     },
     "metadata": {},
     "execution_count": 200
    }
   ],
   "source": [
    "df_to_transform"
   ]
  },
  {
   "cell_type": "code",
   "execution_count": 201,
   "metadata": {},
   "outputs": [],
   "source": [
    "df_final = pd.pivot_table(df_to_transform, index = 'commande', values ='produit', columns='produit', aggfunc='size',fill_value=0)"
   ]
  },
  {
   "cell_type": "code",
   "execution_count": 202,
   "metadata": {},
   "outputs": [
    {
     "output_type": "execute_result",
     "data": {
      "text/plain": "produit   agrumes  ail  assortiment  aubergine  autre  betterave  beurre  \\\ncommande                                                                   \n1743            0    0            0          0      0          1       0   \n1750            0    0            0          0      0          1       0   \n1751            0    0            0          0      0          0       0   \n1752            0    0            0          0      0          0       1   \n1753            0    0            0          0      0          0       0   \n...           ...  ...          ...        ...    ...        ...     ...   \n7201            0    0            0          0      0          0       0   \n7202            0    0            0          0      0          0       0   \n7203            0    0            0          0      0          0       0   \n7204            0    0            0          0      0          0       0   \n7205            0    0            0          0      0          0       0   \n\nproduit   blette  breuil  carotte  ...  savon  soupe  tisane  tomate  \\\ncommande                           ...                                 \n1743           0       1        0  ...      0      0       0       0   \n1750           0       1        0  ...      0      0       0       0   \n1751           0       0        0  ...      0      0       0       0   \n1752           0       0        0  ...      0      0       0       0   \n1753           0       0        0  ...      0      0       0       0   \n...          ...     ...      ...  ...    ...    ...     ...     ...   \n7201           0       0        0  ...      0      0       0       0   \n7202           0       0        0  ...      0      0       0       0   \n7203           0       0        0  ...      0      0       0       0   \n7204           0       0        0  ...      0      0       0       0   \n7205           0       0        0  ...      0      0       0       0   \n\nproduit   tomme de vache fraîche  viande de chèvre ou chevreau  \\\ncommande                                                         \n1743                           0                             0   \n1750                           0                             0   \n1751                           0                             0   \n1752                           0                             0   \n1753                           0                             0   \n...                          ...                           ...   \n7201                           0                             0   \n7202                           0                             0   \n7203                           0                             0   \n7204                           0                             0   \n7205                           0                             0   \n\nproduit   viande de porc  viande de veau  vin ou cidre  yaourt  \ncommande                                                        \n1743                   0               0             0       1  \n1750                   0               0             0       1  \n1751                   0               0             0       0  \n1752                   0               0             0       2  \n1753                   0               0             0       1  \n...                  ...             ...           ...     ...  \n7201                   0               0             0       4  \n7202                   0               0             0       0  \n7203                   1               0             0       0  \n7204                   2               0             0       2  \n7205                   0               0             1       4  \n\n[5270 rows x 72 columns]",
      "text/html": "<div>\n<style scoped>\n    .dataframe tbody tr th:only-of-type {\n        vertical-align: middle;\n    }\n\n    .dataframe tbody tr th {\n        vertical-align: top;\n    }\n\n    .dataframe thead th {\n        text-align: right;\n    }\n</style>\n<table border=\"1\" class=\"dataframe\">\n  <thead>\n    <tr style=\"text-align: right;\">\n      <th>produit</th>\n      <th>agrumes</th>\n      <th>ail</th>\n      <th>assortiment</th>\n      <th>aubergine</th>\n      <th>autre</th>\n      <th>betterave</th>\n      <th>beurre</th>\n      <th>blette</th>\n      <th>breuil</th>\n      <th>carotte</th>\n      <th>...</th>\n      <th>savon</th>\n      <th>soupe</th>\n      <th>tisane</th>\n      <th>tomate</th>\n      <th>tomme de vache fraîche</th>\n      <th>viande de chèvre ou chevreau</th>\n      <th>viande de porc</th>\n      <th>viande de veau</th>\n      <th>vin ou cidre</th>\n      <th>yaourt</th>\n    </tr>\n    <tr>\n      <th>commande</th>\n      <th></th>\n      <th></th>\n      <th></th>\n      <th></th>\n      <th></th>\n      <th></th>\n      <th></th>\n      <th></th>\n      <th></th>\n      <th></th>\n      <th></th>\n      <th></th>\n      <th></th>\n      <th></th>\n      <th></th>\n      <th></th>\n      <th></th>\n      <th></th>\n      <th></th>\n      <th></th>\n      <th></th>\n    </tr>\n  </thead>\n  <tbody>\n    <tr>\n      <th>1743</th>\n      <td>0</td>\n      <td>0</td>\n      <td>0</td>\n      <td>0</td>\n      <td>0</td>\n      <td>1</td>\n      <td>0</td>\n      <td>0</td>\n      <td>1</td>\n      <td>0</td>\n      <td>...</td>\n      <td>0</td>\n      <td>0</td>\n      <td>0</td>\n      <td>0</td>\n      <td>0</td>\n      <td>0</td>\n      <td>0</td>\n      <td>0</td>\n      <td>0</td>\n      <td>1</td>\n    </tr>\n    <tr>\n      <th>1750</th>\n      <td>0</td>\n      <td>0</td>\n      <td>0</td>\n      <td>0</td>\n      <td>0</td>\n      <td>1</td>\n      <td>0</td>\n      <td>0</td>\n      <td>1</td>\n      <td>0</td>\n      <td>...</td>\n      <td>0</td>\n      <td>0</td>\n      <td>0</td>\n      <td>0</td>\n      <td>0</td>\n      <td>0</td>\n      <td>0</td>\n      <td>0</td>\n      <td>0</td>\n      <td>1</td>\n    </tr>\n    <tr>\n      <th>1751</th>\n      <td>0</td>\n      <td>0</td>\n      <td>0</td>\n      <td>0</td>\n      <td>0</td>\n      <td>0</td>\n      <td>0</td>\n      <td>0</td>\n      <td>0</td>\n      <td>0</td>\n      <td>...</td>\n      <td>0</td>\n      <td>0</td>\n      <td>0</td>\n      <td>0</td>\n      <td>0</td>\n      <td>0</td>\n      <td>0</td>\n      <td>0</td>\n      <td>0</td>\n      <td>0</td>\n    </tr>\n    <tr>\n      <th>1752</th>\n      <td>0</td>\n      <td>0</td>\n      <td>0</td>\n      <td>0</td>\n      <td>0</td>\n      <td>0</td>\n      <td>1</td>\n      <td>0</td>\n      <td>0</td>\n      <td>0</td>\n      <td>...</td>\n      <td>0</td>\n      <td>0</td>\n      <td>0</td>\n      <td>0</td>\n      <td>0</td>\n      <td>0</td>\n      <td>0</td>\n      <td>0</td>\n      <td>0</td>\n      <td>2</td>\n    </tr>\n    <tr>\n      <th>1753</th>\n      <td>0</td>\n      <td>0</td>\n      <td>0</td>\n      <td>0</td>\n      <td>0</td>\n      <td>0</td>\n      <td>0</td>\n      <td>0</td>\n      <td>0</td>\n      <td>0</td>\n      <td>...</td>\n      <td>0</td>\n      <td>0</td>\n      <td>0</td>\n      <td>0</td>\n      <td>0</td>\n      <td>0</td>\n      <td>0</td>\n      <td>0</td>\n      <td>0</td>\n      <td>1</td>\n    </tr>\n    <tr>\n      <th>...</th>\n      <td>...</td>\n      <td>...</td>\n      <td>...</td>\n      <td>...</td>\n      <td>...</td>\n      <td>...</td>\n      <td>...</td>\n      <td>...</td>\n      <td>...</td>\n      <td>...</td>\n      <td>...</td>\n      <td>...</td>\n      <td>...</td>\n      <td>...</td>\n      <td>...</td>\n      <td>...</td>\n      <td>...</td>\n      <td>...</td>\n      <td>...</td>\n      <td>...</td>\n      <td>...</td>\n    </tr>\n    <tr>\n      <th>7201</th>\n      <td>0</td>\n      <td>0</td>\n      <td>0</td>\n      <td>0</td>\n      <td>0</td>\n      <td>0</td>\n      <td>0</td>\n      <td>0</td>\n      <td>0</td>\n      <td>0</td>\n      <td>...</td>\n      <td>0</td>\n      <td>0</td>\n      <td>0</td>\n      <td>0</td>\n      <td>0</td>\n      <td>0</td>\n      <td>0</td>\n      <td>0</td>\n      <td>0</td>\n      <td>4</td>\n    </tr>\n    <tr>\n      <th>7202</th>\n      <td>0</td>\n      <td>0</td>\n      <td>0</td>\n      <td>0</td>\n      <td>0</td>\n      <td>0</td>\n      <td>0</td>\n      <td>0</td>\n      <td>0</td>\n      <td>0</td>\n      <td>...</td>\n      <td>0</td>\n      <td>0</td>\n      <td>0</td>\n      <td>0</td>\n      <td>0</td>\n      <td>0</td>\n      <td>0</td>\n      <td>0</td>\n      <td>0</td>\n      <td>0</td>\n    </tr>\n    <tr>\n      <th>7203</th>\n      <td>0</td>\n      <td>0</td>\n      <td>0</td>\n      <td>0</td>\n      <td>0</td>\n      <td>0</td>\n      <td>0</td>\n      <td>0</td>\n      <td>0</td>\n      <td>0</td>\n      <td>...</td>\n      <td>0</td>\n      <td>0</td>\n      <td>0</td>\n      <td>0</td>\n      <td>0</td>\n      <td>0</td>\n      <td>1</td>\n      <td>0</td>\n      <td>0</td>\n      <td>0</td>\n    </tr>\n    <tr>\n      <th>7204</th>\n      <td>0</td>\n      <td>0</td>\n      <td>0</td>\n      <td>0</td>\n      <td>0</td>\n      <td>0</td>\n      <td>0</td>\n      <td>0</td>\n      <td>0</td>\n      <td>0</td>\n      <td>...</td>\n      <td>0</td>\n      <td>0</td>\n      <td>0</td>\n      <td>0</td>\n      <td>0</td>\n      <td>0</td>\n      <td>2</td>\n      <td>0</td>\n      <td>0</td>\n      <td>2</td>\n    </tr>\n    <tr>\n      <th>7205</th>\n      <td>0</td>\n      <td>0</td>\n      <td>0</td>\n      <td>0</td>\n      <td>0</td>\n      <td>0</td>\n      <td>0</td>\n      <td>0</td>\n      <td>0</td>\n      <td>0</td>\n      <td>...</td>\n      <td>0</td>\n      <td>0</td>\n      <td>0</td>\n      <td>0</td>\n      <td>0</td>\n      <td>0</td>\n      <td>0</td>\n      <td>0</td>\n      <td>1</td>\n      <td>4</td>\n    </tr>\n  </tbody>\n</table>\n<p>5270 rows × 72 columns</p>\n</div>"
     },
     "metadata": {},
     "execution_count": 202
    }
   ],
   "source": [
    "df_final"
   ]
  },
  {
   "cell_type": "code",
   "execution_count": null,
   "metadata": {},
   "outputs": [],
   "source": []
  },
  {
   "cell_type": "code",
   "execution_count": null,
   "metadata": {},
   "outputs": [],
   "source": []
  }
 ],
 "metadata": {
  "kernelspec": {
   "display_name": "Python 3",
   "language": "python",
   "name": "python3"
  },
  "language_info": {
   "codemirror_mode": {
    "name": "ipython",
    "version": 3
   },
   "file_extension": ".py",
   "mimetype": "text/x-python",
   "name": "python",
   "nbconvert_exporter": "python",
   "pygments_lexer": "ipython3",
   "version": "3.7.6-final"
  }
 },
 "nbformat": 4,
 "nbformat_minor": 4
}