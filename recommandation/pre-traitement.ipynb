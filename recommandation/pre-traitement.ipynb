{
 "cells": [
  {
   "cell_type": "code",
   "execution_count": 1,
   "metadata": {},
   "outputs": [],
   "source": [
    "import pandas as pd\n",
    "import numpy as np\n",
    "import re"
   ]
  },
  {
   "cell_type": "code",
   "execution_count": 2,
   "metadata": {},
   "outputs": [],
   "source": [
    "df = pd.read_csv('data_final.csv')"
   ]
  },
  {
   "cell_type": "code",
   "execution_count": 3,
   "metadata": {},
   "outputs": [
    {
     "data": {
      "text/plain": [
       "(37790, 6)"
      ]
     },
     "execution_count": 3,
     "metadata": {},
     "output_type": "execute_result"
    }
   ],
   "source": [
    "df.shape"
   ]
  },
  {
   "cell_type": "code",
   "execution_count": 4,
   "metadata": {},
   "outputs": [
    {
     "data": {
      "text/html": [
       "<div>\n",
       "<style scoped>\n",
       "    .dataframe tbody tr th:only-of-type {\n",
       "        vertical-align: middle;\n",
       "    }\n",
       "\n",
       "    .dataframe tbody tr th {\n",
       "        vertical-align: top;\n",
       "    }\n",
       "\n",
       "    .dataframe thead th {\n",
       "        text-align: right;\n",
       "    }\n",
       "</style>\n",
       "<table border=\"1\" class=\"dataframe\">\n",
       "  <thead>\n",
       "    <tr style=\"text-align: right;\">\n",
       "      <th></th>\n",
       "      <th>ID commande</th>\n",
       "      <th>Nom du fabricant</th>\n",
       "      <th>Product Category Default</th>\n",
       "      <th>Article</th>\n",
       "      <th>Code postal (Facture)</th>\n",
       "      <th>Ville (Facture)</th>\n",
       "    </tr>\n",
       "  </thead>\n",
       "  <tbody>\n",
       "    <tr>\n",
       "      <th>0</th>\n",
       "      <td>1743</td>\n",
       "      <td>FERME BIXARTEA</td>\n",
       "      <td>CRÈMERIE</td>\n",
       "      <td>breuil (375g).</td>\n",
       "      <td>64250.0</td>\n",
       "      <td>SAINT PALAIS</td>\n",
       "    </tr>\n",
       "    <tr>\n",
       "      <th>1</th>\n",
       "      <td>1743</td>\n",
       "      <td>FERME BIXARTEA</td>\n",
       "      <td>FROMAGES</td>\n",
       "      <td>fromage de brebis fermier (650g environ) +6 mo...</td>\n",
       "      <td>64250.0</td>\n",
       "      <td>SAINT PALAIS</td>\n",
       "    </tr>\n",
       "    <tr>\n",
       "      <th>2</th>\n",
       "      <td>1743</td>\n",
       "      <td>FERME AROZTEGIA</td>\n",
       "      <td>FRUITS &amp; LÉGUMES</td>\n",
       "      <td>radis noir (la botte)</td>\n",
       "      <td>64250.0</td>\n",
       "      <td>SAINT PALAIS</td>\n",
       "    </tr>\n",
       "    <tr>\n",
       "      <th>3</th>\n",
       "      <td>1743</td>\n",
       "      <td>FERME ESNEKIAK</td>\n",
       "      <td>CRÈMERIE</td>\n",
       "      <td>Yaourt nature bio au lait entier (4 x125 gr).</td>\n",
       "      <td>64250.0</td>\n",
       "      <td>SAINT PALAIS</td>\n",
       "    </tr>\n",
       "    <tr>\n",
       "      <th>4</th>\n",
       "      <td>1743</td>\n",
       "      <td>FERME BELAZKABIETA</td>\n",
       "      <td>ÉPICERIE</td>\n",
       "      <td>BIZIGAI Piment d'Espelette AOP (50 gr)</td>\n",
       "      <td>64250.0</td>\n",
       "      <td>SAINT PALAIS</td>\n",
       "    </tr>\n",
       "  </tbody>\n",
       "</table>\n",
       "</div>"
      ],
      "text/plain": [
       "   ID commande    Nom du fabricant Product Category Default  \\\n",
       "0         1743      FERME BIXARTEA                 CRÈMERIE   \n",
       "1         1743      FERME BIXARTEA                 FROMAGES   \n",
       "2         1743     FERME AROZTEGIA         FRUITS & LÉGUMES   \n",
       "3         1743      FERME ESNEKIAK                 CRÈMERIE   \n",
       "4         1743  FERME BELAZKABIETA                 ÉPICERIE   \n",
       "\n",
       "                                             Article  Code postal (Facture)  \\\n",
       "0                                     breuil (375g).                64250.0   \n",
       "1  fromage de brebis fermier (650g environ) +6 mo...                64250.0   \n",
       "2                              radis noir (la botte)                64250.0   \n",
       "3      Yaourt nature bio au lait entier (4 x125 gr).                64250.0   \n",
       "4             BIZIGAI Piment d'Espelette AOP (50 gr)                64250.0   \n",
       "\n",
       "  Ville (Facture)  \n",
       "0    SAINT PALAIS  \n",
       "1    SAINT PALAIS  \n",
       "2    SAINT PALAIS  \n",
       "3    SAINT PALAIS  \n",
       "4    SAINT PALAIS  "
      ]
     },
     "execution_count": 4,
     "metadata": {},
     "output_type": "execute_result"
    }
   ],
   "source": [
    "df.head()"
   ]
  },
  {
   "cell_type": "markdown",
   "metadata": {},
   "source": [
    "## 1 Modification du nom des colonnes"
   ]
  },
  {
   "cell_type": "code",
   "execution_count": 5,
   "metadata": {},
   "outputs": [
    {
     "data": {
      "text/plain": [
       "Index(['ID commande', 'Nom du fabricant', 'Product Category Default',\n",
       "       'Article', 'Code postal (Facture)', 'Ville (Facture)'],\n",
       "      dtype='object')"
      ]
     },
     "execution_count": 5,
     "metadata": {},
     "output_type": "execute_result"
    }
   ],
   "source": [
    "df.columns"
   ]
  },
  {
   "cell_type": "code",
   "execution_count": 6,
   "metadata": {},
   "outputs": [],
   "source": [
    "df.columns = ['commande','producteur','categorie','nom_produit','code_postal','commune']"
   ]
  },
  {
   "cell_type": "markdown",
   "metadata": {},
   "source": [
    "## 2 Modification contenu code_postal"
   ]
  },
  {
   "cell_type": "code",
   "execution_count": 7,
   "metadata": {},
   "outputs": [
    {
     "data": {
      "text/plain": [
       "dtype('float64')"
      ]
     },
     "execution_count": 7,
     "metadata": {},
     "output_type": "execute_result"
    }
   ],
   "source": [
    "df.code_postal.dtypes"
   ]
  },
  {
   "cell_type": "code",
   "execution_count": 8,
   "metadata": {},
   "outputs": [],
   "source": [
    "df.code_postal = df.code_postal.astype(int)"
   ]
  },
  {
   "cell_type": "code",
   "execution_count": 9,
   "metadata": {},
   "outputs": [
    {
     "data": {
      "text/plain": [
       "commande        int64\n",
       "producteur     object\n",
       "categorie      object\n",
       "nom_produit    object\n",
       "code_postal     int64\n",
       "commune        object\n",
       "dtype: object"
      ]
     },
     "execution_count": 9,
     "metadata": {},
     "output_type": "execute_result"
    }
   ],
   "source": [
    "df.dtypes"
   ]
  },
  {
   "cell_type": "code",
   "execution_count": 10,
   "metadata": {
    "scrolled": true
   },
   "outputs": [
    {
     "data": {
      "text/html": [
       "<div>\n",
       "<style scoped>\n",
       "    .dataframe tbody tr th:only-of-type {\n",
       "        vertical-align: middle;\n",
       "    }\n",
       "\n",
       "    .dataframe tbody tr th {\n",
       "        vertical-align: top;\n",
       "    }\n",
       "\n",
       "    .dataframe thead th {\n",
       "        text-align: right;\n",
       "    }\n",
       "</style>\n",
       "<table border=\"1\" class=\"dataframe\">\n",
       "  <thead>\n",
       "    <tr style=\"text-align: right;\">\n",
       "      <th></th>\n",
       "      <th>commande</th>\n",
       "      <th>producteur</th>\n",
       "      <th>categorie</th>\n",
       "      <th>nom_produit</th>\n",
       "      <th>code_postal</th>\n",
       "      <th>commune</th>\n",
       "    </tr>\n",
       "  </thead>\n",
       "  <tbody>\n",
       "    <tr>\n",
       "      <th>0</th>\n",
       "      <td>1743</td>\n",
       "      <td>FERME BIXARTEA</td>\n",
       "      <td>CRÈMERIE</td>\n",
       "      <td>breuil (375g).</td>\n",
       "      <td>64250</td>\n",
       "      <td>SAINT PALAIS</td>\n",
       "    </tr>\n",
       "    <tr>\n",
       "      <th>1</th>\n",
       "      <td>1743</td>\n",
       "      <td>FERME BIXARTEA</td>\n",
       "      <td>FROMAGES</td>\n",
       "      <td>fromage de brebis fermier (650g environ) +6 mo...</td>\n",
       "      <td>64250</td>\n",
       "      <td>SAINT PALAIS</td>\n",
       "    </tr>\n",
       "    <tr>\n",
       "      <th>2</th>\n",
       "      <td>1743</td>\n",
       "      <td>FERME AROZTEGIA</td>\n",
       "      <td>FRUITS &amp; LÉGUMES</td>\n",
       "      <td>radis noir (la botte)</td>\n",
       "      <td>64250</td>\n",
       "      <td>SAINT PALAIS</td>\n",
       "    </tr>\n",
       "    <tr>\n",
       "      <th>3</th>\n",
       "      <td>1743</td>\n",
       "      <td>FERME ESNEKIAK</td>\n",
       "      <td>CRÈMERIE</td>\n",
       "      <td>Yaourt nature bio au lait entier (4 x125 gr).</td>\n",
       "      <td>64250</td>\n",
       "      <td>SAINT PALAIS</td>\n",
       "    </tr>\n",
       "    <tr>\n",
       "      <th>4</th>\n",
       "      <td>1743</td>\n",
       "      <td>FERME BELAZKABIETA</td>\n",
       "      <td>ÉPICERIE</td>\n",
       "      <td>BIZIGAI Piment d'Espelette AOP (50 gr)</td>\n",
       "      <td>64250</td>\n",
       "      <td>SAINT PALAIS</td>\n",
       "    </tr>\n",
       "  </tbody>\n",
       "</table>\n",
       "</div>"
      ],
      "text/plain": [
       "   commande          producteur         categorie  \\\n",
       "0      1743      FERME BIXARTEA          CRÈMERIE   \n",
       "1      1743      FERME BIXARTEA          FROMAGES   \n",
       "2      1743     FERME AROZTEGIA  FRUITS & LÉGUMES   \n",
       "3      1743      FERME ESNEKIAK          CRÈMERIE   \n",
       "4      1743  FERME BELAZKABIETA          ÉPICERIE   \n",
       "\n",
       "                                         nom_produit  code_postal  \\\n",
       "0                                     breuil (375g).        64250   \n",
       "1  fromage de brebis fermier (650g environ) +6 mo...        64250   \n",
       "2                              radis noir (la botte)        64250   \n",
       "3      Yaourt nature bio au lait entier (4 x125 gr).        64250   \n",
       "4             BIZIGAI Piment d'Espelette AOP (50 gr)        64250   \n",
       "\n",
       "        commune  \n",
       "0  SAINT PALAIS  \n",
       "1  SAINT PALAIS  \n",
       "2  SAINT PALAIS  \n",
       "3  SAINT PALAIS  \n",
       "4  SAINT PALAIS  "
      ]
     },
     "execution_count": 10,
     "metadata": {},
     "output_type": "execute_result"
    }
   ],
   "source": [
    "df.head()"
   ]
  },
  {
   "cell_type": "code",
   "execution_count": 11,
   "metadata": {},
   "outputs": [
    {
     "data": {
      "text/plain": [
       "array([64250, 64240, 64780, 64480, 64640, 64100, 64990, 64600, 64310,\n",
       "       64210, 64200, 64120, 40220, 64122, 40440, 77700, 64340, 35580,\n",
       "       40530, 31300, 24270, 64500, 38000, 64330, 64190, 64140, 64220,\n",
       "       79400, 40300, 64300, 78000, 64259, 40390])"
      ]
     },
     "execution_count": 11,
     "metadata": {},
     "output_type": "execute_result"
    }
   ],
   "source": [
    "df.code_postal.unique()"
   ]
  },
  {
   "cell_type": "code",
   "execution_count": 12,
   "metadata": {},
   "outputs": [
    {
     "data": {
      "text/plain": [
       "5270"
      ]
     },
     "execution_count": 12,
     "metadata": {},
     "output_type": "execute_result"
    }
   ],
   "source": [
    "len(df.commande.unique())"
   ]
  },
  {
   "cell_type": "code",
   "execution_count": 13,
   "metadata": {},
   "outputs": [
    {
     "data": {
      "text/plain": [
       "(37790, 6)"
      ]
     },
     "execution_count": 13,
     "metadata": {},
     "output_type": "execute_result"
    }
   ],
   "source": [
    "df.shape"
   ]
  },
  {
   "cell_type": "code",
   "execution_count": 14,
   "metadata": {},
   "outputs": [
    {
     "data": {
      "text/plain": [
       "311"
      ]
     },
     "execution_count": 14,
     "metadata": {},
     "output_type": "execute_result"
    }
   ],
   "source": [
    "\n",
    "len(df.nom_produit.unique())"
   ]
  },
  {
   "cell_type": "code",
   "execution_count": 15,
   "metadata": {},
   "outputs": [
    {
     "data": {
      "text/plain": [
       "array([\"fromage de brebis fermier (650g environ) +6 mois d'affinage.\",\n",
       "       'Fromage Pérail de brebis.',\n",
       "       \"fromage de brebis fermier (1.5kg environ) +6 mois d'affinage.\",\n",
       "       'Sarrin frais.', 'Espil.', 'Garralda.', 'Ixuri.', 'Xedarri.',\n",
       "       'Patin.',\n",
       "       \"fromage de brebis fermier (1.5 kg environ) -6 mois d'affinage.\",\n",
       "       \"fromage de brebis fermier (650g environ) -6 mois d'affinage.\",\n",
       "       \"fromage de brebis fermier (500g environ) 10/12 mois d'affinage.\",\n",
       "       \"fromage de brebis fermier (1kg environ) 10/12 mois d'affinage.\",\n",
       "       \"fromage de brebis fermier (3KG) - 6 mois d'affinage.\",\n",
       "       'Etxebazter.', 'Manex.'], dtype=object)"
      ]
     },
     "execution_count": 15,
     "metadata": {},
     "output_type": "execute_result"
    }
   ],
   "source": [
    "df[df.categorie == 'FROMAGES']['nom_produit'].unique()"
   ]
  },
  {
   "cell_type": "code",
   "execution_count": 16,
   "metadata": {},
   "outputs": [
    {
     "data": {
      "text/plain": [
       "16"
      ]
     },
     "execution_count": 16,
     "metadata": {},
     "output_type": "execute_result"
    }
   ],
   "source": [
    "len(df[df.categorie == 'FROMAGES']['nom_produit'].unique())"
   ]
  },
  {
   "cell_type": "code",
   "execution_count": 17,
   "metadata": {},
   "outputs": [
    {
     "name": "stdout",
     "output_type": "stream",
     "text": [
      "CRÈMERIE breuil (375g).\n",
      "CRÈMERIE Yaourt nature bio au lait entier (4 x125 gr).\n",
      "CRÈMERIE Fromage blanc de vache nature,lisse bio (500g).\n",
      "CRÈMERIE Yaourt a la fraise bio au lait entier  (4 x 125 gr).\n",
      "CRÈMERIE Beurre doux bio au lait cru ( 250 gr).\n",
      "CRÈMERIE Creme fraiche bio  au lait cru (250ml).\n",
      "CRÈMERIE Lait de vache demi-ecreme pasteurise bio (1L).\n",
      "CRÈMERIE Yaourt a la framboise bio  au lait entier (4 x125 gr).\n",
      "CRÈMERIE Fromage blanc de vache nature campagne bio (500g).\n",
      "CRÈMERIE Yaourt a la myrtille bio  au lait entier (4 x 125g).\n",
      "CRÈMERIE Breuil (1kg).\n",
      "CRÈMERIE Lait de vache entier pasteurise bio (1L).\n",
      "CRÈMERIE Mamia (x4).\n",
      "CRÈMERIE Breuil (500g).\n",
      "CRÈMERIE Yaourt au citron, bio,  au lait entier (4 x 125g).\n",
      "CRÈMERIE Beurre salé bio au lait cru (250g).\n",
      "CRÈMERIE Yaourt a la vanille  bio  au lait entier ( 4 x 125 gr).\n",
      "CRÈMERIE Yaourt brebis nature (lot de 4).\n",
      "CRÈMERIE Yaourt brebis fruits rouges coulis (lot de 4).\n",
      "CRÈMERIE Yaourt aux fruits, bio, au lait entier (4 x 125g).\n",
      "CRÈMERIE Yaourt brebis citron (lot de 4).\n",
      "CRÈMERIE Lait de chevre AB (1L).\n",
      "CRÈMERIE Fromage blanc de chevre (500g).\n",
      "CRÈMERIE Fromage blanc de chevre (420g).\n",
      "FROMAGES fromage de brebis fermier (650g environ) +6 mois d'affinage.\n",
      "FROMAGES Fromage Pérail de brebis.\n",
      "FROMAGES fromage de brebis fermier (1.5kg environ) +6 mois d'affinage.\n",
      "FROMAGES Sarrin frais.\n",
      "FROMAGES Espil.\n",
      "FROMAGES Garralda.\n",
      "FROMAGES Ixuri.\n",
      "FROMAGES Xedarri.\n",
      "FROMAGES Patin.\n",
      "FROMAGES fromage de brebis fermier (1.5 kg environ) -6 mois d'affinage.\n",
      "FROMAGES fromage de brebis fermier (650g environ) -6 mois d'affinage.\n",
      "FROMAGES fromage de brebis fermier (500g environ) 10/12 mois d'affinage.\n",
      "FROMAGES fromage de brebis fermier (1kg environ) 10/12 mois d'affinage.\n",
      "FROMAGES fromage de brebis fermier (3KG) - 6 mois d'affinage.\n",
      "FROMAGES Etxebazter.\n",
      "FROMAGES Manex.\n",
      "FRUITS & LÉGUMES radis noir (la botte)\n",
      "FRUITS & LÉGUMES betterave rouge (la botte)\n",
      "FRUITS & LÉGUMES courge potimarron ou butternut (1kg)\n",
      "FRUITS & LÉGUMES courge longue de naples (1kg)\n",
      "FRUITS & LÉGUMES Pomme de terre de l'année(2.5kg)\n",
      "FRUITS & LÉGUMES Persil (la botte)\n",
      "FRUITS & LÉGUMES batavia ou feuille de chene\n",
      "FRUITS & LÉGUMES assortiment chou fleur / romanesco (0,8-1kg)\n",
      "FRUITS & LÉGUMES Mache AB (200gr)\n",
      "FRUITS & LÉGUMES chou frise ou cabus (600gr a 800gr)\n",
      "FRUITS & LÉGUMES Epinard (300g)\n",
      "FRUITS & LÉGUMES chicoree scarole\n",
      "FRUITS & LÉGUMES choux de Bruxelles (500g)\n",
      "FRUITS & LÉGUMES pomme de terre vapeur (2kg)\n",
      "FRUITS & LÉGUMES navet (750g)\n",
      "FRUITS & LÉGUMES Pomme de terre de l'année (1kg)\n",
      "FRUITS & LÉGUMES chou de chine\n",
      "FRUITS & LÉGUMES Cagette \"surprise\"\n",
      "FRUITS & LÉGUMES Poireaux d'HIVER (lot de 3 ou 4)\n",
      "FRUITS & LÉGUMES Fenouil (500gr)\n",
      "FRUITS & LÉGUMES Céleri branche (le bouquet de 5 ou 6 branches)\n",
      "FRUITS & LÉGUMES Oignon  rouge ( la botte)\n",
      "FRUITS & LÉGUMES Ail sec (300gr)\n",
      "FRUITS & LÉGUMES Blette (la botte)\n",
      "FRUITS & LÉGUMES feves (1-1,2kg)\n",
      "FRUITS & LÉGUMES petit pois Mangetout\n",
      "FRUITS & LÉGUMES pomme de terre primeur 1kg\n",
      "FRUITS & LÉGUMES Cerises Bigarreau (600 gr)\n",
      "FRUITS & LÉGUMES Cerises Bigarreau (300 gr)\n",
      "FRUITS & LÉGUMES radis de printemps (la botte)\n",
      "FRUITS & LÉGUMES Courgette primeur (1kg)\n",
      "FRUITS & LÉGUMES batavia ou feuille de chene ( la paire )\n",
      "FRUITS & LÉGUMES petit pois (500g)\n",
      "FRUITS & LÉGUMES Piment doux du pays basque (250g)\n",
      "FRUITS & LÉGUMES Chou Kale (la botte)\n",
      "FRUITS & LÉGUMES Concombre (l'unité)\n",
      "FRUITS & LÉGUMES Chou rave (700gr)\n",
      "FRUITS & LÉGUMES courgette (2kg)\n",
      "FRUITS & LÉGUMES Tomate (750gr)\n",
      "FRUITS & LÉGUMES aubergine variée (750gr)\n",
      "FRUITS & LÉGUMES oignon jaune (750g)\n",
      "FRUITS & LÉGUMES Pommes Andere dona maria (1kg)\n",
      "FRUITS & LÉGUMES celeri rave (lot de 3ou4)\n",
      "FRUITS & LÉGUMES Echalote (400g)\n",
      "FRUITS & LÉGUMES Eri Sagarra Petit calibre (1kg)\n",
      "FRUITS & LÉGUMES carotte (la botte 700 a 750gr)\n",
      "FRUITS & LÉGUMES Pommes Urtats (1kg)\n",
      "FRUITS & LÉGUMES Mélange de pommes (1kg)\n",
      "FRUITS & LÉGUMES Mélange de pommes (3kg)\n",
      "FRUITS & LÉGUMES Poivron varié (750gr)\n",
      "FRUITS & LÉGUMES Pastèque en quartier de 1Kg\n",
      "FRUITS & LÉGUMES Potimarron\n",
      "FRUITS & LÉGUMES Pommes Anisa (1 kg)\n",
      "FRUITS & LÉGUMES haricots verts (750g)\n",
      "FRUITS & LÉGUMES Pêches de vigne blanches (500 gr)\n",
      "FRUITS & LÉGUMES pommes Eri sagarra (1kg)\n",
      "FRUITS & LÉGUMES Batavia ou feuille de chene\n",
      "FRUITS & LÉGUMES Chou frise ou cabus (600gr a 800gr)\n",
      "FRUITS & LÉGUMES Carotte (la botte)\n",
      "FRUITS & LÉGUMES Navet (la botte)\n",
      "FRUITS & LÉGUMES Mache (200gr)\n",
      "FRUITS & LÉGUMES Chou de chine\n",
      "FRUITS & LÉGUMES Chou Pak Choï\n",
      "FRUITS & LÉGUMES Ciboulette (la botte)\n",
      "FRUITS & LÉGUMES Radis (la botte)\n",
      "FRUITS & LÉGUMES Musquée de Provence (1kg)\n",
      "FRUITS & LÉGUMES Potimarron (1kg)\n",
      "FRUITS & LÉGUMES Pomme de terre de l'année (3kg)\n",
      "FRUITS & LÉGUMES Longue de Nice (1kg)\n",
      "FRUITS & LÉGUMES Butternut (1kg)\n",
      "FRUITS & LÉGUMES Courge spaghetti (1kg)\n",
      "FRUITS & LÉGUMES Patidou (1kg)\n",
      "FRUITS & LÉGUMES Batavia ou feuille de chene (la paire)\n",
      "FRUITS & LÉGUMES Céleri rave (lot de 3 ou 4)\n",
      "FRUITS & LÉGUMES Betterave rouge (600 gr)\n",
      "FRUITS & LÉGUMES Pommes Gordin Gorri (1kg)\n",
      "FRUITS & LÉGUMES Pommes Gordin Xuri (1kg)\n",
      "FRUITS & LÉGUMES Pommes Jinko sagarra (1kg)\n",
      "FRUITS & LÉGUMES Mesclun (220 gr)\n",
      "FRUITS & LÉGUMES Oignon  blanc frais (la botte)\n",
      "FRUITS & LÉGUMES Chou vert (l'unité)\n",
      "FRUITS & LÉGUMES Aillet frais (la botte de 6-8)\n",
      "FRUITS & LÉGUMES Roquette AB (200g)\n",
      "ÉPICERIE BIZIGAI Piment d'Espelette AOP (50 gr)\n",
      "ÉPICERIE Confiture de pêches (360g)\n",
      "ÉPICERIE compote de pommes 750g\n",
      "ÉPICERIE Coulis de Mûres (320g)\n",
      "ÉPICERIE Jus de pommes (1L)\n",
      "ÉPICERIE Confiture de Figue (360g)\n",
      "ÉPICERIE Coulis de Cassis (320g)\n",
      "ÉPICERIE Soupe de poisson (1L)\n",
      "ÉPICERIE Miel de bruyère cendrée de la forêt landaise (pot de 500g)\n",
      "ÉPICERIE Sirop de Fleurs d'Accacia (320ml)\n",
      "ÉPICERIE Confiture de cerise d'Itxassou (260 gr)\n",
      "ÉPICERIE Farine de Maïs Grand Roux Basque AB (500 gr)\n",
      "ÉPICERIE Purée de Piment d'Espelette (95 gr) SUGORRI\n",
      "ÉPICERIE Miel de Châtaigner (pot de 500g)\n",
      "ÉPICERIE gelée de pommes Anisa 190g\n",
      "ÉPICERIE Miel fleurs de printemps (500g)\n",
      "ÉPICERIE Gelée de Pommes au Piment d'Espelette (125 gr) SAGARMIN\n",
      "ÉPICERIE Confiture de prune (250 gr)\n",
      "ÉPICERIE Farine bise semi complète (1kg)\n",
      "ÉPICERIE Miel de Callune de la montagne du Pays Basque (pot de 250g)\n",
      "ÉPICERIE CIDRE FERMIER (1l)\n",
      "ÉPICERIE Sirop menthe-citron (320ml)\n",
      "ÉPICERIE Pain d'épices pur miel ( 320 gr)\n",
      "ÉPICERIE Pollen de chataigner ( 250 gr)\n",
      "ÉPICERIE Miel de Callune de la montagne du Haut béarn (pot de 250g)\n",
      "ÉPICERIE Confiture de poires (360g)\n",
      "ÉPICERIE Coulis de Pêche (320g)\n",
      "ÉPICERIE Sirop de fleurs de sureau (320ml)\n",
      "ÉPICERIE Polenta de Maïs Grand Roux Basque (500 gr)\n",
      "ÉPICERIE Miel d' Acacia (pot de 500g)\n",
      "ÉPICERIE Carton de jus de pommes (6 x 1L)\n",
      "ÉPICERIE Savon Lierre-Menthe surgras (5%)\n",
      "ÉPICERIE Savon Carotte-Ortie surgras (5%)\n",
      "ÉPICERIE Miel et safran (pot de 250gr)\n",
      "ÉPICERIE Pâte à tartiner Miel et Amande (pot de 250gr)\n",
      "ÉPICERIE Miel de tilleul montagne (pot de 500g)\n",
      "ÉPICERIE Pâte à tartiner Miel et Noisette  (pot de 250gr)\n",
      "ÉPICERIE Miel et piment d 'Espelette (pot de 250gr)\n",
      "ÉPICERIE Crème de châtaigne (250 gr)\n",
      "ÉPICERIE Purée de pomme (350 gr)\n",
      "ÉPICERIE Farine de blé T80 (1 kg)\n",
      "ÉPICERIE Farine de sarrasin (1 kg)\n",
      "ÉPICERIE Nectar de kiwi (1 L)\n",
      "ÉPICERIE Savon neutre Miel / Calendula (95 gr)\n",
      "ÉPICERIE Savon dynamisant Menthe / Citron / Argile verte (95 gr)\n",
      "ÉPICERIE Savon doux Palmarosa / Argile rose (95 gr)\n",
      "ÉPICERIE Savon apaisant Lavande (95 gr)\n",
      "ÉPICERIE Miel de ronce (250 gr)\n",
      "ÉPICERIE Confiture de groseille (360 gr)\n",
      "ÉPICERIE Vin blanc AB Chardonnay\n",
      "ÉPICERIE Vin rouge AB Merlot\n",
      "ÉPICERIE Vin rosé AB Rosado\n",
      "ÉPICERIE Vin rouge AB Graciano\n",
      "FRUITS Pommes Gordin Xuri (1kg)\n",
      "FRUITS Oranges AB (1 kg)\n",
      "FRUITS Pomelos AB (1 kg)\n",
      "FRUITS Clementines AB (1 kg)\n",
      "FRUITS Citrons AB (1 kg)\n",
      "FRUITS Kiwi vert ( 1 kg)\n",
      "FRUITS Panier d'agrumes AB (2 kg)\n",
      "VOLAILLES & OEUFS Petit poulet fermier 1,250 kg (+/- 100 gr) AB.\n",
      "VOLAILLES & OEUFS Petite pintade fermière 1,250 kg (+/- 100gr) AB.\n",
      "VOLAILLES & OEUFS Pintade fermière moyenne 1,5 kg (+/- 100gr) AB.\n",
      "VOLAILLES & OEUFS Grosse pintade fermière 1,8 kg (+/- 100gr) AB.\n",
      "VOLAILLES & OEUFS Gros poulet fermier 1,8 kg (+/- 100gr) AB.\n",
      "VOLAILLES & OEUFS Poule fermière 1,300 kg (+/- 100 gr) AB.\n",
      "VOLAILLES & OEUFS Oeufs fermiers AB (x6)\n",
      "VOLAILLES & OEUFS Oeufs fermiers AB (x12)\n",
      "VOLAILLES & OEUFS Oeufs fermiers AB (x10)\n",
      "VOLAILLES & OEUFS Oeufs fermiers AB (x12) T\n",
      "VOLAILLES & OEUFS Oeufs fermiers AB (x6) L\n",
      "VOLAILLES & OEUFS Oeufs fermiers AB (x12) L\n",
      "VIANDES Axoa de veau bio  (750g)\n",
      "VIANDES Colis de porc Kintoa (4,500kg).\n",
      "VIANDES Saucisses de Porc Basque x4 (400 gr).\n",
      "VIANDES Cotes (échine) de Porc Basque x2 (400 gr).\n",
      "VIANDES Cotes (filet) de Porc Basque x2 (350 gr).\n",
      "VIANDES Foie de veau AB (300 gr).\n",
      "VIANDES Tendrons de veau AB (1 kg).\n",
      "VIANDES Sauté de veau AB (1 kg).\n",
      "VIANDES Cotes de veau AB (500 gr).\n",
      "VIANDES Tendrons de veau AB (500 gr).\n",
      "VIANDES Sauté de veau AB (500 gr).\n",
      "VIANDES Escalopes de veau AB (500 gr).\n",
      "VIANDES Cotes de veau AB (1 kg).\n",
      "VIANDES agneau de lait (entre 6-8kg) BIXARTEA.\n",
      "VIANDES demi agneau de lait (4-4.5kg) BIXARTEA.\n",
      "VIANDES Ventrêche de Porc Basque (250 gr).\n",
      "VIANDES Pate de porc basque (190g)\n",
      "VIANDES Chichon de porc basque (180g)\n",
      "VIANDES Colis de 3Kg de steacks hachés bio ( environ 25 steacks).\n",
      "VIANDES Boudin de porc basque (190 gr)\n",
      "VIANDES 4 steacks hachés bio ( environ  500gr).\n",
      "VIANDES 8 steacks hachés bio ( environ  1 Kg).\n",
      "VIANDES Canette Kriaxera à rotir (2,9 kg - 3,1 kg).\n",
      "VIANDES Demi chevreau de lait  (colis de 3,5kg).\n",
      "VIANDES Saucisson de Porc Basque (205 gr-220 gr)\n",
      "VIANDES navarrin de chèvre (780g)\n",
      "VIANDES Veau bio (colis de 3kg).\n",
      "VIANDES Escalopes de veau AB (1 kg).\n",
      "VIANDES Saucisson de chèvre (180-200 gr)\n",
      "VIANDES Cabri massalé (590g)\n",
      "VIANDES 8 merguez de mouton (500 gr).\n",
      "VIANDES Sauté de veau bio  (750g)\n",
      "VIANDES Cabri Xilindron (390 g)\n",
      "VIANDES Foie de veau AB (500 gr).\n",
      "VIANDES Filet Mignon de Porc Basque (500 gr).\n",
      "VIANDES Chipolatas de porc basque (400 gr).\n",
      "VIANDES Boudins de Porc Basque x3 (300 gr).\n",
      "VIANDES Coustons de Porc Basque x2 (200 gr).\n",
      "VIANDES Roti (épaule) de Porc Basque (800 gr).\n",
      "VIANDES Cotes de chevreau de lait (250 gr).\n",
      "VIANDES Abats de chevreau de lait (450 gr).\n",
      "VIANDES Carré de cotes de chevreau de lait (600 gr).\n",
      "VIANDES Collier de chevreau de lait (500 gr).\n",
      "VIANDES Gigot de chevreau tranché (250 gr).\n",
      "VIANDES Gigot de chevreau de lait (900 gr).\n",
      "VIANDES Epaule de chevreau de lait (600 gr).\n",
      "VIANDES Saucisson de Porc Basque (230 gr-260 gr)\n",
      "VIANDES Foie de veau (200 gr) E.\n",
      "VIANDES Escalopes de veau (200 gr) E.\n",
      "VIANDES Sauté de veau (500 gr) E.\n",
      "VIANDES Cotes de veau filet (200 gr) E.\n",
      "VIANDES Préparation de viande hachée de veau (120 gr) E.\n",
      "VIANDES Tendrons de veau (225 gr) E.\n",
      "VIANDES Roti de veau (600 gr) E.\n",
      "VIANDES Cotes de veau découverte (250 gr) E.\n",
      "VIANDES 6 Merguez de chèvre (350 gr).\n",
      "VIANDES Chipolatas de porc basque x4 (330 gr) E.\n",
      "VIANDES Saucisses de Porc Basque x2 (180 gr) E.\n",
      "VIANDES Boudins de Porc Basque x2 (230 gr) E.\n",
      "VIANDES Cotes filet de Porc Basque x2 (350 gr) E.\n",
      "VIANDES Cotes échine de Porc Basque x2 (350 gr) E.\n",
      "VIANDES Roti (épaule) de Porc Basque (600-800 gr) E.\n",
      "VIANDES Rillettes de canard (170 gr)\n",
      "VIANDES Bloc de foie gras de canard (140 gr)\n",
      "VIANDES Foie gras de canard mi-cuit (200 gr).\n",
      "VIANDES Bocal de foie gras de canard (180 gr)\n",
      "VIANDES Lardons de Porc Basque (200 gr).\n",
      "VIANDES Roti de boeuf (1 kg) E.\n",
      "VIANDES Steack de boeuf (220 gr) E.\n",
      "VIANDES Préparation de viande hachée de boeuf (240 gr) E.\n",
      "VIANDES Bourguignon de boeuf (1 kg) E.\n",
      "VIANDES Saucisson de Porc Basque (290 gr-320 gr)\n",
      "VIANDES Saucisson de porc bio (240 gr-260 gr)\n",
      "VOLAILLES Poulet fermier moyen 1,6 kg (+/-100 gr) AB.\n",
      "VOLAILLES Poulet fermier moyen 1,6 kg (+/-100 gr) AB.M\n",
      "VOLAILLES Poulet fermier moyen (1,6 - 1,8 kg).X\n",
      "VOLAILLES Gros poulet fermier (1,8 - 2,0 kg).X\n",
      "ÉPICERIE SUCRÉE Confiture de lait de chèvre (100 gr)\n",
      "ÉPICERIE SUCRÉE Confiture de cassis AB (240 gr)\n",
      "ÉPICERIE SUCRÉE Confiture de mirabelle AB (240 gr)\n",
      "ÉPICERIE SUCRÉE Gelée de pommes AB (240 gr)\n",
      "ÉPICERIE SUCRÉE Confiture de lait de chèvre (180 gr)\n",
      "ÉPICERIE SUCRÉE Confiture de prune AB (240 gr)\n",
      "ÉPICERIE SUCRÉE Coulis de pêche de vigne AB (320 gr)\n",
      "YAOURT & FROMAGE BLANC Yaourt nature au lait de chèvre (4 x 125 gr).\n",
      "YAOURT & FROMAGE BLANC Yaourt sucré au lait de chèvre (125 gr).\n",
      "YAOURT & FROMAGE BLANC Yaourt abricot au lait de chèvre (4 x 125 gr).\n",
      "VIANDE FRAÎCHE Poisson frais.\n",
      "VIANDE FRAÎCHE Darnes de thon blanc.\n",
      "VIANDE FRAÎCHE Thon blanc entier (6 kg).\n",
      "VIANDE FRAÎCHE Magret de canard frais sous vide (400 gr).\n",
      "VIANDE FRAÎCHE Cuisse de canard confite sous vide.\n",
      "VIANDE FRAÎCHE Manchons de canard sous vide (x2).\n",
      "VIANDE FRAÎCHE Foie gras frais de canard (640 gr).\n",
      "VIANDE FRAÎCHE Bocal de 4 gésiers de canard confits\n",
      "VIANDE FRAÎCHE Foie gras frais de canard (580 gr).\n",
      "VIANDE FRAÎCHE Pigeonneau (380-400 gr).\n",
      "ÉPICERIE SALÉE Huile de tournesol (0,75 l)\n",
      "ÉPICERIE SALÉE Huile de colza (0,75 l)\n",
      "ÉPICERIE SALÉE Fusilli semi complètes (pates) 500 gr AB\n",
      "ÉPICERIE SALÉE Coquillettes semi complètes (pates) 500 gr AB\n",
      "LÉGUMES Melon\n",
      "BOISSONS Tisane Detox (25 gr)\n",
      "BOISSONS Tisane Air Pur (25 gr)\n",
      "BOISSONS Tisane Souplesse (25 gr)\n",
      "BOISSONS Tisane Aube (25 gr)\n",
      "BOISSONS Tisane la Zen (25 gr)\n",
      "BOISSONS Tisane coquelicots (25 gr)\n",
      "BOISSONS Tisane nuit étoilée (25 gr)\n",
      "BOISSONS Tisane la gloutonne (25g)\n",
      "NOS PRODUITS Patate douce 1kg\n",
      "NOS PRODUITS Coffret de Noël\n",
      "FROMAGE DE VACHE Tomme de vache fraîche (4-8 sem) 575 gr.\n",
      "FROMAGE DE VACHE Fromage de vache affiné (4-6 mois) 550 gr.\n",
      "FROMAGE DE VACHE Tomme de vache fraîche (4-8 sem) 1,15 kg.\n",
      "FROMAGE DE VACHE Fromage de vache affiné (4-6 mois) 1,1 kg.\n",
      "PLATS CUISINÉS Poule confite\n"
     ]
    }
   ],
   "source": [
    "for cat in df.categorie.unique():\n",
    "    for produit in df[df.categorie == cat]['nom_produit'].unique():\n",
    "        print(cat,produit)"
   ]
  },
  {
   "cell_type": "markdown",
   "metadata": {},
   "source": [
    "## 3 Reduction du nombre de produits\n",
    "Actuellement il y a 311 produits différents, mais on remarque que l'on peut réunir en un seul plusieurs produits (par exemple il y a 7 \"fromages de brebis fermier\" car avec des poids différents...)"
   ]
  },
  {
   "cell_type": "markdown",
   "metadata": {},
   "source": [
    "### Pour la catégorie CRÈMERIE"
   ]
  },
  {
   "cell_type": "code",
   "execution_count": 18,
   "metadata": {},
   "outputs": [
    {
     "name": "stdout",
     "output_type": "stream",
     "text": [
      "['breuil (375g).' 'Yaourt nature bio au lait entier (4 x125 gr).'\n",
      " 'Fromage blanc de vache nature,lisse bio (500g).'\n",
      " 'Yaourt a la fraise bio au lait entier  (4 x 125 gr).'\n",
      " 'Beurre doux bio au lait cru ( 250 gr).'\n",
      " 'Creme fraiche bio  au lait cru (250ml).'\n",
      " 'Lait de vache demi-ecreme pasteurise bio (1L).'\n",
      " 'Yaourt a la framboise bio  au lait entier (4 x125 gr).'\n",
      " 'Fromage blanc de vache nature campagne bio (500g).'\n",
      " 'Yaourt a la myrtille bio  au lait entier (4 x 125g).' 'Breuil (1kg).'\n",
      " 'Lait de vache entier pasteurise bio (1L).' 'Mamia (x4).'\n",
      " 'Breuil (500g).' 'Yaourt au citron, bio,  au lait entier (4 x 125g).'\n",
      " 'Beurre salé bio au lait cru (250g).'\n",
      " 'Yaourt a la vanille  bio  au lait entier ( 4 x 125 gr).'\n",
      " 'Yaourt brebis nature (lot de 4).'\n",
      " 'Yaourt brebis fruits rouges coulis (lot de 4).'\n",
      " 'Yaourt aux fruits, bio, au lait entier (4 x 125g).'\n",
      " 'Yaourt brebis citron (lot de 4).' 'Lait de chevre AB (1L).'\n",
      " 'Fromage blanc de chevre (500g).' 'Fromage blanc de chevre (420g).'] 24\n"
     ]
    }
   ],
   "source": [
    "print(df[df.categorie == 'CRÈMERIE']['nom_produit'].unique(), len(df[df.categorie == 'CRÈMERIE']['nom_produit'].unique()))"
   ]
  },
  {
   "cell_type": "markdown",
   "metadata": {},
   "source": [
    "On peut réduire le nombre actuels de produits de 24 à 7\n",
    "- breuil\n",
    "- mamia\n",
    "- yaourt\n",
    "- fromage blanc\n",
    "- lait\n",
    "- beurre\n",
    "- creme fraiche"
   ]
  },
  {
   "cell_type": "code",
   "execution_count": 19,
   "metadata": {},
   "outputs": [],
   "source": [
    "filtre1 = (df.categorie == 'CRÈMERIE') | (df.categorie == 'YAOURT & FROMAGE BLANC')\n",
    "df_cremerie_yaourt = df[filtre1].copy()"
   ]
  },
  {
   "cell_type": "code",
   "execution_count": 20,
   "metadata": {},
   "outputs": [
    {
     "data": {
      "text/html": [
       "<div>\n",
       "<style scoped>\n",
       "    .dataframe tbody tr th:only-of-type {\n",
       "        vertical-align: middle;\n",
       "    }\n",
       "\n",
       "    .dataframe tbody tr th {\n",
       "        vertical-align: top;\n",
       "    }\n",
       "\n",
       "    .dataframe thead th {\n",
       "        text-align: right;\n",
       "    }\n",
       "</style>\n",
       "<table border=\"1\" class=\"dataframe\">\n",
       "  <thead>\n",
       "    <tr style=\"text-align: right;\">\n",
       "      <th></th>\n",
       "      <th>commande</th>\n",
       "      <th>producteur</th>\n",
       "      <th>categorie</th>\n",
       "      <th>nom_produit</th>\n",
       "      <th>code_postal</th>\n",
       "      <th>commune</th>\n",
       "    </tr>\n",
       "  </thead>\n",
       "  <tbody>\n",
       "    <tr>\n",
       "      <th>0</th>\n",
       "      <td>1743</td>\n",
       "      <td>FERME BIXARTEA</td>\n",
       "      <td>CRÈMERIE</td>\n",
       "      <td>breuil (375g).</td>\n",
       "      <td>64250</td>\n",
       "      <td>SAINT PALAIS</td>\n",
       "    </tr>\n",
       "    <tr>\n",
       "      <th>3</th>\n",
       "      <td>1743</td>\n",
       "      <td>FERME ESNEKIAK</td>\n",
       "      <td>CRÈMERIE</td>\n",
       "      <td>Yaourt nature bio au lait entier (4 x125 gr).</td>\n",
       "      <td>64250</td>\n",
       "      <td>SAINT PALAIS</td>\n",
       "    </tr>\n",
       "    <tr>\n",
       "      <th>6</th>\n",
       "      <td>1750</td>\n",
       "      <td>FERME BIXARTEA</td>\n",
       "      <td>CRÈMERIE</td>\n",
       "      <td>breuil (375g).</td>\n",
       "      <td>64240</td>\n",
       "      <td>HASPARREN</td>\n",
       "    </tr>\n",
       "    <tr>\n",
       "      <th>7</th>\n",
       "      <td>1750</td>\n",
       "      <td>FERME ESNEKIAK</td>\n",
       "      <td>CRÈMERIE</td>\n",
       "      <td>Fromage blanc de vache nature,lisse bio (500g).</td>\n",
       "      <td>64240</td>\n",
       "      <td>HASPARREN</td>\n",
       "    </tr>\n",
       "    <tr>\n",
       "      <th>8</th>\n",
       "      <td>1750</td>\n",
       "      <td>FERME ESNEKIAK</td>\n",
       "      <td>CRÈMERIE</td>\n",
       "      <td>Yaourt a la fraise bio au lait entier  (4 x 12...</td>\n",
       "      <td>64240</td>\n",
       "      <td>HASPARREN</td>\n",
       "    </tr>\n",
       "    <tr>\n",
       "      <th>...</th>\n",
       "      <td>...</td>\n",
       "      <td>...</td>\n",
       "      <td>...</td>\n",
       "      <td>...</td>\n",
       "      <td>...</td>\n",
       "      <td>...</td>\n",
       "    </tr>\n",
       "    <tr>\n",
       "      <th>37780</th>\n",
       "      <td>7205</td>\n",
       "      <td>FERME ESNEKIAK</td>\n",
       "      <td>CRÈMERIE</td>\n",
       "      <td>Yaourt au citron, bio,  au lait entier (4 x 12...</td>\n",
       "      <td>64480</td>\n",
       "      <td>ustaritz</td>\n",
       "    </tr>\n",
       "    <tr>\n",
       "      <th>37781</th>\n",
       "      <td>7205</td>\n",
       "      <td>FERME ESNEKIAK</td>\n",
       "      <td>CRÈMERIE</td>\n",
       "      <td>Yaourt a la fraise bio au lait entier  (4 x 12...</td>\n",
       "      <td>64480</td>\n",
       "      <td>ustaritz</td>\n",
       "    </tr>\n",
       "    <tr>\n",
       "      <th>37782</th>\n",
       "      <td>7205</td>\n",
       "      <td>FERME ESNEKIAK</td>\n",
       "      <td>CRÈMERIE</td>\n",
       "      <td>Yaourt a la myrtille bio  au lait entier (4 x ...</td>\n",
       "      <td>64480</td>\n",
       "      <td>ustaritz</td>\n",
       "    </tr>\n",
       "    <tr>\n",
       "      <th>37787</th>\n",
       "      <td>7205</td>\n",
       "      <td>FERME ESNEKIAK</td>\n",
       "      <td>CRÈMERIE</td>\n",
       "      <td>Yaourt nature bio au lait entier (4 x125 gr).</td>\n",
       "      <td>64480</td>\n",
       "      <td>ustaritz</td>\n",
       "    </tr>\n",
       "    <tr>\n",
       "      <th>37788</th>\n",
       "      <td>7205</td>\n",
       "      <td>FERME ESNEKIAK</td>\n",
       "      <td>CRÈMERIE</td>\n",
       "      <td>Lait de vache demi-ecreme pasteurise bio (1L).</td>\n",
       "      <td>64480</td>\n",
       "      <td>ustaritz</td>\n",
       "    </tr>\n",
       "  </tbody>\n",
       "</table>\n",
       "<p>12570 rows × 6 columns</p>\n",
       "</div>"
      ],
      "text/plain": [
       "       commande       producteur categorie  \\\n",
       "0          1743   FERME BIXARTEA  CRÈMERIE   \n",
       "3          1743   FERME ESNEKIAK  CRÈMERIE   \n",
       "6          1750   FERME BIXARTEA  CRÈMERIE   \n",
       "7          1750   FERME ESNEKIAK  CRÈMERIE   \n",
       "8          1750   FERME ESNEKIAK  CRÈMERIE   \n",
       "...         ...              ...       ...   \n",
       "37780      7205   FERME ESNEKIAK  CRÈMERIE   \n",
       "37781      7205   FERME ESNEKIAK  CRÈMERIE   \n",
       "37782      7205   FERME ESNEKIAK  CRÈMERIE   \n",
       "37787      7205   FERME ESNEKIAK  CRÈMERIE   \n",
       "37788      7205   FERME ESNEKIAK  CRÈMERIE   \n",
       "\n",
       "                                             nom_produit  code_postal  \\\n",
       "0                                         breuil (375g).        64250   \n",
       "3          Yaourt nature bio au lait entier (4 x125 gr).        64250   \n",
       "6                                         breuil (375g).        64240   \n",
       "7        Fromage blanc de vache nature,lisse bio (500g).        64240   \n",
       "8      Yaourt a la fraise bio au lait entier  (4 x 12...        64240   \n",
       "...                                                  ...          ...   \n",
       "37780  Yaourt au citron, bio,  au lait entier (4 x 12...        64480   \n",
       "37781  Yaourt a la fraise bio au lait entier  (4 x 12...        64480   \n",
       "37782  Yaourt a la myrtille bio  au lait entier (4 x ...        64480   \n",
       "37787      Yaourt nature bio au lait entier (4 x125 gr).        64480   \n",
       "37788     Lait de vache demi-ecreme pasteurise bio (1L).        64480   \n",
       "\n",
       "            commune  \n",
       "0      SAINT PALAIS  \n",
       "3      SAINT PALAIS  \n",
       "6         HASPARREN  \n",
       "7         HASPARREN  \n",
       "8         HASPARREN  \n",
       "...             ...  \n",
       "37780      ustaritz  \n",
       "37781      ustaritz  \n",
       "37782      ustaritz  \n",
       "37787      ustaritz  \n",
       "37788      ustaritz  \n",
       "\n",
       "[12570 rows x 6 columns]"
      ]
     },
     "execution_count": 20,
     "metadata": {},
     "output_type": "execute_result"
    }
   ],
   "source": [
    "df_cremerie_yaourt"
   ]
  },
  {
   "cell_type": "code",
   "execution_count": 21,
   "metadata": {},
   "outputs": [],
   "source": [
    "def product_cremerie_yaourt(row):\n",
    "    nom = row.nom_produit\n",
    "    nom = nom.lower()\n",
    "    if 'yaourt' in nom:\n",
    "        return 'yaourt'\n",
    "    elif 'breuil' in nom:\n",
    "        return 'breuil'\n",
    "    elif 'mamia' in nom:\n",
    "        return 'mamia'\n",
    "    elif 'fromage blanc' in nom:\n",
    "        return 'fromage blanc'\n",
    "    elif 'beurre' in nom:\n",
    "        return 'beurre'\n",
    "    elif 'creme fraiche' in nom:\n",
    "        return 'creme fraiche'\n",
    "    elif 'lait' in nom:\n",
    "        return 'lait'\n",
    "    else:\n",
    "        return 'erreur'\n",
    "\n",
    "df_cremerie_yaourt['produit'] = df_cremerie_yaourt.apply(product_cremerie_yaourt, axis=1)"
   ]
  },
  {
   "cell_type": "code",
   "execution_count": 22,
   "metadata": {},
   "outputs": [
    {
     "data": {
      "text/plain": [
       "array(['breuil', 'yaourt', 'fromage blanc', 'beurre', 'creme fraiche',\n",
       "       'lait', 'mamia'], dtype=object)"
      ]
     },
     "execution_count": 22,
     "metadata": {},
     "output_type": "execute_result"
    }
   ],
   "source": [
    "df_cremerie_yaourt['produit'].unique()"
   ]
  },
  {
   "cell_type": "markdown",
   "metadata": {},
   "source": [
    "### Catégorie Fromages et Fromage de vache\n",
    "Pour simplifier nous réunissons le traitement de ces deux catégories"
   ]
  },
  {
   "cell_type": "code",
   "execution_count": 23,
   "metadata": {},
   "outputs": [
    {
     "data": {
      "text/plain": [
       "array(['CRÈMERIE', 'FROMAGES', 'FRUITS & LÉGUMES', 'ÉPICERIE', 'FRUITS',\n",
       "       'VOLAILLES & OEUFS', 'VIANDES', 'VOLAILLES', 'ÉPICERIE SUCRÉE',\n",
       "       'YAOURT & FROMAGE BLANC', 'VIANDE FRAÎCHE', 'ÉPICERIE SALÉE',\n",
       "       'LÉGUMES', 'BOISSONS', 'NOS PRODUITS', 'FROMAGE DE VACHE',\n",
       "       'PLATS CUISINÉS'], dtype=object)"
      ]
     },
     "execution_count": 23,
     "metadata": {},
     "output_type": "execute_result"
    }
   ],
   "source": [
    "df.categorie.unique()"
   ]
  },
  {
   "cell_type": "code",
   "execution_count": 24,
   "metadata": {},
   "outputs": [],
   "source": [
    "filtre = (df.categorie == 'FROMAGES') | (df.categorie == 'FROMAGE DE VACHE')"
   ]
  },
  {
   "cell_type": "code",
   "execution_count": 25,
   "metadata": {},
   "outputs": [],
   "source": [
    "df_fromage = df[filtre].copy()"
   ]
  },
  {
   "cell_type": "code",
   "execution_count": 26,
   "metadata": {},
   "outputs": [],
   "source": [
    "def product_fromage(row):\n",
    "    nom = row.nom_produit\n",
    "    nom = nom.lower()\n",
    "    if 'fromage de brebis fermier' in nom:\n",
    "        return 'fromage de brebis fermier'\n",
    "    elif 'fromage pérail de brebis' in nom:\n",
    "        return 'fromage pérail de brebis'\n",
    "    elif 'tomme de vache fraîche' in nom:\n",
    "        return 'tomme de vache fraîche'\n",
    "    elif 'fromage de vache affiné' in nom:\n",
    "        return 'fromage de vache affiné'\n",
    "    elif 'sarrin' in nom or 'espil' in nom or 'garralda' in nom or 'ixuri' in nom or'xedarri' in nom or 'manex' in nom or 'patin' in nom or 'etxebazter' in nom:\n",
    "        return 'fromage de chèvre'\n",
    "    else:\n",
    "        return 'erreur'\n",
    "\n",
    "\n",
    "df_fromage['produit'] = df_fromage.apply(product_fromage, axis = 1)"
   ]
  },
  {
   "cell_type": "code",
   "execution_count": 27,
   "metadata": {},
   "outputs": [
    {
     "data": {
      "text/html": [
       "<div>\n",
       "<style scoped>\n",
       "    .dataframe tbody tr th:only-of-type {\n",
       "        vertical-align: middle;\n",
       "    }\n",
       "\n",
       "    .dataframe tbody tr th {\n",
       "        vertical-align: top;\n",
       "    }\n",
       "\n",
       "    .dataframe thead th {\n",
       "        text-align: right;\n",
       "    }\n",
       "</style>\n",
       "<table border=\"1\" class=\"dataframe\">\n",
       "  <thead>\n",
       "    <tr style=\"text-align: right;\">\n",
       "      <th></th>\n",
       "      <th>commande</th>\n",
       "      <th>producteur</th>\n",
       "      <th>categorie</th>\n",
       "      <th>nom_produit</th>\n",
       "      <th>code_postal</th>\n",
       "      <th>commune</th>\n",
       "      <th>produit</th>\n",
       "    </tr>\n",
       "  </thead>\n",
       "  <tbody>\n",
       "  </tbody>\n",
       "</table>\n",
       "</div>"
      ],
      "text/plain": [
       "Empty DataFrame\n",
       "Columns: [commande, producteur, categorie, nom_produit, code_postal, commune, produit]\n",
       "Index: []"
      ]
     },
     "execution_count": 27,
     "metadata": {},
     "output_type": "execute_result"
    }
   ],
   "source": [
    "df_fromage[df_fromage.produit == 'erreur']"
   ]
  },
  {
   "cell_type": "markdown",
   "metadata": {},
   "source": [
    "### Catégorie Fruits & légumes et catégorie fruits\n",
    "Pour simplifier nous réunissons le traitement de ces deux catégories également"
   ]
  },
  {
   "cell_type": "code",
   "execution_count": 28,
   "metadata": {
    "scrolled": true
   },
   "outputs": [],
   "source": [
    "filtre2 = (df.categorie == 'FRUITS & LÉGUMES') | (df.categorie == 'FRUITS')| (df.categorie == 'NOS PRODUITS')"
   ]
  },
  {
   "cell_type": "code",
   "execution_count": 29,
   "metadata": {},
   "outputs": [],
   "source": [
    "df_fruits = df[filtre2].copy()"
   ]
  },
  {
   "cell_type": "code",
   "execution_count": 30,
   "metadata": {},
   "outputs": [
    {
     "data": {
      "text/plain": [
       "array(['radis noir (la botte)', 'betterave rouge (la botte)',\n",
       "       'Pommes Gordin Xuri (1kg)', 'courge potimarron ou butternut (1kg)',\n",
       "       'courge longue de naples (1kg)',\n",
       "       \"Pomme de terre de l'année(2.5kg)\", 'Persil (la botte)',\n",
       "       'batavia ou feuille de chene',\n",
       "       'assortiment chou fleur / romanesco (0,8-1kg)', 'Mache AB (200gr)',\n",
       "       'chou frise ou cabus (600gr a 800gr)', 'Epinard (300g)',\n",
       "       'chicoree scarole', 'choux de Bruxelles (500g)',\n",
       "       'pomme de terre vapeur (2kg)', 'navet (750g)',\n",
       "       \"Pomme de terre de l'année (1kg)\", 'chou de chine',\n",
       "       'Cagette \"surprise\"', \"Poireaux d'HIVER (lot de 3 ou 4)\",\n",
       "       'Fenouil (500gr)',\n",
       "       'Céleri branche (le bouquet de 5 ou 6 branches)',\n",
       "       'Oignon  rouge ( la botte)', 'Ail sec (300gr)',\n",
       "       'Blette (la botte)', 'feves (1-1,2kg)', 'petit pois Mangetout',\n",
       "       'pomme de terre primeur 1kg', 'Cerises Bigarreau (600 gr)',\n",
       "       'Cerises Bigarreau (300 gr)', 'radis de printemps (la botte)',\n",
       "       'Courgette primeur (1kg)',\n",
       "       'batavia ou feuille de chene ( la paire )', 'petit pois (500g)',\n",
       "       'Piment doux du pays basque (250g)', 'Chou Kale (la botte)',\n",
       "       \"Concombre (l'unité)\", 'Chou rave (700gr)', 'courgette (2kg)',\n",
       "       'Tomate (750gr)', 'aubergine variée (750gr)',\n",
       "       'oignon jaune (750g)', 'Pommes Andere dona maria (1kg)',\n",
       "       'celeri rave (lot de 3ou4)', 'Echalote (400g)',\n",
       "       'Eri Sagarra Petit calibre (1kg)',\n",
       "       'carotte (la botte 700 a 750gr)', 'Pommes Urtats (1kg)',\n",
       "       'Oranges AB (1 kg)', 'Pomelos AB (1 kg)', 'Clementines AB (1 kg)',\n",
       "       'Citrons AB (1 kg)', 'Kiwi vert ( 1 kg)',\n",
       "       'Mélange de pommes (1kg)', 'Mélange de pommes (3kg)',\n",
       "       'Poivron varié (750gr)', 'Pastèque en quartier de 1Kg',\n",
       "       'Potimarron', 'Pommes Anisa (1 kg)', 'haricots verts (750g)',\n",
       "       'Pêches de vigne blanches (500 gr)', 'pommes Eri sagarra (1kg)',\n",
       "       'Patate douce 1kg', 'Batavia ou feuille de chene',\n",
       "       'Chou frise ou cabus (600gr a 800gr)', 'Carotte (la botte)',\n",
       "       'Navet (la botte)', 'Mache (200gr)', 'Chou de chine',\n",
       "       'Chou Pak Choï', 'Ciboulette (la botte)', 'Radis (la botte)',\n",
       "       'Musquée de Provence (1kg)', 'Potimarron (1kg)',\n",
       "       \"Pomme de terre de l'année (3kg)\", 'Longue de Nice (1kg)',\n",
       "       'Butternut (1kg)', 'Courge spaghetti (1kg)', 'Patidou (1kg)',\n",
       "       'Batavia ou feuille de chene (la paire)',\n",
       "       \"Panier d'agrumes AB (2 kg)\", 'Céleri rave (lot de 3 ou 4)',\n",
       "       'Betterave rouge (600 gr)', 'Pommes Gordin Gorri (1kg)',\n",
       "       'Pommes Jinko sagarra (1kg)', 'Mesclun (220 gr)',\n",
       "       'Coffret de Noël', 'Oignon  blanc frais (la botte)',\n",
       "       \"Chou vert (l'unité)\", 'Aillet frais (la botte de 6-8)',\n",
       "       'Roquette AB (200g)'], dtype=object)"
      ]
     },
     "execution_count": 30,
     "metadata": {},
     "output_type": "execute_result"
    }
   ],
   "source": [
    "df_fruits['nom_produit'].unique()"
   ]
  },
  {
   "cell_type": "code",
   "execution_count": 31,
   "metadata": {},
   "outputs": [
    {
     "data": {
      "text/plain": [
       "91"
      ]
     },
     "execution_count": 31,
     "metadata": {},
     "output_type": "execute_result"
    }
   ],
   "source": [
    "len(df_fruits['nom_produit'].unique())"
   ]
  },
  {
   "cell_type": "code",
   "execution_count": 32,
   "metadata": {},
   "outputs": [],
   "source": [
    "def product_fruits_legumes(row):\n",
    "    nom = row.nom_produit\n",
    "    nom = nom.lower()\n",
    "    if 'radis' in nom:\n",
    "        return 'radis'\n",
    "    elif 'betterave' in nom:\n",
    "        return 'betterave'\n",
    "    elif 'melon' in nom:\n",
    "        return 'melon'\n",
    "    elif 'pomme de terre' in nom or 'patate' in nom:\n",
    "        return 'pomme de terre'\n",
    "    elif 'pommes' in nom or 'sagarra' in nom:\n",
    "        return 'pommes'\n",
    "    elif 'persil' in nom:\n",
    "        return 'persil'\n",
    "    elif ('batavia' in nom)|('mache' in nom)|('scarole' in nom)|('roquette' in nom) or 'mesclun' in nom:\n",
    "        return 'salade'\n",
    "    elif 'chou' in nom:\n",
    "        return 'chou'\n",
    "    elif 'oignon' in nom:\n",
    "        return 'oignon'\n",
    "    elif 'courge' in nom or 'musquée de provence' in nom or 'longue de nice' in nom or 'butternut' in nom:\n",
    "        return 'courge'\n",
    "    elif 'epinard' in nom:\n",
    "        return 'epinard'\n",
    "    elif 'navet' in nom:\n",
    "        return 'navet'\n",
    "    elif 'cagette' in nom:\n",
    "        return 'assortiment'\n",
    "    elif 'poireaux' in nom:\n",
    "        return 'poireaux'\n",
    "    elif 'fenouil' in nom:\n",
    "        return 'fenouil'\n",
    "    elif 'blette' in nom:\n",
    "        return 'blette'\n",
    "    elif 'ail sec' in nom or 'aillet' in nom:\n",
    "        return 'ail'\n",
    "    elif 'céleri' in nom or 'celeri' in nom:\n",
    "        return 'celeri'\n",
    "    elif 'feves' in nom:\n",
    "        return 'feves'\n",
    "    elif 'petit pois' in nom:\n",
    "        return 'petit pois'\n",
    "    elif 'cerises' in nom:\n",
    "        return 'cerises'\n",
    "    elif 'agrumes' in nom or 'clementines' in nom or 'oranges' in nom or 'citron' in nom or 'pomelos' in nom:\n",
    "        return 'agrumes'\n",
    "    elif 'piment' in nom:\n",
    "        return 'piment'\n",
    "    elif 'concombre' in nom:\n",
    "        return 'concombre'\n",
    "    elif 'carotte' in nom:\n",
    "        return 'carotte'\n",
    "    elif 'tomate' in nom:\n",
    "        return 'tomate'\n",
    "    elif 'aubergine' in nom:\n",
    "        return 'aubergine'\n",
    "    elif 'kiwi' in nom:\n",
    "        return 'kiwi'\n",
    "    elif 'echalote' in nom:\n",
    "        return 'echalote'\n",
    "    elif 'poivron' in nom:\n",
    "        return 'poivron'\n",
    "    elif 'coffret' in nom:\n",
    "        return 'autre'\n",
    "    elif 'pastèque' in nom:\n",
    "        return 'pastèque'\n",
    "    elif 'ciboulette' in nom:\n",
    "        return 'ciboulette'\n",
    "    elif 'potimarron' in nom:\n",
    "        return 'potimarron'\n",
    "    elif 'haricots verts' in nom:\n",
    "        return 'haricots verts'\n",
    "    elif 'pêches' in nom:\n",
    "        return 'pêches'\n",
    "    elif 'patidou' in nom:\n",
    "        return 'patidou'\n",
    "    else:\n",
    "        return 'erreur'\n",
    "\n",
    "\n",
    "\n",
    "df_fruits['produit'] = df_fruits.apply(product_fruits_legumes,axis=1)"
   ]
  },
  {
   "cell_type": "code",
   "execution_count": 33,
   "metadata": {
    "scrolled": true
   },
   "outputs": [
    {
     "data": {
      "text/plain": [
       "36"
      ]
     },
     "execution_count": 33,
     "metadata": {},
     "output_type": "execute_result"
    }
   ],
   "source": [
    "len(df_fruits['produit'].unique())"
   ]
  },
  {
   "cell_type": "code",
   "execution_count": 34,
   "metadata": {},
   "outputs": [
    {
     "data": {
      "text/html": [
       "<div>\n",
       "<style scoped>\n",
       "    .dataframe tbody tr th:only-of-type {\n",
       "        vertical-align: middle;\n",
       "    }\n",
       "\n",
       "    .dataframe tbody tr th {\n",
       "        vertical-align: top;\n",
       "    }\n",
       "\n",
       "    .dataframe thead th {\n",
       "        text-align: right;\n",
       "    }\n",
       "</style>\n",
       "<table border=\"1\" class=\"dataframe\">\n",
       "  <thead>\n",
       "    <tr style=\"text-align: right;\">\n",
       "      <th></th>\n",
       "      <th>commande</th>\n",
       "      <th>producteur</th>\n",
       "      <th>categorie</th>\n",
       "      <th>nom_produit</th>\n",
       "      <th>code_postal</th>\n",
       "      <th>commune</th>\n",
       "      <th>produit</th>\n",
       "    </tr>\n",
       "  </thead>\n",
       "  <tbody>\n",
       "  </tbody>\n",
       "</table>\n",
       "</div>"
      ],
      "text/plain": [
       "Empty DataFrame\n",
       "Columns: [commande, producteur, categorie, nom_produit, code_postal, commune, produit]\n",
       "Index: []"
      ]
     },
     "execution_count": 34,
     "metadata": {},
     "output_type": "execute_result"
    }
   ],
   "source": [
    "df_fruits[df_fruits.produit == 'erreur']"
   ]
  },
  {
   "cell_type": "markdown",
   "metadata": {},
   "source": [
    "### Catégorie ÉPICERIE + EPICERIE SUCREE + EPICERIE SALEE"
   ]
  },
  {
   "cell_type": "code",
   "execution_count": 35,
   "metadata": {},
   "outputs": [],
   "source": [
    "filtre3 = (df.categorie == 'ÉPICERIE')|(df.categorie == 'ÉPICERIE SUCRÉE')|(df.categorie == 'ÉPICERIE SALÉE')\n",
    "df_epicerie = df[filtre3].copy()"
   ]
  },
  {
   "cell_type": "code",
   "execution_count": 36,
   "metadata": {},
   "outputs": [
    {
     "data": {
      "text/plain": [
       "(array([\"BIZIGAI Piment d'Espelette AOP (50 gr)\",\n",
       "        'Confiture de pêches (360g)', 'compote de pommes 750g',\n",
       "        'Coulis de Mûres (320g)', 'Jus de pommes (1L)',\n",
       "        'Confiture de Figue (360g)', 'Coulis de Cassis (320g)',\n",
       "        'Soupe de poisson (1L)',\n",
       "        'Miel de bruyère cendrée de la forêt landaise (pot de 500g)',\n",
       "        \"Sirop de Fleurs d'Accacia (320ml)\",\n",
       "        \"Confiture de cerise d'Itxassou (260 gr)\",\n",
       "        'Farine de Maïs Grand Roux Basque AB (500 gr)',\n",
       "        \"Purée de Piment d'Espelette (95 gr) SUGORRI\",\n",
       "        'Miel de Châtaigner (pot de 500g)', 'gelée de pommes Anisa 190g',\n",
       "        'Miel fleurs de printemps (500g)',\n",
       "        \"Gelée de Pommes au Piment d'Espelette (125 gr) SAGARMIN\",\n",
       "        'Confiture de lait de chèvre (100 gr)',\n",
       "        'Confiture de prune (250 gr)', 'Farine bise semi complète (1kg)',\n",
       "        'Miel de Callune de la montagne du Pays Basque (pot de 250g)',\n",
       "        'CIDRE FERMIER (1l)', 'Sirop menthe-citron (320ml)',\n",
       "        \"Pain d'épices pur miel ( 320 gr)\",\n",
       "        'Pollen de chataigner ( 250 gr)',\n",
       "        'Miel de Callune de la montagne du Haut béarn (pot de 250g)',\n",
       "        'Confiture de poires (360g)', 'Huile de tournesol (0,75 l)',\n",
       "        'Huile de colza (0,75 l)', 'Coulis de Pêche (320g)',\n",
       "        'Sirop de fleurs de sureau (320ml)',\n",
       "        'Polenta de Maïs Grand Roux Basque (500 gr)',\n",
       "        \"Miel d' Acacia (pot de 500g)\", 'Carton de jus de pommes (6 x 1L)',\n",
       "        'Savon Lierre-Menthe surgras (5%)',\n",
       "        'Savon Carotte-Ortie surgras (5%)',\n",
       "        'Miel et safran (pot de 250gr)',\n",
       "        'Pâte à tartiner Miel et Amande (pot de 250gr)',\n",
       "        'Miel de tilleul montagne (pot de 500g)',\n",
       "        'Pâte à tartiner Miel et Noisette  (pot de 250gr)',\n",
       "        \"Miel et piment d 'Espelette (pot de 250gr)\",\n",
       "        'Fusilli semi complètes (pates) 500 gr AB',\n",
       "        'Coquillettes semi complètes (pates) 500 gr AB',\n",
       "        'Confiture de cassis AB (240 gr)',\n",
       "        'Confiture de mirabelle AB (240 gr)',\n",
       "        'Crème de châtaigne (250 gr)', 'Gelée de pommes AB (240 gr)',\n",
       "        'Purée de pomme (350 gr)', 'Farine de blé T80 (1 kg)',\n",
       "        'Farine de sarrasin (1 kg)', 'Nectar de kiwi (1 L)',\n",
       "        'Confiture de lait de chèvre (180 gr)',\n",
       "        'Savon neutre Miel / Calendula (95 gr)',\n",
       "        'Savon dynamisant Menthe / Citron / Argile verte (95 gr)',\n",
       "        'Savon doux Palmarosa / Argile rose (95 gr)',\n",
       "        'Savon apaisant Lavande (95 gr)', 'Confiture de prune AB (240 gr)',\n",
       "        'Coulis de pêche de vigne AB (320 gr)', 'Miel de ronce (250 gr)',\n",
       "        'Confiture de groseille (360 gr)', 'Vin blanc AB Chardonnay',\n",
       "        'Vin rouge AB Merlot', 'Vin rosé AB Rosado',\n",
       "        'Vin rouge AB Graciano'], dtype=object),\n",
       " 64)"
      ]
     },
     "execution_count": 36,
     "metadata": {},
     "output_type": "execute_result"
    }
   ],
   "source": [
    "df_epicerie['nom_produit'].unique(), len(df_epicerie['nom_produit'].unique())"
   ]
  },
  {
   "cell_type": "code",
   "execution_count": 37,
   "metadata": {},
   "outputs": [],
   "source": [
    "def product_epicerie(row):\n",
    "    nom = row.nom_produit\n",
    "    nom = nom.lower()\n",
    "    if 'confiture' in nom or 'gelée' in nom:\n",
    "        return 'confiture'\n",
    "    elif 'savon' in nom:\n",
    "        return 'savon'\n",
    "    elif 'vin' in nom or 'cidre' in nom:\n",
    "        return 'vin ou cidre'\n",
    "    elif 'compote' in nom:\n",
    "        return 'compote'\n",
    "    elif 'coulis' in nom:\n",
    "        return 'coulis'\n",
    "    elif 'nectar' in nom or 'jus' in nom or 'sirop' in nom:\n",
    "        return 'jus ou sirop'\n",
    "    elif 'farine' in nom:\n",
    "        return 'farine'\n",
    "    elif 'bizigai' in nom or 'purée' in nom:\n",
    "        return 'piment'\n",
    "    elif 'soupe' in nom:\n",
    "        return 'soupe'\n",
    "    elif 'crème' in nom or 'pâte à tartiner' in nom:\n",
    "        return 'pâte à tartiner'\n",
    "    elif \"pain d'épices\" in nom:\n",
    "        return \"pain d'épices\"\n",
    "    elif 'miel' in nom:\n",
    "        return 'miel'\n",
    "    elif 'pollen' in nom:\n",
    "        return 'pollen'\n",
    "    elif 'polenta' in nom:\n",
    "        return 'polenta'\n",
    "    elif 'huile' in nom:\n",
    "        return 'huile'\n",
    "    elif 'fusilli' in nom or 'coquillettes' in nom:\n",
    "        return 'pâtes'\n",
    "    else:\n",
    "        return 'erreur'\n",
    "df_epicerie['produit'] = df_epicerie.apply(product_epicerie,axis=1)"
   ]
  },
  {
   "cell_type": "code",
   "execution_count": 38,
   "metadata": {},
   "outputs": [
    {
     "data": {
      "text/plain": [
       "(4241, 0)"
      ]
     },
     "execution_count": 38,
     "metadata": {},
     "output_type": "execute_result"
    }
   ],
   "source": [
    "df_epicerie.shape[0], df_epicerie[df_epicerie.produit == 'erreur'].shape[0]"
   ]
  },
  {
   "cell_type": "code",
   "execution_count": 39,
   "metadata": {},
   "outputs": [
    {
     "data": {
      "text/plain": [
       "16"
      ]
     },
     "execution_count": 39,
     "metadata": {},
     "output_type": "execute_result"
    }
   ],
   "source": [
    "len(df_epicerie.produit.unique())"
   ]
  },
  {
   "cell_type": "code",
   "execution_count": 40,
   "metadata": {},
   "outputs": [
    {
     "data": {
      "text/plain": [
       "array(['CRÈMERIE', 'FROMAGES', 'FRUITS & LÉGUMES', 'ÉPICERIE', 'FRUITS',\n",
       "       'VOLAILLES & OEUFS', 'VIANDES', 'VOLAILLES', 'ÉPICERIE SUCRÉE',\n",
       "       'YAOURT & FROMAGE BLANC', 'VIANDE FRAÎCHE', 'ÉPICERIE SALÉE',\n",
       "       'LÉGUMES', 'BOISSONS', 'NOS PRODUITS', 'FROMAGE DE VACHE',\n",
       "       'PLATS CUISINÉS'], dtype=object)"
      ]
     },
     "execution_count": 40,
     "metadata": {},
     "output_type": "execute_result"
    }
   ],
   "source": [
    "df.categorie.unique()"
   ]
  },
  {
   "cell_type": "markdown",
   "metadata": {},
   "source": [
    "## Catégorie Volailles & oeufs + Volailles + plats cuisinés"
   ]
  },
  {
   "cell_type": "code",
   "execution_count": 41,
   "metadata": {},
   "outputs": [],
   "source": [
    "filtre4 = (df.categorie == 'VOLAILLES & OEUFS') | (df.categorie == 'VOLAILLES')| (df.categorie == 'PLATS CUISINÉS')\n",
    "df_volailles = df[filtre4].copy()\n"
   ]
  },
  {
   "cell_type": "code",
   "execution_count": 42,
   "metadata": {},
   "outputs": [
    {
     "data": {
      "text/plain": [
       "(array(['Petit poulet fermier 1,250 kg (+/- 100 gr) AB.',\n",
       "        'Petite pintade fermière 1,250 kg (+/- 100gr) AB.',\n",
       "        'Poulet fermier moyen 1,6 kg (+/-100 gr) AB.',\n",
       "        'Pintade fermière moyenne 1,5 kg (+/- 100gr) AB.',\n",
       "        'Grosse pintade fermière 1,8 kg (+/- 100gr) AB.',\n",
       "        'Gros poulet fermier 1,8 kg (+/- 100gr) AB.',\n",
       "        'Poule fermière 1,300 kg (+/- 100 gr) AB.',\n",
       "        'Oeufs fermiers AB (x6)', 'Oeufs fermiers AB (x12)',\n",
       "        'Oeufs fermiers AB (x10)', 'Oeufs fermiers AB (x12) T',\n",
       "        'Poulet fermier moyen 1,6 kg (+/-100 gr) AB.M',\n",
       "        'Oeufs fermiers AB (x6) L', 'Oeufs fermiers AB (x12) L',\n",
       "        'Poulet fermier moyen (1,6 - 1,8 kg).X',\n",
       "        'Gros poulet fermier (1,8 - 2,0 kg).X', 'Poule confite'],\n",
       "       dtype=object),\n",
       " 17)"
      ]
     },
     "execution_count": 42,
     "metadata": {},
     "output_type": "execute_result"
    }
   ],
   "source": [
    "df_volailles['nom_produit'].unique(), len(df_volailles['nom_produit'].unique())"
   ]
  },
  {
   "cell_type": "code",
   "execution_count": 43,
   "metadata": {},
   "outputs": [],
   "source": [
    "def product_volailles(row):\n",
    "    nom = row.nom_produit\n",
    "    nom = nom.lower()\n",
    "    if 'poulet' in nom:\n",
    "        return 'poulet'\n",
    "    elif 'pintade' in nom:\n",
    "        return 'pintade'\n",
    "    elif 'poule' in nom:\n",
    "        return 'poule'\n",
    "    elif 'oeufs' in nom:\n",
    "        return 'oeufs'\n",
    "    else:\n",
    "        return 'erreur'\n",
    "df_volailles['produit'] = df_volailles.apply(product_volailles,axis=1)"
   ]
  },
  {
   "cell_type": "code",
   "execution_count": 44,
   "metadata": {},
   "outputs": [
    {
     "data": {
      "text/plain": [
       "(1453, 0)"
      ]
     },
     "execution_count": 44,
     "metadata": {},
     "output_type": "execute_result"
    }
   ],
   "source": [
    "df_volailles.shape[0], df_volailles[df_volailles.produit == 'erreur'].shape[0]"
   ]
  },
  {
   "cell_type": "markdown",
   "metadata": {},
   "source": []
  },
  {
   "cell_type": "markdown",
   "metadata": {},
   "source": [
    "## Catégories viandes et viande fraiche"
   ]
  },
  {
   "cell_type": "code",
   "execution_count": 45,
   "metadata": {},
   "outputs": [],
   "source": [
    "filtre5 = (df.categorie == 'VIANDES') | (df.categorie == 'VIANDE FRAÎCHE')\n",
    "df_viande = df[filtre5].copy()"
   ]
  },
  {
   "cell_type": "code",
   "execution_count": 46,
   "metadata": {},
   "outputs": [
    {
     "data": {
      "text/plain": [
       "(array(['Axoa de veau bio  (750g)', 'Colis de porc Kintoa (4,500kg).',\n",
       "        'Saucisses de Porc Basque x4 (400 gr).',\n",
       "        'Cotes (échine) de Porc Basque x2 (400 gr).',\n",
       "        'Cotes (filet) de Porc Basque x2 (350 gr).',\n",
       "        'Foie de veau AB (300 gr).', 'Tendrons de veau AB (1 kg).',\n",
       "        'Sauté de veau AB (1 kg).', 'Cotes de veau AB (500 gr).',\n",
       "        'Tendrons de veau AB (500 gr).', 'Sauté de veau AB (500 gr).',\n",
       "        'Escalopes de veau AB (500 gr).', 'Cotes de veau AB (1 kg).',\n",
       "        'agneau de lait (entre 6-8kg) BIXARTEA.',\n",
       "        'demi agneau de lait (4-4.5kg) BIXARTEA.',\n",
       "        'Ventrêche de Porc Basque (250 gr).', 'Pate de porc basque (190g)',\n",
       "        'Chichon de porc basque (180g)',\n",
       "        'Colis de 3Kg de steacks hachés bio ( environ 25 steacks).',\n",
       "        'Boudin de porc basque (190 gr)',\n",
       "        '4 steacks hachés bio ( environ  500gr).',\n",
       "        '8 steacks hachés bio ( environ  1 Kg).',\n",
       "        'Canette Kriaxera à rotir (2,9 kg - 3,1 kg).',\n",
       "        'Demi chevreau de lait  (colis de 3,5kg).',\n",
       "        'Saucisson de Porc Basque (205 gr-220 gr)',\n",
       "        'navarrin de chèvre (780g)', 'Veau bio (colis de 3kg).',\n",
       "        'Escalopes de veau AB (1 kg).', 'Poisson frais.',\n",
       "        'Saucisson de chèvre (180-200 gr)', 'Cabri massalé (590g)',\n",
       "        '8 merguez de mouton (500 gr).', 'Sauté de veau bio  (750g)',\n",
       "        'Cabri Xilindron (390 g)', 'Foie de veau AB (500 gr).',\n",
       "        'Filet Mignon de Porc Basque (500 gr).',\n",
       "        'Chipolatas de porc basque (400 gr).',\n",
       "        'Boudins de Porc Basque x3 (300 gr).',\n",
       "        'Coustons de Porc Basque x2 (200 gr).',\n",
       "        'Roti (épaule) de Porc Basque (800 gr).',\n",
       "        'Cotes de chevreau de lait (250 gr).',\n",
       "        'Abats de chevreau de lait (450 gr).',\n",
       "        'Carré de cotes de chevreau de lait (600 gr).',\n",
       "        'Collier de chevreau de lait (500 gr).',\n",
       "        'Gigot de chevreau tranché (250 gr).',\n",
       "        'Gigot de chevreau de lait (900 gr).',\n",
       "        'Epaule de chevreau de lait (600 gr).',\n",
       "        'Saucisson de Porc Basque (230 gr-260 gr)',\n",
       "        'Foie de veau (200 gr) E.', 'Escalopes de veau (200 gr) E.',\n",
       "        'Sauté de veau (500 gr) E.', 'Cotes de veau filet (200 gr) E.',\n",
       "        'Préparation de viande hachée de veau (120 gr) E.',\n",
       "        'Tendrons de veau (225 gr) E.', 'Roti de veau (600 gr) E.',\n",
       "        'Cotes de veau découverte (250 gr) E.',\n",
       "        '6 Merguez de chèvre (350 gr).',\n",
       "        'Chipolatas de porc basque x4 (330 gr) E.',\n",
       "        'Saucisses de Porc Basque x2 (180 gr) E.',\n",
       "        'Boudins de Porc Basque x2 (230 gr) E.',\n",
       "        'Cotes filet de Porc Basque x2 (350 gr) E.',\n",
       "        'Cotes échine de Porc Basque x2 (350 gr) E.',\n",
       "        'Roti (épaule) de Porc Basque (600-800 gr) E.',\n",
       "        'Darnes de thon blanc.', 'Thon blanc entier (6 kg).',\n",
       "        'Rillettes de canard (170 gr)',\n",
       "        'Magret de canard frais sous vide (400 gr).',\n",
       "        'Bloc de foie gras de canard (140 gr)',\n",
       "        'Cuisse de canard confite sous vide.',\n",
       "        'Foie gras de canard mi-cuit (200 gr).',\n",
       "        'Manchons de canard sous vide (x2).',\n",
       "        'Foie gras frais de canard (640 gr).',\n",
       "        'Bocal de foie gras de canard (180 gr)',\n",
       "        'Bocal de 4 gésiers de canard confits',\n",
       "        'Foie gras frais de canard (580 gr).',\n",
       "        'Lardons de Porc Basque (200 gr).', 'Pigeonneau (380-400 gr).',\n",
       "        'Roti de boeuf (1 kg) E.', 'Steack de boeuf (220 gr) E.',\n",
       "        'Préparation de viande hachée de boeuf (240 gr) E.',\n",
       "        'Bourguignon de boeuf (1 kg) E.',\n",
       "        'Saucisson de Porc Basque (290 gr-320 gr)',\n",
       "        'Saucisson de porc bio (240 gr-260 gr)'], dtype=object),\n",
       " 83)"
      ]
     },
     "execution_count": 46,
     "metadata": {},
     "output_type": "execute_result"
    }
   ],
   "source": [
    "df_viande['nom_produit'].unique(), len(df_viande['nom_produit'].unique())"
   ]
  },
  {
   "cell_type": "code",
   "execution_count": 47,
   "metadata": {},
   "outputs": [],
   "source": [
    "def product_viande(row):\n",
    "    nom = row.nom_produit\n",
    "    nom = nom.lower()\n",
    "    if 'veau' in nom:\n",
    "        return 'viande de veau'\n",
    "    elif 'porc' in nom:\n",
    "        return 'viande de porc'\n",
    "    elif 'chèvre' in nom or 'chevreau':\n",
    "        return 'viande de chèvre ou chevreau'\n",
    "    elif 'canard' in nom:\n",
    "        return 'viande de canard'\n",
    "    elif 'boeuf' in nom or 'steacks hachés' in nom:\n",
    "        return 'viande de boeuf'\n",
    "    elif 'agneau' in nom:\n",
    "        return \"viande d'agneau\"\n",
    "    elif 'thon' in nom or 'poisson' in nom:\n",
    "        return 'poisson'\n",
    "    elif 'pigeonneau' in nom:\n",
    "        return 'pigeonneau'\n",
    "    else:\n",
    "        return 'erreur'\n",
    "df_viande['produit'] = df_viande.apply(product_viande,axis=1)"
   ]
  },
  {
   "cell_type": "code",
   "execution_count": 48,
   "metadata": {},
   "outputs": [
    {
     "data": {
      "text/plain": [
       "(2699, 0)"
      ]
     },
     "execution_count": 48,
     "metadata": {},
     "output_type": "execute_result"
    }
   ],
   "source": [
    "df_viande.shape[0], df_viande[df_viande.produit == 'erreur'].shape[0]"
   ]
  },
  {
   "cell_type": "markdown",
   "metadata": {},
   "source": [
    "## Catégorie boissons"
   ]
  },
  {
   "cell_type": "code",
   "execution_count": 49,
   "metadata": {},
   "outputs": [],
   "source": [
    "filtre6 = df.categorie == 'BOISSONS'\n",
    "df_boissons = df[filtre6].copy()"
   ]
  },
  {
   "cell_type": "code",
   "execution_count": 50,
   "metadata": {},
   "outputs": [
    {
     "data": {
      "text/plain": [
       "array(['Tisane Detox (25 gr)', 'Tisane Air Pur (25 gr)',\n",
       "       'Tisane Souplesse (25 gr)', 'Tisane Aube (25 gr)',\n",
       "       'Tisane la Zen (25 gr)', 'Tisane coquelicots (25 gr)',\n",
       "       'Tisane nuit étoilée (25 gr)', 'Tisane la gloutonne (25g)'],\n",
       "      dtype=object)"
      ]
     },
     "execution_count": 50,
     "metadata": {},
     "output_type": "execute_result"
    }
   ],
   "source": [
    "df_boissons.nom_produit.unique()"
   ]
  },
  {
   "cell_type": "code",
   "execution_count": 51,
   "metadata": {},
   "outputs": [],
   "source": [
    "def product_boissons(row):\n",
    "    return 'tisane'\n",
    "df_boissons['produit'] = df_boissons.apply(product_boissons,axis=1)"
   ]
  },
  {
   "cell_type": "code",
   "execution_count": 52,
   "metadata": {},
   "outputs": [
    {
     "data": {
      "text/plain": [
       "(138, 0)"
      ]
     },
     "execution_count": 52,
     "metadata": {},
     "output_type": "execute_result"
    }
   ],
   "source": [
    "df_boissons.shape[0], df_boissons[df_boissons.produit == 'erreur'].shape[0]"
   ]
  },
  {
   "cell_type": "code",
   "execution_count": null,
   "metadata": {},
   "outputs": [],
   "source": []
  },
  {
   "cell_type": "markdown",
   "metadata": {},
   "source": [
    "## On peut remplir la colonne \"produit\" de notre df\n",
    "On appelle chaque fonction selon la categorie du produit"
   ]
  },
  {
   "cell_type": "code",
   "execution_count": 53,
   "metadata": {
    "tags": [
     "outputPrepend",
     "outputPrepend",
     "outputPrepend",
     "outputPrepend",
     "outputPrepend",
     "outputPrepend",
     "outputPrepend",
     "outputPrepend",
     "outputPrepend",
     "outputPrepend",
     "outputPrepend",
     "outputPrepend",
     "outputPrepend",
     "outputPrepend",
     "outputPrepend",
     "outputPrepend",
     "outputPrepend",
     "outputPrepend",
     "outputPrepend",
     "outputPrepend",
     "outputPrepend",
     "outputPrepend",
     "outputPrepend"
    ]
   },
   "outputs": [],
   "source": [
    "def fill_product(row):\n",
    "    if ((row.categorie == 'CRÈMERIE') | (row.categorie == 'YAOURT & FROMAGE BLANC')):\n",
    "        return product_cremerie_yaourt(row)\n",
    "    elif ((row.categorie == 'FROMAGES') | (row.categorie == 'FROMAGE DE VACHE')):\n",
    "        return product_fromage(row)\n",
    "    elif ((row.categorie == 'FRUITS & LÉGUMES') | (row.categorie == 'FRUITS')| (row.categorie == 'NOS PRODUITS')| (row.categorie == 'LÉGUMES')):\n",
    "        return product_fruits_legumes(row)\n",
    "    elif ((row.categorie == 'ÉPICERIE') | (row.categorie == 'ÉPICERIE SUCRÉE')| (row.categorie == 'ÉPICERIE SALÉE')):\n",
    "        return product_epicerie(row)\n",
    "    elif ((row.categorie == 'VOLAILLES & OEUFS') | (row.categorie == 'VOLAILLES')| (row.categorie == 'PLATS CUISINÉS')):\n",
    "        return product_volailles(row)\n",
    "    elif ((row.categorie == 'VIANDES') | (row.categorie == 'VIANDE FRAÎCHE')):\n",
    "        return product_viande(row)\n",
    "    elif (row.categorie == 'BOISSONS'):\n",
    "        return 'tisane'\n",
    "df['produit'] = df.apply(fill_product, axis=1)"
   ]
  },
  {
   "cell_type": "code",
   "execution_count": 54,
   "metadata": {},
   "outputs": [
    {
     "data": {
      "text/plain": [
       "(0, 0)"
      ]
     },
     "execution_count": 54,
     "metadata": {},
     "output_type": "execute_result"
    }
   ],
   "source": [
    "# On vérifie s'il y a des NA ou 'erreur' dans la nouvelle colonne\n",
    "len(df[df.produit == 'erreur']), len(df[pd.isna(df.produit)])"
   ]
  },
  {
   "cell_type": "code",
   "execution_count": 55,
   "metadata": {},
   "outputs": [
    {
     "data": {
      "text/plain": [
       "72"
      ]
     },
     "execution_count": 55,
     "metadata": {},
     "output_type": "execute_result"
    }
   ],
   "source": [
    "len(df.produit.unique())"
   ]
  },
  {
   "cell_type": "markdown",
   "metadata": {},
   "source": [
    "Nous avons réduit le nombre de produits à 72, il était de 311 initialement."
   ]
  },
  {
   "cell_type": "code",
   "execution_count": 56,
   "metadata": {},
   "outputs": [
    {
     "data": {
      "text/html": [
       "<div>\n",
       "<style scoped>\n",
       "    .dataframe tbody tr th:only-of-type {\n",
       "        vertical-align: middle;\n",
       "    }\n",
       "\n",
       "    .dataframe tbody tr th {\n",
       "        vertical-align: top;\n",
       "    }\n",
       "\n",
       "    .dataframe thead th {\n",
       "        text-align: right;\n",
       "    }\n",
       "</style>\n",
       "<table border=\"1\" class=\"dataframe\">\n",
       "  <thead>\n",
       "    <tr style=\"text-align: right;\">\n",
       "      <th></th>\n",
       "      <th>commande</th>\n",
       "      <th>producteur</th>\n",
       "      <th>categorie</th>\n",
       "      <th>nom_produit</th>\n",
       "      <th>code_postal</th>\n",
       "      <th>commune</th>\n",
       "      <th>produit</th>\n",
       "    </tr>\n",
       "  </thead>\n",
       "  <tbody>\n",
       "    <tr>\n",
       "      <th>0</th>\n",
       "      <td>1743</td>\n",
       "      <td>FERME BIXARTEA</td>\n",
       "      <td>CRÈMERIE</td>\n",
       "      <td>breuil (375g).</td>\n",
       "      <td>64250</td>\n",
       "      <td>SAINT PALAIS</td>\n",
       "      <td>breuil</td>\n",
       "    </tr>\n",
       "    <tr>\n",
       "      <th>1</th>\n",
       "      <td>1743</td>\n",
       "      <td>FERME BIXARTEA</td>\n",
       "      <td>FROMAGES</td>\n",
       "      <td>fromage de brebis fermier (650g environ) +6 mo...</td>\n",
       "      <td>64250</td>\n",
       "      <td>SAINT PALAIS</td>\n",
       "      <td>fromage de brebis fermier</td>\n",
       "    </tr>\n",
       "    <tr>\n",
       "      <th>2</th>\n",
       "      <td>1743</td>\n",
       "      <td>FERME AROZTEGIA</td>\n",
       "      <td>FRUITS &amp; LÉGUMES</td>\n",
       "      <td>radis noir (la botte)</td>\n",
       "      <td>64250</td>\n",
       "      <td>SAINT PALAIS</td>\n",
       "      <td>radis</td>\n",
       "    </tr>\n",
       "    <tr>\n",
       "      <th>3</th>\n",
       "      <td>1743</td>\n",
       "      <td>FERME ESNEKIAK</td>\n",
       "      <td>CRÈMERIE</td>\n",
       "      <td>Yaourt nature bio au lait entier (4 x125 gr).</td>\n",
       "      <td>64250</td>\n",
       "      <td>SAINT PALAIS</td>\n",
       "      <td>yaourt</td>\n",
       "    </tr>\n",
       "    <tr>\n",
       "      <th>4</th>\n",
       "      <td>1743</td>\n",
       "      <td>FERME BELAZKABIETA</td>\n",
       "      <td>ÉPICERIE</td>\n",
       "      <td>BIZIGAI Piment d'Espelette AOP (50 gr)</td>\n",
       "      <td>64250</td>\n",
       "      <td>SAINT PALAIS</td>\n",
       "      <td>piment</td>\n",
       "    </tr>\n",
       "  </tbody>\n",
       "</table>\n",
       "</div>"
      ],
      "text/plain": [
       "   commande          producteur         categorie  \\\n",
       "0      1743      FERME BIXARTEA          CRÈMERIE   \n",
       "1      1743      FERME BIXARTEA          FROMAGES   \n",
       "2      1743     FERME AROZTEGIA  FRUITS & LÉGUMES   \n",
       "3      1743      FERME ESNEKIAK          CRÈMERIE   \n",
       "4      1743  FERME BELAZKABIETA          ÉPICERIE   \n",
       "\n",
       "                                         nom_produit  code_postal  \\\n",
       "0                                     breuil (375g).        64250   \n",
       "1  fromage de brebis fermier (650g environ) +6 mo...        64250   \n",
       "2                              radis noir (la botte)        64250   \n",
       "3      Yaourt nature bio au lait entier (4 x125 gr).        64250   \n",
       "4             BIZIGAI Piment d'Espelette AOP (50 gr)        64250   \n",
       "\n",
       "        commune                    produit  \n",
       "0  SAINT PALAIS                     breuil  \n",
       "1  SAINT PALAIS  fromage de brebis fermier  \n",
       "2  SAINT PALAIS                      radis  \n",
       "3  SAINT PALAIS                     yaourt  \n",
       "4  SAINT PALAIS                     piment  "
      ]
     },
     "execution_count": 56,
     "metadata": {},
     "output_type": "execute_result"
    }
   ],
   "source": [
    "df.head()"
   ]
  },
  {
   "cell_type": "code",
   "execution_count": 57,
   "metadata": {},
   "outputs": [],
   "source": [
    "df_to_transform = df[['commande','produit']]"
   ]
  },
  {
   "cell_type": "code",
   "execution_count": 58,
   "metadata": {},
   "outputs": [
    {
     "data": {
      "text/html": [
       "<div>\n",
       "<style scoped>\n",
       "    .dataframe tbody tr th:only-of-type {\n",
       "        vertical-align: middle;\n",
       "    }\n",
       "\n",
       "    .dataframe tbody tr th {\n",
       "        vertical-align: top;\n",
       "    }\n",
       "\n",
       "    .dataframe thead th {\n",
       "        text-align: right;\n",
       "    }\n",
       "</style>\n",
       "<table border=\"1\" class=\"dataframe\">\n",
       "  <thead>\n",
       "    <tr style=\"text-align: right;\">\n",
       "      <th></th>\n",
       "      <th>commande</th>\n",
       "      <th>produit</th>\n",
       "    </tr>\n",
       "  </thead>\n",
       "  <tbody>\n",
       "    <tr>\n",
       "      <th>0</th>\n",
       "      <td>1743</td>\n",
       "      <td>breuil</td>\n",
       "    </tr>\n",
       "    <tr>\n",
       "      <th>1</th>\n",
       "      <td>1743</td>\n",
       "      <td>fromage de brebis fermier</td>\n",
       "    </tr>\n",
       "    <tr>\n",
       "      <th>2</th>\n",
       "      <td>1743</td>\n",
       "      <td>radis</td>\n",
       "    </tr>\n",
       "    <tr>\n",
       "      <th>3</th>\n",
       "      <td>1743</td>\n",
       "      <td>yaourt</td>\n",
       "    </tr>\n",
       "    <tr>\n",
       "      <th>4</th>\n",
       "      <td>1743</td>\n",
       "      <td>piment</td>\n",
       "    </tr>\n",
       "    <tr>\n",
       "      <th>...</th>\n",
       "      <td>...</td>\n",
       "      <td>...</td>\n",
       "    </tr>\n",
       "    <tr>\n",
       "      <th>37785</th>\n",
       "      <td>7205</td>\n",
       "      <td>vin ou cidre</td>\n",
       "    </tr>\n",
       "    <tr>\n",
       "      <th>37786</th>\n",
       "      <td>7205</td>\n",
       "      <td>jus ou sirop</td>\n",
       "    </tr>\n",
       "    <tr>\n",
       "      <th>37787</th>\n",
       "      <td>7205</td>\n",
       "      <td>yaourt</td>\n",
       "    </tr>\n",
       "    <tr>\n",
       "      <th>37788</th>\n",
       "      <td>7205</td>\n",
       "      <td>lait</td>\n",
       "    </tr>\n",
       "    <tr>\n",
       "      <th>37789</th>\n",
       "      <td>7205</td>\n",
       "      <td>confiture</td>\n",
       "    </tr>\n",
       "  </tbody>\n",
       "</table>\n",
       "<p>37790 rows × 2 columns</p>\n",
       "</div>"
      ],
      "text/plain": [
       "       commande                    produit\n",
       "0          1743                     breuil\n",
       "1          1743  fromage de brebis fermier\n",
       "2          1743                      radis\n",
       "3          1743                     yaourt\n",
       "4          1743                     piment\n",
       "...         ...                        ...\n",
       "37785      7205               vin ou cidre\n",
       "37786      7205               jus ou sirop\n",
       "37787      7205                     yaourt\n",
       "37788      7205                       lait\n",
       "37789      7205                  confiture\n",
       "\n",
       "[37790 rows x 2 columns]"
      ]
     },
     "execution_count": 58,
     "metadata": {},
     "output_type": "execute_result"
    }
   ],
   "source": [
    "df_to_transform"
   ]
  },
  {
   "cell_type": "code",
   "execution_count": 59,
   "metadata": {},
   "outputs": [],
   "source": [
    "df_final = pd.pivot_table(df_to_transform, index = 'commande', values ='produit', columns='produit', aggfunc='size',fill_value=0)"
   ]
  },
  {
   "cell_type": "code",
   "execution_count": 60,
   "metadata": {},
   "outputs": [
    {
     "data": {
      "text/html": [
       "<div>\n",
       "<style scoped>\n",
       "    .dataframe tbody tr th:only-of-type {\n",
       "        vertical-align: middle;\n",
       "    }\n",
       "\n",
       "    .dataframe tbody tr th {\n",
       "        vertical-align: top;\n",
       "    }\n",
       "\n",
       "    .dataframe thead th {\n",
       "        text-align: right;\n",
       "    }\n",
       "</style>\n",
       "<table border=\"1\" class=\"dataframe\">\n",
       "  <thead>\n",
       "    <tr style=\"text-align: right;\">\n",
       "      <th>produit</th>\n",
       "      <th>agrumes</th>\n",
       "      <th>ail</th>\n",
       "      <th>assortiment</th>\n",
       "      <th>aubergine</th>\n",
       "      <th>autre</th>\n",
       "      <th>betterave</th>\n",
       "      <th>beurre</th>\n",
       "      <th>blette</th>\n",
       "      <th>breuil</th>\n",
       "      <th>carotte</th>\n",
       "      <th>...</th>\n",
       "      <th>savon</th>\n",
       "      <th>soupe</th>\n",
       "      <th>tisane</th>\n",
       "      <th>tomate</th>\n",
       "      <th>tomme de vache fraîche</th>\n",
       "      <th>viande de chèvre ou chevreau</th>\n",
       "      <th>viande de porc</th>\n",
       "      <th>viande de veau</th>\n",
       "      <th>vin ou cidre</th>\n",
       "      <th>yaourt</th>\n",
       "    </tr>\n",
       "    <tr>\n",
       "      <th>commande</th>\n",
       "      <th></th>\n",
       "      <th></th>\n",
       "      <th></th>\n",
       "      <th></th>\n",
       "      <th></th>\n",
       "      <th></th>\n",
       "      <th></th>\n",
       "      <th></th>\n",
       "      <th></th>\n",
       "      <th></th>\n",
       "      <th></th>\n",
       "      <th></th>\n",
       "      <th></th>\n",
       "      <th></th>\n",
       "      <th></th>\n",
       "      <th></th>\n",
       "      <th></th>\n",
       "      <th></th>\n",
       "      <th></th>\n",
       "      <th></th>\n",
       "      <th></th>\n",
       "    </tr>\n",
       "  </thead>\n",
       "  <tbody>\n",
       "    <tr>\n",
       "      <th>1743</th>\n",
       "      <td>0</td>\n",
       "      <td>0</td>\n",
       "      <td>0</td>\n",
       "      <td>0</td>\n",
       "      <td>0</td>\n",
       "      <td>1</td>\n",
       "      <td>0</td>\n",
       "      <td>0</td>\n",
       "      <td>1</td>\n",
       "      <td>0</td>\n",
       "      <td>...</td>\n",
       "      <td>0</td>\n",
       "      <td>0</td>\n",
       "      <td>0</td>\n",
       "      <td>0</td>\n",
       "      <td>0</td>\n",
       "      <td>0</td>\n",
       "      <td>0</td>\n",
       "      <td>0</td>\n",
       "      <td>0</td>\n",
       "      <td>1</td>\n",
       "    </tr>\n",
       "    <tr>\n",
       "      <th>1750</th>\n",
       "      <td>0</td>\n",
       "      <td>0</td>\n",
       "      <td>0</td>\n",
       "      <td>0</td>\n",
       "      <td>0</td>\n",
       "      <td>1</td>\n",
       "      <td>0</td>\n",
       "      <td>0</td>\n",
       "      <td>1</td>\n",
       "      <td>0</td>\n",
       "      <td>...</td>\n",
       "      <td>0</td>\n",
       "      <td>0</td>\n",
       "      <td>0</td>\n",
       "      <td>0</td>\n",
       "      <td>0</td>\n",
       "      <td>0</td>\n",
       "      <td>0</td>\n",
       "      <td>0</td>\n",
       "      <td>0</td>\n",
       "      <td>1</td>\n",
       "    </tr>\n",
       "    <tr>\n",
       "      <th>1751</th>\n",
       "      <td>0</td>\n",
       "      <td>0</td>\n",
       "      <td>0</td>\n",
       "      <td>0</td>\n",
       "      <td>0</td>\n",
       "      <td>0</td>\n",
       "      <td>0</td>\n",
       "      <td>0</td>\n",
       "      <td>0</td>\n",
       "      <td>0</td>\n",
       "      <td>...</td>\n",
       "      <td>0</td>\n",
       "      <td>0</td>\n",
       "      <td>0</td>\n",
       "      <td>0</td>\n",
       "      <td>0</td>\n",
       "      <td>0</td>\n",
       "      <td>0</td>\n",
       "      <td>0</td>\n",
       "      <td>0</td>\n",
       "      <td>0</td>\n",
       "    </tr>\n",
       "    <tr>\n",
       "      <th>1752</th>\n",
       "      <td>0</td>\n",
       "      <td>0</td>\n",
       "      <td>0</td>\n",
       "      <td>0</td>\n",
       "      <td>0</td>\n",
       "      <td>0</td>\n",
       "      <td>1</td>\n",
       "      <td>0</td>\n",
       "      <td>0</td>\n",
       "      <td>0</td>\n",
       "      <td>...</td>\n",
       "      <td>0</td>\n",
       "      <td>0</td>\n",
       "      <td>0</td>\n",
       "      <td>0</td>\n",
       "      <td>0</td>\n",
       "      <td>0</td>\n",
       "      <td>0</td>\n",
       "      <td>0</td>\n",
       "      <td>0</td>\n",
       "      <td>2</td>\n",
       "    </tr>\n",
       "    <tr>\n",
       "      <th>1753</th>\n",
       "      <td>0</td>\n",
       "      <td>0</td>\n",
       "      <td>0</td>\n",
       "      <td>0</td>\n",
       "      <td>0</td>\n",
       "      <td>0</td>\n",
       "      <td>0</td>\n",
       "      <td>0</td>\n",
       "      <td>0</td>\n",
       "      <td>0</td>\n",
       "      <td>...</td>\n",
       "      <td>0</td>\n",
       "      <td>0</td>\n",
       "      <td>0</td>\n",
       "      <td>0</td>\n",
       "      <td>0</td>\n",
       "      <td>0</td>\n",
       "      <td>0</td>\n",
       "      <td>0</td>\n",
       "      <td>0</td>\n",
       "      <td>1</td>\n",
       "    </tr>\n",
       "    <tr>\n",
       "      <th>...</th>\n",
       "      <td>...</td>\n",
       "      <td>...</td>\n",
       "      <td>...</td>\n",
       "      <td>...</td>\n",
       "      <td>...</td>\n",
       "      <td>...</td>\n",
       "      <td>...</td>\n",
       "      <td>...</td>\n",
       "      <td>...</td>\n",
       "      <td>...</td>\n",
       "      <td>...</td>\n",
       "      <td>...</td>\n",
       "      <td>...</td>\n",
       "      <td>...</td>\n",
       "      <td>...</td>\n",
       "      <td>...</td>\n",
       "      <td>...</td>\n",
       "      <td>...</td>\n",
       "      <td>...</td>\n",
       "      <td>...</td>\n",
       "      <td>...</td>\n",
       "    </tr>\n",
       "    <tr>\n",
       "      <th>7201</th>\n",
       "      <td>0</td>\n",
       "      <td>0</td>\n",
       "      <td>0</td>\n",
       "      <td>0</td>\n",
       "      <td>0</td>\n",
       "      <td>0</td>\n",
       "      <td>0</td>\n",
       "      <td>0</td>\n",
       "      <td>0</td>\n",
       "      <td>0</td>\n",
       "      <td>...</td>\n",
       "      <td>0</td>\n",
       "      <td>0</td>\n",
       "      <td>0</td>\n",
       "      <td>0</td>\n",
       "      <td>0</td>\n",
       "      <td>0</td>\n",
       "      <td>0</td>\n",
       "      <td>0</td>\n",
       "      <td>0</td>\n",
       "      <td>4</td>\n",
       "    </tr>\n",
       "    <tr>\n",
       "      <th>7202</th>\n",
       "      <td>0</td>\n",
       "      <td>0</td>\n",
       "      <td>0</td>\n",
       "      <td>0</td>\n",
       "      <td>0</td>\n",
       "      <td>0</td>\n",
       "      <td>0</td>\n",
       "      <td>0</td>\n",
       "      <td>0</td>\n",
       "      <td>0</td>\n",
       "      <td>...</td>\n",
       "      <td>0</td>\n",
       "      <td>0</td>\n",
       "      <td>0</td>\n",
       "      <td>0</td>\n",
       "      <td>0</td>\n",
       "      <td>0</td>\n",
       "      <td>0</td>\n",
       "      <td>0</td>\n",
       "      <td>0</td>\n",
       "      <td>0</td>\n",
       "    </tr>\n",
       "    <tr>\n",
       "      <th>7203</th>\n",
       "      <td>0</td>\n",
       "      <td>0</td>\n",
       "      <td>0</td>\n",
       "      <td>0</td>\n",
       "      <td>0</td>\n",
       "      <td>0</td>\n",
       "      <td>0</td>\n",
       "      <td>0</td>\n",
       "      <td>0</td>\n",
       "      <td>0</td>\n",
       "      <td>...</td>\n",
       "      <td>0</td>\n",
       "      <td>0</td>\n",
       "      <td>0</td>\n",
       "      <td>0</td>\n",
       "      <td>0</td>\n",
       "      <td>0</td>\n",
       "      <td>1</td>\n",
       "      <td>0</td>\n",
       "      <td>0</td>\n",
       "      <td>0</td>\n",
       "    </tr>\n",
       "    <tr>\n",
       "      <th>7204</th>\n",
       "      <td>0</td>\n",
       "      <td>0</td>\n",
       "      <td>0</td>\n",
       "      <td>0</td>\n",
       "      <td>0</td>\n",
       "      <td>0</td>\n",
       "      <td>0</td>\n",
       "      <td>0</td>\n",
       "      <td>0</td>\n",
       "      <td>0</td>\n",
       "      <td>...</td>\n",
       "      <td>0</td>\n",
       "      <td>0</td>\n",
       "      <td>0</td>\n",
       "      <td>0</td>\n",
       "      <td>0</td>\n",
       "      <td>0</td>\n",
       "      <td>2</td>\n",
       "      <td>0</td>\n",
       "      <td>0</td>\n",
       "      <td>2</td>\n",
       "    </tr>\n",
       "    <tr>\n",
       "      <th>7205</th>\n",
       "      <td>0</td>\n",
       "      <td>0</td>\n",
       "      <td>0</td>\n",
       "      <td>0</td>\n",
       "      <td>0</td>\n",
       "      <td>0</td>\n",
       "      <td>0</td>\n",
       "      <td>0</td>\n",
       "      <td>0</td>\n",
       "      <td>0</td>\n",
       "      <td>...</td>\n",
       "      <td>0</td>\n",
       "      <td>0</td>\n",
       "      <td>0</td>\n",
       "      <td>0</td>\n",
       "      <td>0</td>\n",
       "      <td>0</td>\n",
       "      <td>0</td>\n",
       "      <td>0</td>\n",
       "      <td>1</td>\n",
       "      <td>4</td>\n",
       "    </tr>\n",
       "  </tbody>\n",
       "</table>\n",
       "<p>5270 rows × 72 columns</p>\n",
       "</div>"
      ],
      "text/plain": [
       "produit   agrumes  ail  assortiment  aubergine  autre  betterave  beurre  \\\n",
       "commande                                                                   \n",
       "1743            0    0            0          0      0          1       0   \n",
       "1750            0    0            0          0      0          1       0   \n",
       "1751            0    0            0          0      0          0       0   \n",
       "1752            0    0            0          0      0          0       1   \n",
       "1753            0    0            0          0      0          0       0   \n",
       "...           ...  ...          ...        ...    ...        ...     ...   \n",
       "7201            0    0            0          0      0          0       0   \n",
       "7202            0    0            0          0      0          0       0   \n",
       "7203            0    0            0          0      0          0       0   \n",
       "7204            0    0            0          0      0          0       0   \n",
       "7205            0    0            0          0      0          0       0   \n",
       "\n",
       "produit   blette  breuil  carotte  ...  savon  soupe  tisane  tomate  \\\n",
       "commande                           ...                                 \n",
       "1743           0       1        0  ...      0      0       0       0   \n",
       "1750           0       1        0  ...      0      0       0       0   \n",
       "1751           0       0        0  ...      0      0       0       0   \n",
       "1752           0       0        0  ...      0      0       0       0   \n",
       "1753           0       0        0  ...      0      0       0       0   \n",
       "...          ...     ...      ...  ...    ...    ...     ...     ...   \n",
       "7201           0       0        0  ...      0      0       0       0   \n",
       "7202           0       0        0  ...      0      0       0       0   \n",
       "7203           0       0        0  ...      0      0       0       0   \n",
       "7204           0       0        0  ...      0      0       0       0   \n",
       "7205           0       0        0  ...      0      0       0       0   \n",
       "\n",
       "produit   tomme de vache fraîche  viande de chèvre ou chevreau  \\\n",
       "commande                                                         \n",
       "1743                           0                             0   \n",
       "1750                           0                             0   \n",
       "1751                           0                             0   \n",
       "1752                           0                             0   \n",
       "1753                           0                             0   \n",
       "...                          ...                           ...   \n",
       "7201                           0                             0   \n",
       "7202                           0                             0   \n",
       "7203                           0                             0   \n",
       "7204                           0                             0   \n",
       "7205                           0                             0   \n",
       "\n",
       "produit   viande de porc  viande de veau  vin ou cidre  yaourt  \n",
       "commande                                                        \n",
       "1743                   0               0             0       1  \n",
       "1750                   0               0             0       1  \n",
       "1751                   0               0             0       0  \n",
       "1752                   0               0             0       2  \n",
       "1753                   0               0             0       1  \n",
       "...                  ...             ...           ...     ...  \n",
       "7201                   0               0             0       4  \n",
       "7202                   0               0             0       0  \n",
       "7203                   1               0             0       0  \n",
       "7204                   2               0             0       2  \n",
       "7205                   0               0             1       4  \n",
       "\n",
       "[5270 rows x 72 columns]"
      ]
     },
     "execution_count": 60,
     "metadata": {},
     "output_type": "execute_result"
    }
   ],
   "source": [
    "df_final"
   ]
  },
  {
   "cell_type": "code",
   "execution_count": 61,
   "metadata": {},
   "outputs": [
    {
     "ename": "KeyError",
     "evalue": "\"['commande'] not found in axis\"",
     "output_type": "error",
     "traceback": [
      "\u001b[0;31m---------------------------------------------------------------------------\u001b[0m",
      "\u001b[0;31mKeyError\u001b[0m                                  Traceback (most recent call last)",
      "\u001b[0;32m<ipython-input-61-da6868bb8ef5>\u001b[0m in \u001b[0;36m<module>\u001b[0;34m\u001b[0m\n\u001b[0;32m----> 1\u001b[0;31m \u001b[0mdf\u001b[0m \u001b[0;34m=\u001b[0m \u001b[0mdf_final\u001b[0m\u001b[0;34m.\u001b[0m\u001b[0mdrop\u001b[0m\u001b[0;34m(\u001b[0m\u001b[0;34m'commande'\u001b[0m\u001b[0;34m)\u001b[0m\u001b[0;34m\u001b[0m\u001b[0;34m\u001b[0m\u001b[0m\n\u001b[0m",
      "\u001b[0;32m/opt/anaconda3/lib/python3.7/site-packages/pandas/core/frame.py\u001b[0m in \u001b[0;36mdrop\u001b[0;34m(self, labels, axis, index, columns, level, inplace, errors)\u001b[0m\n\u001b[1;32m   3995\u001b[0m             \u001b[0mlevel\u001b[0m\u001b[0;34m=\u001b[0m\u001b[0mlevel\u001b[0m\u001b[0;34m,\u001b[0m\u001b[0;34m\u001b[0m\u001b[0;34m\u001b[0m\u001b[0m\n\u001b[1;32m   3996\u001b[0m             \u001b[0minplace\u001b[0m\u001b[0;34m=\u001b[0m\u001b[0minplace\u001b[0m\u001b[0;34m,\u001b[0m\u001b[0;34m\u001b[0m\u001b[0;34m\u001b[0m\u001b[0m\n\u001b[0;32m-> 3997\u001b[0;31m             \u001b[0merrors\u001b[0m\u001b[0;34m=\u001b[0m\u001b[0merrors\u001b[0m\u001b[0;34m,\u001b[0m\u001b[0;34m\u001b[0m\u001b[0;34m\u001b[0m\u001b[0m\n\u001b[0m\u001b[1;32m   3998\u001b[0m         )\n\u001b[1;32m   3999\u001b[0m \u001b[0;34m\u001b[0m\u001b[0m\n",
      "\u001b[0;32m/opt/anaconda3/lib/python3.7/site-packages/pandas/core/generic.py\u001b[0m in \u001b[0;36mdrop\u001b[0;34m(self, labels, axis, index, columns, level, inplace, errors)\u001b[0m\n\u001b[1;32m   3934\u001b[0m         \u001b[0;32mfor\u001b[0m \u001b[0maxis\u001b[0m\u001b[0;34m,\u001b[0m \u001b[0mlabels\u001b[0m \u001b[0;32min\u001b[0m \u001b[0maxes\u001b[0m\u001b[0;34m.\u001b[0m\u001b[0mitems\u001b[0m\u001b[0;34m(\u001b[0m\u001b[0;34m)\u001b[0m\u001b[0;34m:\u001b[0m\u001b[0;34m\u001b[0m\u001b[0;34m\u001b[0m\u001b[0m\n\u001b[1;32m   3935\u001b[0m             \u001b[0;32mif\u001b[0m \u001b[0mlabels\u001b[0m \u001b[0;32mis\u001b[0m \u001b[0;32mnot\u001b[0m \u001b[0;32mNone\u001b[0m\u001b[0;34m:\u001b[0m\u001b[0;34m\u001b[0m\u001b[0;34m\u001b[0m\u001b[0m\n\u001b[0;32m-> 3936\u001b[0;31m                 \u001b[0mobj\u001b[0m \u001b[0;34m=\u001b[0m \u001b[0mobj\u001b[0m\u001b[0;34m.\u001b[0m\u001b[0m_drop_axis\u001b[0m\u001b[0;34m(\u001b[0m\u001b[0mlabels\u001b[0m\u001b[0;34m,\u001b[0m \u001b[0maxis\u001b[0m\u001b[0;34m,\u001b[0m \u001b[0mlevel\u001b[0m\u001b[0;34m=\u001b[0m\u001b[0mlevel\u001b[0m\u001b[0;34m,\u001b[0m \u001b[0merrors\u001b[0m\u001b[0;34m=\u001b[0m\u001b[0merrors\u001b[0m\u001b[0;34m)\u001b[0m\u001b[0;34m\u001b[0m\u001b[0;34m\u001b[0m\u001b[0m\n\u001b[0m\u001b[1;32m   3937\u001b[0m \u001b[0;34m\u001b[0m\u001b[0m\n\u001b[1;32m   3938\u001b[0m         \u001b[0;32mif\u001b[0m \u001b[0minplace\u001b[0m\u001b[0;34m:\u001b[0m\u001b[0;34m\u001b[0m\u001b[0;34m\u001b[0m\u001b[0m\n",
      "\u001b[0;32m/opt/anaconda3/lib/python3.7/site-packages/pandas/core/generic.py\u001b[0m in \u001b[0;36m_drop_axis\u001b[0;34m(self, labels, axis, level, errors)\u001b[0m\n\u001b[1;32m   3968\u001b[0m                 \u001b[0mnew_axis\u001b[0m \u001b[0;34m=\u001b[0m \u001b[0maxis\u001b[0m\u001b[0;34m.\u001b[0m\u001b[0mdrop\u001b[0m\u001b[0;34m(\u001b[0m\u001b[0mlabels\u001b[0m\u001b[0;34m,\u001b[0m \u001b[0mlevel\u001b[0m\u001b[0;34m=\u001b[0m\u001b[0mlevel\u001b[0m\u001b[0;34m,\u001b[0m \u001b[0merrors\u001b[0m\u001b[0;34m=\u001b[0m\u001b[0merrors\u001b[0m\u001b[0;34m)\u001b[0m\u001b[0;34m\u001b[0m\u001b[0;34m\u001b[0m\u001b[0m\n\u001b[1;32m   3969\u001b[0m             \u001b[0;32melse\u001b[0m\u001b[0;34m:\u001b[0m\u001b[0;34m\u001b[0m\u001b[0;34m\u001b[0m\u001b[0m\n\u001b[0;32m-> 3970\u001b[0;31m                 \u001b[0mnew_axis\u001b[0m \u001b[0;34m=\u001b[0m \u001b[0maxis\u001b[0m\u001b[0;34m.\u001b[0m\u001b[0mdrop\u001b[0m\u001b[0;34m(\u001b[0m\u001b[0mlabels\u001b[0m\u001b[0;34m,\u001b[0m \u001b[0merrors\u001b[0m\u001b[0;34m=\u001b[0m\u001b[0merrors\u001b[0m\u001b[0;34m)\u001b[0m\u001b[0;34m\u001b[0m\u001b[0;34m\u001b[0m\u001b[0m\n\u001b[0m\u001b[1;32m   3971\u001b[0m             \u001b[0mresult\u001b[0m \u001b[0;34m=\u001b[0m \u001b[0mself\u001b[0m\u001b[0;34m.\u001b[0m\u001b[0mreindex\u001b[0m\u001b[0;34m(\u001b[0m\u001b[0;34m**\u001b[0m\u001b[0;34m{\u001b[0m\u001b[0maxis_name\u001b[0m\u001b[0;34m:\u001b[0m \u001b[0mnew_axis\u001b[0m\u001b[0;34m}\u001b[0m\u001b[0;34m)\u001b[0m\u001b[0;34m\u001b[0m\u001b[0;34m\u001b[0m\u001b[0m\n\u001b[1;32m   3972\u001b[0m \u001b[0;34m\u001b[0m\u001b[0m\n",
      "\u001b[0;32m/opt/anaconda3/lib/python3.7/site-packages/pandas/core/indexes/base.py\u001b[0m in \u001b[0;36mdrop\u001b[0;34m(self, labels, errors)\u001b[0m\n\u001b[1;32m   5016\u001b[0m         \u001b[0;32mif\u001b[0m \u001b[0mmask\u001b[0m\u001b[0;34m.\u001b[0m\u001b[0many\u001b[0m\u001b[0;34m(\u001b[0m\u001b[0;34m)\u001b[0m\u001b[0;34m:\u001b[0m\u001b[0;34m\u001b[0m\u001b[0;34m\u001b[0m\u001b[0m\n\u001b[1;32m   5017\u001b[0m             \u001b[0;32mif\u001b[0m \u001b[0merrors\u001b[0m \u001b[0;34m!=\u001b[0m \u001b[0;34m\"ignore\"\u001b[0m\u001b[0;34m:\u001b[0m\u001b[0;34m\u001b[0m\u001b[0;34m\u001b[0m\u001b[0m\n\u001b[0;32m-> 5018\u001b[0;31m                 \u001b[0;32mraise\u001b[0m \u001b[0mKeyError\u001b[0m\u001b[0;34m(\u001b[0m\u001b[0;34mf\"{labels[mask]} not found in axis\"\u001b[0m\u001b[0;34m)\u001b[0m\u001b[0;34m\u001b[0m\u001b[0;34m\u001b[0m\u001b[0m\n\u001b[0m\u001b[1;32m   5019\u001b[0m             \u001b[0mindexer\u001b[0m \u001b[0;34m=\u001b[0m \u001b[0mindexer\u001b[0m\u001b[0;34m[\u001b[0m\u001b[0;34m~\u001b[0m\u001b[0mmask\u001b[0m\u001b[0;34m]\u001b[0m\u001b[0;34m\u001b[0m\u001b[0;34m\u001b[0m\u001b[0m\n\u001b[1;32m   5020\u001b[0m         \u001b[0;32mreturn\u001b[0m \u001b[0mself\u001b[0m\u001b[0;34m.\u001b[0m\u001b[0mdelete\u001b[0m\u001b[0;34m(\u001b[0m\u001b[0mindexer\u001b[0m\u001b[0;34m)\u001b[0m\u001b[0;34m\u001b[0m\u001b[0;34m\u001b[0m\u001b[0m\n",
      "\u001b[0;31mKeyError\u001b[0m: \"['commande'] not found in axis\""
     ]
    }
   ],
   "source": [
    "df = df_final.drop('commande')"
   ]
  },
  {
   "cell_type": "code",
   "execution_count": null,
   "metadata": {},
   "outputs": [],
   "source": [
    "df_final.columns"
   ]
  },
  {
   "cell_type": "code",
   "execution_count": null,
   "metadata": {},
   "outputs": [],
   "source": [
    "df_final.index"
   ]
  },
  {
   "cell_type": "code",
   "execution_count": null,
   "metadata": {},
   "outputs": [],
   "source": [
    "df_final.index[0]"
   ]
  },
  {
   "cell_type": "code",
   "execution_count": null,
   "metadata": {},
   "outputs": [],
   "source": []
  }
 ],
 "metadata": {
  "kernelspec": {
   "display_name": "Python 3",
   "language": "python",
   "name": "python3"
  },
  "language_info": {
   "codemirror_mode": {
    "name": "ipython",
    "version": 3
   },
   "file_extension": ".py",
   "mimetype": "text/x-python",
   "name": "python",
   "nbconvert_exporter": "python",
   "pygments_lexer": "ipython3",
   "version": "3.7.6"
  }
 },
 "nbformat": 4,
 "nbformat_minor": 4
}
